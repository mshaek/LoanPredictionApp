{
  "nbformat": 4,
  "nbformat_minor": 0,
  "metadata": {
    "colab": {
      "name": "MoneyLion_Repayment_Mahfuzur_part_2.ipynb",
      "provenance": [],
      "collapsed_sections": [],
      "authorship_tag": "ABX9TyOr3Vxqf2RYUmHGt8pbQNu6",
      "include_colab_link": true
    },
    "kernelspec": {
      "name": "python3",
      "display_name": "Python 3"
    },
    "language_info": {
      "name": "python"
    }
  },
  "cells": [
    {
      "cell_type": "markdown",
      "metadata": {
        "id": "view-in-github",
        "colab_type": "text"
      },
      "source": [
        "<a href=\"https://colab.research.google.com/github/mshaek/LoanPredictionApp/blob/main/notebooks/MoneyLion_Repayment_Mahfuzur_part_2.ipynb\" target=\"_parent\"><img src=\"https://colab.research.google.com/assets/colab-badge.svg\" alt=\"Open In Colab\"/></a>"
      ]
    },
    {
      "cell_type": "code",
      "metadata": {
        "id": "2Rbl3N_3oYjJ"
      },
      "source": [
        "#Import important Python Libraries\n",
        "import pandas as pd\n",
        "import numpy as np\n",
        "import matplotlib.pyplot as plt\n",
        "%matplotlib inline\n",
        "import seaborn as sns\n",
        "import warnings\n",
        "warnings.filterwarnings('ignore')"
      ],
      "execution_count": null,
      "outputs": []
    },
    {
      "cell_type": "code",
      "metadata": {
        "colab": {
          "base_uri": "https://localhost:8080/",
          "height": 454
        },
        "id": "jbMprFBPmRON",
        "outputId": "cc575fa3-1f21-43c7-d51c-12e8aad431a2"
      },
      "source": [
        "# Load preprocessed data with merging 'loan' and 'underwriting' dataset\n",
        "data = pd.read_csv('https://raw.githubusercontent.com/mshaek/LoanPredictionApp/main/data/merged.csv')\n",
        "data"
      ],
      "execution_count": null,
      "outputs": [
        {
          "output_type": "execute_result",
          "data": {
            "text/html": [
              "<div>\n",
              "<style scoped>\n",
              "    .dataframe tbody tr th:only-of-type {\n",
              "        vertical-align: middle;\n",
              "    }\n",
              "\n",
              "    .dataframe tbody tr th {\n",
              "        vertical-align: top;\n",
              "    }\n",
              "\n",
              "    .dataframe thead th {\n",
              "        text-align: right;\n",
              "    }\n",
              "</style>\n",
              "<table border=\"1\" class=\"dataframe\">\n",
              "  <thead>\n",
              "    <tr style=\"text-align: right;\">\n",
              "      <th></th>\n",
              "      <th>apr</th>\n",
              "      <th>hasCF</th>\n",
              "      <th>target</th>\n",
              "      <th>clearfraudscore</th>\n",
              "      <th>inquiry.oneminuteago</th>\n",
              "      <th>ssnLoanCount</th>\n",
              "      <th>HoursTaken</th>\n",
              "      <th>log_originallyScheduledPaymentAmount</th>\n",
              "      <th>log_loanAmount</th>\n",
              "      <th>log_nPaidOff</th>\n",
              "      <th>log_leadCost</th>\n",
              "      <th>payFrequency_B</th>\n",
              "      <th>payFrequency_I</th>\n",
              "      <th>payFrequency_M</th>\n",
              "      <th>payFrequency_S</th>\n",
              "      <th>payFrequency_W</th>\n",
              "      <th>state_AK</th>\n",
              "      <th>state_AL</th>\n",
              "      <th>state_AZ</th>\n",
              "      <th>state_CA</th>\n",
              "      <th>state_CO</th>\n",
              "      <th>state_CT</th>\n",
              "      <th>state_DE</th>\n",
              "      <th>state_FL</th>\n",
              "      <th>state_GA</th>\n",
              "      <th>state_HI</th>\n",
              "      <th>state_IA</th>\n",
              "      <th>state_ID</th>\n",
              "      <th>state_IL</th>\n",
              "      <th>state_IN</th>\n",
              "      <th>state_KS</th>\n",
              "      <th>state_KY</th>\n",
              "      <th>state_LA</th>\n",
              "      <th>state_MD</th>\n",
              "      <th>state_MI</th>\n",
              "      <th>state_MN</th>\n",
              "      <th>state_MO</th>\n",
              "      <th>state_MS</th>\n",
              "      <th>state_NC</th>\n",
              "      <th>state_ND</th>\n",
              "      <th>state_NE</th>\n",
              "      <th>state_NJ</th>\n",
              "      <th>state_NM</th>\n",
              "      <th>state_NV</th>\n",
              "      <th>state_OH</th>\n",
              "      <th>state_OK</th>\n",
              "      <th>state_PA</th>\n",
              "      <th>state_RI</th>\n",
              "      <th>state_SC</th>\n",
              "      <th>state_SD</th>\n",
              "      <th>state_TN</th>\n",
              "      <th>state_TX</th>\n",
              "      <th>state_UT</th>\n",
              "      <th>state_VA</th>\n",
              "      <th>state_WA</th>\n",
              "      <th>state_WI</th>\n",
              "      <th>state_WY</th>\n",
              "      <th>leadType_bvMandatory</th>\n",
              "      <th>leadType_california</th>\n",
              "      <th>leadType_express</th>\n",
              "      <th>leadType_instant-offer</th>\n",
              "      <th>leadType_lead</th>\n",
              "      <th>leadType_lionpay</th>\n",
              "      <th>leadType_organic</th>\n",
              "      <th>leadType_prescreen</th>\n",
              "      <th>leadType_rc_returning</th>\n",
              "      <th>leadType_repeat</th>\n",
              "    </tr>\n",
              "  </thead>\n",
              "  <tbody>\n",
              "    <tr>\n",
              "      <th>0</th>\n",
              "      <td>199.0</td>\n",
              "      <td>1</td>\n",
              "      <td>0</td>\n",
              "      <td>879.0</td>\n",
              "      <td>3.0</td>\n",
              "      <td>1</td>\n",
              "      <td>17</td>\n",
              "      <td>8.763458</td>\n",
              "      <td>8.006701</td>\n",
              "      <td>0.000000</td>\n",
              "      <td>0.000000</td>\n",
              "      <td>1</td>\n",
              "      <td>0</td>\n",
              "      <td>0</td>\n",
              "      <td>0</td>\n",
              "      <td>0</td>\n",
              "      <td>0</td>\n",
              "      <td>0</td>\n",
              "      <td>0</td>\n",
              "      <td>1</td>\n",
              "      <td>0</td>\n",
              "      <td>0</td>\n",
              "      <td>0</td>\n",
              "      <td>0</td>\n",
              "      <td>0</td>\n",
              "      <td>0</td>\n",
              "      <td>0</td>\n",
              "      <td>0</td>\n",
              "      <td>0</td>\n",
              "      <td>0</td>\n",
              "      <td>0</td>\n",
              "      <td>0</td>\n",
              "      <td>0</td>\n",
              "      <td>0</td>\n",
              "      <td>0</td>\n",
              "      <td>0</td>\n",
              "      <td>0</td>\n",
              "      <td>0</td>\n",
              "      <td>0</td>\n",
              "      <td>0</td>\n",
              "      <td>0</td>\n",
              "      <td>0</td>\n",
              "      <td>0</td>\n",
              "      <td>0</td>\n",
              "      <td>0</td>\n",
              "      <td>0</td>\n",
              "      <td>0</td>\n",
              "      <td>0</td>\n",
              "      <td>0</td>\n",
              "      <td>0</td>\n",
              "      <td>0</td>\n",
              "      <td>0</td>\n",
              "      <td>0</td>\n",
              "      <td>0</td>\n",
              "      <td>0</td>\n",
              "      <td>0</td>\n",
              "      <td>0</td>\n",
              "      <td>0</td>\n",
              "      <td>0</td>\n",
              "      <td>0</td>\n",
              "      <td>0</td>\n",
              "      <td>0</td>\n",
              "      <td>0</td>\n",
              "      <td>0</td>\n",
              "      <td>1</td>\n",
              "      <td>0</td>\n",
              "      <td>0</td>\n",
              "    </tr>\n",
              "    <tr>\n",
              "      <th>1</th>\n",
              "      <td>490.0</td>\n",
              "      <td>1</td>\n",
              "      <td>0</td>\n",
              "      <td>835.0</td>\n",
              "      <td>1.0</td>\n",
              "      <td>4</td>\n",
              "      <td>0</td>\n",
              "      <td>8.106147</td>\n",
              "      <td>7.131699</td>\n",
              "      <td>1.098612</td>\n",
              "      <td>0.000000</td>\n",
              "      <td>0</td>\n",
              "      <td>0</td>\n",
              "      <td>0</td>\n",
              "      <td>1</td>\n",
              "      <td>0</td>\n",
              "      <td>0</td>\n",
              "      <td>0</td>\n",
              "      <td>0</td>\n",
              "      <td>0</td>\n",
              "      <td>0</td>\n",
              "      <td>0</td>\n",
              "      <td>0</td>\n",
              "      <td>0</td>\n",
              "      <td>0</td>\n",
              "      <td>0</td>\n",
              "      <td>0</td>\n",
              "      <td>0</td>\n",
              "      <td>0</td>\n",
              "      <td>0</td>\n",
              "      <td>0</td>\n",
              "      <td>0</td>\n",
              "      <td>0</td>\n",
              "      <td>0</td>\n",
              "      <td>0</td>\n",
              "      <td>0</td>\n",
              "      <td>1</td>\n",
              "      <td>0</td>\n",
              "      <td>0</td>\n",
              "      <td>0</td>\n",
              "      <td>0</td>\n",
              "      <td>0</td>\n",
              "      <td>0</td>\n",
              "      <td>0</td>\n",
              "      <td>0</td>\n",
              "      <td>0</td>\n",
              "      <td>0</td>\n",
              "      <td>0</td>\n",
              "      <td>0</td>\n",
              "      <td>0</td>\n",
              "      <td>0</td>\n",
              "      <td>0</td>\n",
              "      <td>0</td>\n",
              "      <td>0</td>\n",
              "      <td>0</td>\n",
              "      <td>0</td>\n",
              "      <td>0</td>\n",
              "      <td>0</td>\n",
              "      <td>0</td>\n",
              "      <td>0</td>\n",
              "      <td>0</td>\n",
              "      <td>0</td>\n",
              "      <td>0</td>\n",
              "      <td>1</td>\n",
              "      <td>0</td>\n",
              "      <td>0</td>\n",
              "      <td>0</td>\n",
              "    </tr>\n",
              "    <tr>\n",
              "      <th>2</th>\n",
              "      <td>590.0</td>\n",
              "      <td>1</td>\n",
              "      <td>0</td>\n",
              "      <td>624.0</td>\n",
              "      <td>3.0</td>\n",
              "      <td>1</td>\n",
              "      <td>53</td>\n",
              "      <td>7.796913</td>\n",
              "      <td>6.685861</td>\n",
              "      <td>0.000000</td>\n",
              "      <td>2.397895</td>\n",
              "      <td>1</td>\n",
              "      <td>0</td>\n",
              "      <td>0</td>\n",
              "      <td>0</td>\n",
              "      <td>0</td>\n",
              "      <td>0</td>\n",
              "      <td>0</td>\n",
              "      <td>0</td>\n",
              "      <td>1</td>\n",
              "      <td>0</td>\n",
              "      <td>0</td>\n",
              "      <td>0</td>\n",
              "      <td>0</td>\n",
              "      <td>0</td>\n",
              "      <td>0</td>\n",
              "      <td>0</td>\n",
              "      <td>0</td>\n",
              "      <td>0</td>\n",
              "      <td>0</td>\n",
              "      <td>0</td>\n",
              "      <td>0</td>\n",
              "      <td>0</td>\n",
              "      <td>0</td>\n",
              "      <td>0</td>\n",
              "      <td>0</td>\n",
              "      <td>0</td>\n",
              "      <td>0</td>\n",
              "      <td>0</td>\n",
              "      <td>0</td>\n",
              "      <td>0</td>\n",
              "      <td>0</td>\n",
              "      <td>0</td>\n",
              "      <td>0</td>\n",
              "      <td>0</td>\n",
              "      <td>0</td>\n",
              "      <td>0</td>\n",
              "      <td>0</td>\n",
              "      <td>0</td>\n",
              "      <td>0</td>\n",
              "      <td>0</td>\n",
              "      <td>0</td>\n",
              "      <td>0</td>\n",
              "      <td>0</td>\n",
              "      <td>0</td>\n",
              "      <td>0</td>\n",
              "      <td>0</td>\n",
              "      <td>1</td>\n",
              "      <td>0</td>\n",
              "      <td>0</td>\n",
              "      <td>0</td>\n",
              "      <td>0</td>\n",
              "      <td>0</td>\n",
              "      <td>0</td>\n",
              "      <td>0</td>\n",
              "      <td>0</td>\n",
              "      <td>0</td>\n",
              "    </tr>\n",
              "    <tr>\n",
              "      <th>3</th>\n",
              "      <td>404.1</td>\n",
              "      <td>1</td>\n",
              "      <td>0</td>\n",
              "      <td>770.0</td>\n",
              "      <td>3.0</td>\n",
              "      <td>3</td>\n",
              "      <td>12</td>\n",
              "      <td>6.048884</td>\n",
              "      <td>5.707110</td>\n",
              "      <td>1.386294</td>\n",
              "      <td>0.000000</td>\n",
              "      <td>0</td>\n",
              "      <td>0</td>\n",
              "      <td>0</td>\n",
              "      <td>0</td>\n",
              "      <td>1</td>\n",
              "      <td>0</td>\n",
              "      <td>0</td>\n",
              "      <td>0</td>\n",
              "      <td>0</td>\n",
              "      <td>0</td>\n",
              "      <td>0</td>\n",
              "      <td>0</td>\n",
              "      <td>0</td>\n",
              "      <td>0</td>\n",
              "      <td>0</td>\n",
              "      <td>0</td>\n",
              "      <td>0</td>\n",
              "      <td>0</td>\n",
              "      <td>0</td>\n",
              "      <td>0</td>\n",
              "      <td>0</td>\n",
              "      <td>0</td>\n",
              "      <td>0</td>\n",
              "      <td>0</td>\n",
              "      <td>0</td>\n",
              "      <td>0</td>\n",
              "      <td>0</td>\n",
              "      <td>0</td>\n",
              "      <td>0</td>\n",
              "      <td>0</td>\n",
              "      <td>0</td>\n",
              "      <td>0</td>\n",
              "      <td>0</td>\n",
              "      <td>0</td>\n",
              "      <td>0</td>\n",
              "      <td>0</td>\n",
              "      <td>0</td>\n",
              "      <td>0</td>\n",
              "      <td>0</td>\n",
              "      <td>0</td>\n",
              "      <td>0</td>\n",
              "      <td>0</td>\n",
              "      <td>0</td>\n",
              "      <td>0</td>\n",
              "      <td>1</td>\n",
              "      <td>0</td>\n",
              "      <td>0</td>\n",
              "      <td>0</td>\n",
              "      <td>0</td>\n",
              "      <td>0</td>\n",
              "      <td>0</td>\n",
              "      <td>0</td>\n",
              "      <td>1</td>\n",
              "      <td>0</td>\n",
              "      <td>0</td>\n",
              "      <td>0</td>\n",
              "    </tr>\n",
              "    <tr>\n",
              "      <th>4</th>\n",
              "      <td>315.0</td>\n",
              "      <td>1</td>\n",
              "      <td>1</td>\n",
              "      <td>932.0</td>\n",
              "      <td>1.0</td>\n",
              "      <td>3</td>\n",
              "      <td>0</td>\n",
              "      <td>7.964250</td>\n",
              "      <td>7.313887</td>\n",
              "      <td>1.098612</td>\n",
              "      <td>0.000000</td>\n",
              "      <td>1</td>\n",
              "      <td>0</td>\n",
              "      <td>0</td>\n",
              "      <td>0</td>\n",
              "      <td>0</td>\n",
              "      <td>0</td>\n",
              "      <td>0</td>\n",
              "      <td>0</td>\n",
              "      <td>0</td>\n",
              "      <td>0</td>\n",
              "      <td>0</td>\n",
              "      <td>0</td>\n",
              "      <td>0</td>\n",
              "      <td>0</td>\n",
              "      <td>0</td>\n",
              "      <td>0</td>\n",
              "      <td>0</td>\n",
              "      <td>1</td>\n",
              "      <td>0</td>\n",
              "      <td>0</td>\n",
              "      <td>0</td>\n",
              "      <td>0</td>\n",
              "      <td>0</td>\n",
              "      <td>0</td>\n",
              "      <td>0</td>\n",
              "      <td>0</td>\n",
              "      <td>0</td>\n",
              "      <td>0</td>\n",
              "      <td>0</td>\n",
              "      <td>0</td>\n",
              "      <td>0</td>\n",
              "      <td>0</td>\n",
              "      <td>0</td>\n",
              "      <td>0</td>\n",
              "      <td>0</td>\n",
              "      <td>0</td>\n",
              "      <td>0</td>\n",
              "      <td>0</td>\n",
              "      <td>0</td>\n",
              "      <td>0</td>\n",
              "      <td>0</td>\n",
              "      <td>0</td>\n",
              "      <td>0</td>\n",
              "      <td>0</td>\n",
              "      <td>0</td>\n",
              "      <td>0</td>\n",
              "      <td>0</td>\n",
              "      <td>0</td>\n",
              "      <td>0</td>\n",
              "      <td>0</td>\n",
              "      <td>0</td>\n",
              "      <td>0</td>\n",
              "      <td>1</td>\n",
              "      <td>0</td>\n",
              "      <td>0</td>\n",
              "      <td>0</td>\n",
              "    </tr>\n",
              "    <tr>\n",
              "      <th>...</th>\n",
              "      <td>...</td>\n",
              "      <td>...</td>\n",
              "      <td>...</td>\n",
              "      <td>...</td>\n",
              "      <td>...</td>\n",
              "      <td>...</td>\n",
              "      <td>...</td>\n",
              "      <td>...</td>\n",
              "      <td>...</td>\n",
              "      <td>...</td>\n",
              "      <td>...</td>\n",
              "      <td>...</td>\n",
              "      <td>...</td>\n",
              "      <td>...</td>\n",
              "      <td>...</td>\n",
              "      <td>...</td>\n",
              "      <td>...</td>\n",
              "      <td>...</td>\n",
              "      <td>...</td>\n",
              "      <td>...</td>\n",
              "      <td>...</td>\n",
              "      <td>...</td>\n",
              "      <td>...</td>\n",
              "      <td>...</td>\n",
              "      <td>...</td>\n",
              "      <td>...</td>\n",
              "      <td>...</td>\n",
              "      <td>...</td>\n",
              "      <td>...</td>\n",
              "      <td>...</td>\n",
              "      <td>...</td>\n",
              "      <td>...</td>\n",
              "      <td>...</td>\n",
              "      <td>...</td>\n",
              "      <td>...</td>\n",
              "      <td>...</td>\n",
              "      <td>...</td>\n",
              "      <td>...</td>\n",
              "      <td>...</td>\n",
              "      <td>...</td>\n",
              "      <td>...</td>\n",
              "      <td>...</td>\n",
              "      <td>...</td>\n",
              "      <td>...</td>\n",
              "      <td>...</td>\n",
              "      <td>...</td>\n",
              "      <td>...</td>\n",
              "      <td>...</td>\n",
              "      <td>...</td>\n",
              "      <td>...</td>\n",
              "      <td>...</td>\n",
              "      <td>...</td>\n",
              "      <td>...</td>\n",
              "      <td>...</td>\n",
              "      <td>...</td>\n",
              "      <td>...</td>\n",
              "      <td>...</td>\n",
              "      <td>...</td>\n",
              "      <td>...</td>\n",
              "      <td>...</td>\n",
              "      <td>...</td>\n",
              "      <td>...</td>\n",
              "      <td>...</td>\n",
              "      <td>...</td>\n",
              "      <td>...</td>\n",
              "      <td>...</td>\n",
              "      <td>...</td>\n",
              "    </tr>\n",
              "    <tr>\n",
              "      <th>29513</th>\n",
              "      <td>645.0</td>\n",
              "      <td>1</td>\n",
              "      <td>0</td>\n",
              "      <td>925.0</td>\n",
              "      <td>4.0</td>\n",
              "      <td>1</td>\n",
              "      <td>0</td>\n",
              "      <td>8.539456</td>\n",
              "      <td>7.313887</td>\n",
              "      <td>0.000000</td>\n",
              "      <td>3.258097</td>\n",
              "      <td>1</td>\n",
              "      <td>0</td>\n",
              "      <td>0</td>\n",
              "      <td>0</td>\n",
              "      <td>0</td>\n",
              "      <td>0</td>\n",
              "      <td>0</td>\n",
              "      <td>0</td>\n",
              "      <td>0</td>\n",
              "      <td>0</td>\n",
              "      <td>0</td>\n",
              "      <td>0</td>\n",
              "      <td>0</td>\n",
              "      <td>0</td>\n",
              "      <td>0</td>\n",
              "      <td>0</td>\n",
              "      <td>0</td>\n",
              "      <td>0</td>\n",
              "      <td>0</td>\n",
              "      <td>0</td>\n",
              "      <td>0</td>\n",
              "      <td>0</td>\n",
              "      <td>0</td>\n",
              "      <td>0</td>\n",
              "      <td>0</td>\n",
              "      <td>0</td>\n",
              "      <td>0</td>\n",
              "      <td>0</td>\n",
              "      <td>1</td>\n",
              "      <td>0</td>\n",
              "      <td>0</td>\n",
              "      <td>0</td>\n",
              "      <td>0</td>\n",
              "      <td>0</td>\n",
              "      <td>0</td>\n",
              "      <td>0</td>\n",
              "      <td>0</td>\n",
              "      <td>0</td>\n",
              "      <td>0</td>\n",
              "      <td>0</td>\n",
              "      <td>0</td>\n",
              "      <td>0</td>\n",
              "      <td>0</td>\n",
              "      <td>0</td>\n",
              "      <td>0</td>\n",
              "      <td>0</td>\n",
              "      <td>0</td>\n",
              "      <td>0</td>\n",
              "      <td>0</td>\n",
              "      <td>0</td>\n",
              "      <td>1</td>\n",
              "      <td>0</td>\n",
              "      <td>0</td>\n",
              "      <td>0</td>\n",
              "      <td>0</td>\n",
              "      <td>0</td>\n",
              "    </tr>\n",
              "    <tr>\n",
              "      <th>29514</th>\n",
              "      <td>565.0</td>\n",
              "      <td>0</td>\n",
              "      <td>0</td>\n",
              "      <td>763.5</td>\n",
              "      <td>3.0</td>\n",
              "      <td>1</td>\n",
              "      <td>0</td>\n",
              "      <td>7.421285</td>\n",
              "      <td>6.398595</td>\n",
              "      <td>1.386294</td>\n",
              "      <td>0.000000</td>\n",
              "      <td>1</td>\n",
              "      <td>0</td>\n",
              "      <td>0</td>\n",
              "      <td>0</td>\n",
              "      <td>0</td>\n",
              "      <td>0</td>\n",
              "      <td>0</td>\n",
              "      <td>0</td>\n",
              "      <td>1</td>\n",
              "      <td>0</td>\n",
              "      <td>0</td>\n",
              "      <td>0</td>\n",
              "      <td>0</td>\n",
              "      <td>0</td>\n",
              "      <td>0</td>\n",
              "      <td>0</td>\n",
              "      <td>0</td>\n",
              "      <td>0</td>\n",
              "      <td>0</td>\n",
              "      <td>0</td>\n",
              "      <td>0</td>\n",
              "      <td>0</td>\n",
              "      <td>0</td>\n",
              "      <td>0</td>\n",
              "      <td>0</td>\n",
              "      <td>0</td>\n",
              "      <td>0</td>\n",
              "      <td>0</td>\n",
              "      <td>0</td>\n",
              "      <td>0</td>\n",
              "      <td>0</td>\n",
              "      <td>0</td>\n",
              "      <td>0</td>\n",
              "      <td>0</td>\n",
              "      <td>0</td>\n",
              "      <td>0</td>\n",
              "      <td>0</td>\n",
              "      <td>0</td>\n",
              "      <td>0</td>\n",
              "      <td>0</td>\n",
              "      <td>0</td>\n",
              "      <td>0</td>\n",
              "      <td>0</td>\n",
              "      <td>0</td>\n",
              "      <td>0</td>\n",
              "      <td>0</td>\n",
              "      <td>0</td>\n",
              "      <td>0</td>\n",
              "      <td>0</td>\n",
              "      <td>0</td>\n",
              "      <td>0</td>\n",
              "      <td>0</td>\n",
              "      <td>0</td>\n",
              "      <td>0</td>\n",
              "      <td>1</td>\n",
              "      <td>0</td>\n",
              "    </tr>\n",
              "    <tr>\n",
              "      <th>29515</th>\n",
              "      <td>645.0</td>\n",
              "      <td>1</td>\n",
              "      <td>0</td>\n",
              "      <td>700.0</td>\n",
              "      <td>3.0</td>\n",
              "      <td>1</td>\n",
              "      <td>0</td>\n",
              "      <td>6.950240</td>\n",
              "      <td>5.929589</td>\n",
              "      <td>0.000000</td>\n",
              "      <td>3.258097</td>\n",
              "      <td>0</td>\n",
              "      <td>0</td>\n",
              "      <td>1</td>\n",
              "      <td>0</td>\n",
              "      <td>0</td>\n",
              "      <td>0</td>\n",
              "      <td>1</td>\n",
              "      <td>0</td>\n",
              "      <td>0</td>\n",
              "      <td>0</td>\n",
              "      <td>0</td>\n",
              "      <td>0</td>\n",
              "      <td>0</td>\n",
              "      <td>0</td>\n",
              "      <td>0</td>\n",
              "      <td>0</td>\n",
              "      <td>0</td>\n",
              "      <td>0</td>\n",
              "      <td>0</td>\n",
              "      <td>0</td>\n",
              "      <td>0</td>\n",
              "      <td>0</td>\n",
              "      <td>0</td>\n",
              "      <td>0</td>\n",
              "      <td>0</td>\n",
              "      <td>0</td>\n",
              "      <td>0</td>\n",
              "      <td>0</td>\n",
              "      <td>0</td>\n",
              "      <td>0</td>\n",
              "      <td>0</td>\n",
              "      <td>0</td>\n",
              "      <td>0</td>\n",
              "      <td>0</td>\n",
              "      <td>0</td>\n",
              "      <td>0</td>\n",
              "      <td>0</td>\n",
              "      <td>0</td>\n",
              "      <td>0</td>\n",
              "      <td>0</td>\n",
              "      <td>0</td>\n",
              "      <td>0</td>\n",
              "      <td>0</td>\n",
              "      <td>0</td>\n",
              "      <td>0</td>\n",
              "      <td>0</td>\n",
              "      <td>0</td>\n",
              "      <td>0</td>\n",
              "      <td>0</td>\n",
              "      <td>0</td>\n",
              "      <td>1</td>\n",
              "      <td>0</td>\n",
              "      <td>0</td>\n",
              "      <td>0</td>\n",
              "      <td>0</td>\n",
              "      <td>0</td>\n",
              "    </tr>\n",
              "    <tr>\n",
              "      <th>29516</th>\n",
              "      <td>449.0</td>\n",
              "      <td>1</td>\n",
              "      <td>0</td>\n",
              "      <td>806.0</td>\n",
              "      <td>3.0</td>\n",
              "      <td>1</td>\n",
              "      <td>20</td>\n",
              "      <td>6.499967</td>\n",
              "      <td>5.993961</td>\n",
              "      <td>0.000000</td>\n",
              "      <td>3.713572</td>\n",
              "      <td>1</td>\n",
              "      <td>0</td>\n",
              "      <td>0</td>\n",
              "      <td>0</td>\n",
              "      <td>0</td>\n",
              "      <td>0</td>\n",
              "      <td>0</td>\n",
              "      <td>0</td>\n",
              "      <td>0</td>\n",
              "      <td>0</td>\n",
              "      <td>0</td>\n",
              "      <td>0</td>\n",
              "      <td>0</td>\n",
              "      <td>0</td>\n",
              "      <td>0</td>\n",
              "      <td>0</td>\n",
              "      <td>0</td>\n",
              "      <td>0</td>\n",
              "      <td>0</td>\n",
              "      <td>0</td>\n",
              "      <td>0</td>\n",
              "      <td>0</td>\n",
              "      <td>0</td>\n",
              "      <td>0</td>\n",
              "      <td>0</td>\n",
              "      <td>0</td>\n",
              "      <td>0</td>\n",
              "      <td>0</td>\n",
              "      <td>0</td>\n",
              "      <td>0</td>\n",
              "      <td>0</td>\n",
              "      <td>0</td>\n",
              "      <td>0</td>\n",
              "      <td>0</td>\n",
              "      <td>0</td>\n",
              "      <td>0</td>\n",
              "      <td>0</td>\n",
              "      <td>0</td>\n",
              "      <td>0</td>\n",
              "      <td>0</td>\n",
              "      <td>0</td>\n",
              "      <td>0</td>\n",
              "      <td>0</td>\n",
              "      <td>0</td>\n",
              "      <td>1</td>\n",
              "      <td>0</td>\n",
              "      <td>0</td>\n",
              "      <td>0</td>\n",
              "      <td>0</td>\n",
              "      <td>0</td>\n",
              "      <td>1</td>\n",
              "      <td>0</td>\n",
              "      <td>0</td>\n",
              "      <td>0</td>\n",
              "      <td>0</td>\n",
              "      <td>0</td>\n",
              "    </tr>\n",
              "    <tr>\n",
              "      <th>29517</th>\n",
              "      <td>645.0</td>\n",
              "      <td>1</td>\n",
              "      <td>0</td>\n",
              "      <td>827.0</td>\n",
              "      <td>1.0</td>\n",
              "      <td>1</td>\n",
              "      <td>2</td>\n",
              "      <td>6.942524</td>\n",
              "      <td>5.707110</td>\n",
              "      <td>0.000000</td>\n",
              "      <td>1.945910</td>\n",
              "      <td>0</td>\n",
              "      <td>0</td>\n",
              "      <td>0</td>\n",
              "      <td>0</td>\n",
              "      <td>1</td>\n",
              "      <td>0</td>\n",
              "      <td>0</td>\n",
              "      <td>0</td>\n",
              "      <td>0</td>\n",
              "      <td>0</td>\n",
              "      <td>1</td>\n",
              "      <td>0</td>\n",
              "      <td>0</td>\n",
              "      <td>0</td>\n",
              "      <td>0</td>\n",
              "      <td>0</td>\n",
              "      <td>0</td>\n",
              "      <td>0</td>\n",
              "      <td>0</td>\n",
              "      <td>0</td>\n",
              "      <td>0</td>\n",
              "      <td>0</td>\n",
              "      <td>0</td>\n",
              "      <td>0</td>\n",
              "      <td>0</td>\n",
              "      <td>0</td>\n",
              "      <td>0</td>\n",
              "      <td>0</td>\n",
              "      <td>0</td>\n",
              "      <td>0</td>\n",
              "      <td>0</td>\n",
              "      <td>0</td>\n",
              "      <td>0</td>\n",
              "      <td>0</td>\n",
              "      <td>0</td>\n",
              "      <td>0</td>\n",
              "      <td>0</td>\n",
              "      <td>0</td>\n",
              "      <td>0</td>\n",
              "      <td>0</td>\n",
              "      <td>0</td>\n",
              "      <td>0</td>\n",
              "      <td>0</td>\n",
              "      <td>0</td>\n",
              "      <td>0</td>\n",
              "      <td>0</td>\n",
              "      <td>0</td>\n",
              "      <td>0</td>\n",
              "      <td>0</td>\n",
              "      <td>0</td>\n",
              "      <td>1</td>\n",
              "      <td>0</td>\n",
              "      <td>0</td>\n",
              "      <td>0</td>\n",
              "      <td>0</td>\n",
              "      <td>0</td>\n",
              "    </tr>\n",
              "  </tbody>\n",
              "</table>\n",
              "<p>29518 rows × 67 columns</p>\n",
              "</div>"
            ],
            "text/plain": [
              "         apr  hasCF  ...  leadType_rc_returning  leadType_repeat\n",
              "0      199.0      1  ...                      0                0\n",
              "1      490.0      1  ...                      0                0\n",
              "2      590.0      1  ...                      0                0\n",
              "3      404.1      1  ...                      0                0\n",
              "4      315.0      1  ...                      0                0\n",
              "...      ...    ...  ...                    ...              ...\n",
              "29513  645.0      1  ...                      0                0\n",
              "29514  565.0      0  ...                      1                0\n",
              "29515  645.0      1  ...                      0                0\n",
              "29516  449.0      1  ...                      0                0\n",
              "29517  645.0      1  ...                      0                0\n",
              "\n",
              "[29518 rows x 67 columns]"
            ]
          },
          "metadata": {
            "tags": []
          },
          "execution_count": 56
        }
      ]
    },
    {
      "cell_type": "code",
      "metadata": {
        "id": "_o2d_CBMwbU0"
      },
      "source": [
        "# Separate input features and target\n",
        "x_data = data.drop(columns=['target'])\n",
        "y_data = data['target'].astype('category')"
      ],
      "execution_count": null,
      "outputs": []
    },
    {
      "cell_type": "code",
      "metadata": {
        "id": "Y1aWrpTkwbU0"
      },
      "source": [
        "# Shuffle and split data into 70% in training and 30% in testing\n",
        "from sklearn.model_selection import train_test_split\n",
        "xtrain, xtest, ytrain, ytest = train_test_split(x_data, y_data,random_state=123, test_size=0.30)\n"
      ],
      "execution_count": null,
      "outputs": []
    },
    {
      "cell_type": "code",
      "metadata": {
        "id": "r8Fm9-WnPptN"
      },
      "source": [
        "# Create a dictionary to store accuracy and AUC scores of all models for visualization later\n",
        "model_scores = {}"
      ],
      "execution_count": null,
      "outputs": []
    },
    {
      "cell_type": "code",
      "metadata": {
        "id": "CMCijIERLyUq"
      },
      "source": [
        "# Data Scaling is important for Neural Networks to prevent overfitting and exploding/vanishing gradient\n",
        "from sklearn.preprocessing import StandardScaler\n",
        "# created scaler\n",
        "scaler = StandardScaler()\n",
        "# fit and transform training dataset\n",
        "xtrain= scaler.fit_transform(xtrain)\n",
        "# transform test dataset\n",
        "xtest= scaler.transform(xtest)\n"
      ],
      "execution_count": null,
      "outputs": []
    },
    {
      "cell_type": "code",
      "metadata": {
        "id": "HmBfWVoEBIfd"
      },
      "source": [
        "# Data Scaling is important for Neural Networks to prevent overfitting and exploding/vanishing gradient\n",
        "from sklearn.preprocessing import QuantileTransformer\n",
        "# created scaler\n",
        "scaler = QuantileTransformer(output_distribution= 'normal', random_state=0)\n",
        "# fit and transform training dataset\n",
        "xtrain= scaler.fit_transform(xtrain)\n",
        "# transform test dataset\n",
        "xtest= scaler.transform(xtest)"
      ],
      "execution_count": null,
      "outputs": []
    },
    {
      "cell_type": "code",
      "metadata": {
        "colab": {
          "base_uri": "https://localhost:8080/"
        },
        "id": "LScDCMW9VLgK",
        "outputId": "f3eda003-ad78-4d53-d1c4-0a18265fa12b"
      },
      "source": [
        "xtrain"
      ],
      "execution_count": null,
      "outputs": [
        {
          "output_type": "execute_result",
          "data": {
            "text/plain": [
              "array([[-1.38462826,  5.19933758,  0.70392179, ...,  5.19933758,\n",
              "        -5.19933758, -5.19933758],\n",
              "       [ 0.21235277,  5.19933758,  0.09045214, ..., -5.19933758,\n",
              "        -5.19933758, -5.19933758],\n",
              "       [-0.54378913,  5.19933758,  0.67843252, ..., -5.19933758,\n",
              "        -5.19933758, -5.19933758],\n",
              "       ...,\n",
              "       [-1.38462826,  5.19933758, -1.70557043, ..., -5.19933758,\n",
              "        -5.19933758, -5.19933758],\n",
              "       [-1.38462826,  5.19933758, -0.34814974, ..., -5.19933758,\n",
              "        -5.19933758, -5.19933758],\n",
              "       [-2.60672716,  5.19933758, -1.24206057, ..., -5.19933758,\n",
              "        -5.19933758, -5.19933758]])"
            ]
          },
          "metadata": {
            "tags": []
          },
          "execution_count": 62
        }
      ]
    },
    {
      "cell_type": "markdown",
      "metadata": {
        "id": "9xjqKNagwbU0"
      },
      "source": [
        "## Data Modelling and Parameter Tuning\n",
        "* 4 models has been used to perform data modelling. These are Random Forest, XGBoost, Logistic Regression and Neural Networks.\n",
        "* Feature selection is not needed for Random Forest and XGBoost.\n",
        "* Random Forest and XGBoost are robust to the outliers\n",
        "* Confusion Matrix will be shown and Cross-validation will be performed. \n",
        "* Model Performance will be compared using AUC score on validation dataset"
      ]
    },
    {
      "cell_type": "code",
      "metadata": {
        "id": "UGWkeciswbU1"
      },
      "source": [
        "# function for evaluation metrics\n",
        "def model_evaluation(model, ytest, y_pred, plot=False):\n",
        "   \n",
        "# Confusion Marix and Visualisations\n",
        "    confusion = confusion_matrix(ytest, y_pred)\n",
        "    TP = confusion[1, 1]\n",
        "    TN = confusion[0, 0]\n",
        "    FP = confusion[0, 1]\n",
        "    FN = confusion[1, 0]\n",
        "    sns.heatmap(confusion,annot=True,fmt=\"d\") \n",
        "    plt.title('Confusion Matrix')\n",
        "    plt.xlabel('Predicted')\n",
        "    plt.ylabel('Actual')\n",
        "    plt.show()\n",
        "    \n",
        "    accuracy = metrics.accuracy_score(ytest, y_pred)\n",
        "    print('TP:', TP)\n",
        "    print('TN:', TN)\n",
        "    print('FP:', FP)\n",
        "    print('FN:', FN)\n",
        "    \n",
        "    AUC= metrics.roc_auc_score(ytest, y_pred)\n",
        "    #CV_AUC = cross_val_score(model, x_data, y_data, cv=10, scoring='roc_auc').mean()\n",
        "    print('Classification Accuracy:', accuracy)    \n",
        "    print('F1 Score:',f1_score(ytest, y_pred))\n",
        "    print('AUC Score:',AUC)\n",
        "    #print('Cross-validated AUC:', CV_AUC)\n",
        "  \n",
        "    return accuracy, AUC"
      ],
      "execution_count": null,
      "outputs": []
    },
    {
      "cell_type": "markdown",
      "metadata": {
        "id": "BXsib4JVwbU1"
      },
      "source": [
        "## Random Forest"
      ]
    },
    {
      "cell_type": "code",
      "metadata": {
        "id": "Ekj_i652wbU1",
        "colab": {
          "base_uri": "https://localhost:8080/"
        },
        "outputId": "5a5f9bf8-73ce-41de-b26b-78ae8ba1cbdb"
      },
      "source": [
        "from sklearn.ensemble import RandomForestClassifier, ExtraTreesClassifier\n",
        "from sklearn import metrics\n",
        "from sklearn.metrics import accuracy_score, roc_auc_score,log_loss,f1_score,confusion_matrix\n",
        "from sklearn.model_selection import cross_val_score\n",
        "\n",
        "# Building and fitting random_forest\n",
        "random_forest =RandomForestClassifier(max_depth = None, min_samples_leaf=8, min_samples_split=2, n_estimators = 50, random_state = 123)\n",
        "random_forest.fit(xtrain, ytrain)"
      ],
      "execution_count": null,
      "outputs": [
        {
          "output_type": "execute_result",
          "data": {
            "text/plain": [
              "RandomForestClassifier(bootstrap=True, ccp_alpha=0.0, class_weight=None,\n",
              "                       criterion='gini', max_depth=None, max_features='auto',\n",
              "                       max_leaf_nodes=None, max_samples=None,\n",
              "                       min_impurity_decrease=0.0, min_impurity_split=None,\n",
              "                       min_samples_leaf=8, min_samples_split=2,\n",
              "                       min_weight_fraction_leaf=0.0, n_estimators=50,\n",
              "                       n_jobs=None, oob_score=False, random_state=123,\n",
              "                       verbose=0, warm_start=False)"
            ]
          },
          "metadata": {
            "tags": []
          },
          "execution_count": 64
        }
      ]
    },
    {
      "cell_type": "code",
      "metadata": {
        "colab": {
          "base_uri": "https://localhost:8080/",
          "height": 910
        },
        "id": "Zui6gNHHzdh0",
        "outputId": "43b42017-d75d-4dbf-c09d-6fef1c680117"
      },
      "source": [
        "print('########### Random Forests ###############')\n",
        "feat_imp = pd.DataFrame({'importance':random_forest.feature_importances_})    \n",
        "feat_imp['feature'] = x_data.columns\n",
        "feat_imp.sort_values(by='importance', inplace=True)\n",
        "feat_imp = feat_imp.set_index('feature', drop=True)\n",
        "feat_imp.plot.barh(title=\"Feature Importances\", figsize=(10,15))\n",
        "plt.xlabel('Feature Importance Score')\n",
        "plt.show()"
      ],
      "execution_count": null,
      "outputs": [
        {
          "output_type": "stream",
          "text": [
            "########### Random Forests ###############\n"
          ],
          "name": "stdout"
        },
        {
          "output_type": "display_data",
          "data": {
            "image/png": "[encoded data removed]",
            "text/plain": [
              "<Figure size 720x1080 with 1 Axes>"
            ]
          },
          "metadata": {
            "tags": [],
            "needs_background": "light"
          }
        }
      ]
    },
    {
      "cell_type": "code",
      "metadata": {
        "id": "v2bPOHFTzXMJ"
      },
      "source": [
        "# make class predictions for the testing set\n",
        "y_pred_class_rf = random_forest.predict(xtest)"
      ],
      "execution_count": null,
      "outputs": []
    },
    {
      "cell_type": "code",
      "metadata": {
        "id": "9EwwYE0zzEV_",
        "colab": {
          "base_uri": "https://localhost:8080/",
          "height": 418
        },
        "outputId": "014c63df-7c53-4d65-eeda-8a309fa076f8"
      },
      "source": [
        "accuracy_score_random_forest = model_evaluation(random_forest, ytest, y_pred_class_rf, True)\n",
        "\n",
        "model_scores['Random Forest'] = accuracy_score_random_forest[1] * 100"
      ],
      "execution_count": null,
      "outputs": [
        {
          "output_type": "display_data",
          "data": {
            "image/png": "[encoded data removed]",
            "text/plain": [
              "<Figure size 432x288 with 2 Axes>"
            ]
          },
          "metadata": {
            "tags": [],
            "needs_background": "light"
          }
        },
        {
          "output_type": "stream",
          "text": [
            "TP: 4461\n",
            "TN: 2062\n",
            "FP: 1579\n",
            "FN: 754\n",
            "Classification Accuracy: 0.7365627822944896\n",
            "F1 Score: 0.792714349178143\n",
            "AUC Score: 0.7108724990210827\n"
          ],
          "name": "stdout"
        }
      ]
    },
    {
      "cell_type": "markdown",
      "metadata": {
        "id": "lecU6HlYwbU1"
      },
      "source": [
        "## XGBoost"
      ]
    },
    {
      "cell_type": "code",
      "metadata": {
        "colab": {
          "base_uri": "https://localhost:8080/"
        },
        "id": "1AYqoh_KA_3h",
        "outputId": "9d912e81-de7c-49ce-f404-c38b09498c88"
      },
      "source": [
        "from scipy.stats import randint\n",
        "from scipy.stats import uniform\n",
        "from xgboost import XGBClassifier\n",
        "from sklearn.model_selection import RandomizedSearchCV\n",
        "xgModel = XGBClassifier()\n",
        "xgModel.fit(xtrain, ytrain)\n"
      ],
      "execution_count": null,
      "outputs": [
        {
          "output_type": "execute_result",
          "data": {
            "text/plain": [
              "XGBClassifier(base_score=0.5, booster='gbtree', colsample_bylevel=1,\n",
              "              colsample_bynode=1, colsample_bytree=1, gamma=0,\n",
              "              learning_rate=0.1, max_delta_step=0, max_depth=3,\n",
              "              min_child_weight=1, missing=None, n_estimators=100, n_jobs=1,\n",
              "              nthread=None, objective='binary:logistic', random_state=0,\n",
              "              reg_alpha=0, reg_lambda=1, scale_pos_weight=1, seed=None,\n",
              "              silent=None, subsample=1, verbosity=1)"
            ]
          },
          "metadata": {
            "tags": []
          },
          "execution_count": 68
        }
      ]
    },
    {
      "cell_type": "code",
      "metadata": {
        "id": "_JBTpoxAzrdd",
        "colab": {
          "base_uri": "https://localhost:8080/",
          "height": 910
        },
        "outputId": "287a6782-efef-417c-b677-65ed3ab11cbb"
      },
      "source": [
        "print('########### XGBoost ###############')\n",
        "feat_imp = pd.DataFrame({'importance':xgModel.feature_importances_})    \n",
        "feat_imp['feature'] = x_data.columns\n",
        "feat_imp.sort_values(by='importance', ascending=True, inplace=True)\n",
        "\n",
        "feat_imp = feat_imp.set_index('feature', drop=True)\n",
        "feat_imp.plot.barh(title=\"Feature Importances\", figsize=(10,15))\n",
        "plt.xlabel('Feature Importance Score')\n",
        "plt.show()"
      ],
      "execution_count": null,
      "outputs": [
        {
          "output_type": "stream",
          "text": [
            "########### XGBoost ###############\n"
          ],
          "name": "stdout"
        },
        {
          "output_type": "display_data",
          "data": {
            "image/png": "[encoded data removed]",
            "text/plain": [
              "<Figure size 720x1080 with 1 Axes>"
            ]
          },
          "metadata": {
            "tags": [],
            "needs_background": "light"
          }
        }
      ]
    },
    {
      "cell_type": "code",
      "metadata": {
        "id": "GyYfHoBnwN4y",
        "colab": {
          "base_uri": "https://localhost:8080/",
          "height": 418
        },
        "outputId": "50b12e85-8499-4887-b578-6bcb484c662b"
      },
      "source": [
        "# make class predictions for the testing set\n",
        "y_pred_xgModel = xgModel.predict(xtest)\n",
        "\n",
        "accuracy_score = model_evaluation(xgModel, ytest, y_pred_xgModel, True)\n",
        "\n",
        "model_scores['XGBClassifier'] = accuracy_score[1] * 100"
      ],
      "execution_count": null,
      "outputs": [
        {
          "output_type": "display_data",
          "data": {
            "image/png": "[encoded data removed]",
            "text/plain": [
              "<Figure size 432x288 with 2 Axes>"
            ]
          },
          "metadata": {
            "tags": [],
            "needs_background": "light"
          }
        },
        {
          "output_type": "stream",
          "text": [
            "TP: 4529\n",
            "TN: 1976\n",
            "FP: 1665\n",
            "FN: 686\n",
            "Classification Accuracy: 0.7345302619692864\n",
            "F1 Score: 0.7939346130248051\n",
            "AUC Score: 0.7055822115393479\n"
          ],
          "name": "stdout"
        }
      ]
    },
    {
      "cell_type": "code",
      "metadata": {
        "id": "U33MpAo0wbU1"
      },
      "source": [
        "#Hyperparameter tuning of XGBoost Classifier\n",
        "param_distributions={'max_depth': np.arange(1, 5,1),\n",
        "                    'subsample': uniform(0.25, 0.75),\n",
        "                    'colsample_bytree': uniform(0.25, 0.75),\n",
        "                    \"learning_rate\": [0.05, 0.1,0.16]\n",
        "                    }\n",
        "\n",
        "rs = RandomizedSearchCV(xgModel,\n",
        "                        param_distributions,\n",
        "                        cv=10,\n",
        "                        n_iter=10,\n",
        "                        scoring=\"accuracy\",\n",
        "                        n_jobs=1,\n",
        "                        verbose=False,\n",
        "                        random_state=123)\n",
        "rs.fit(xtrain, ytrain)\n",
        "y_pred_xgModel_cv = rs.predict(xtest)\n"
      ],
      "execution_count": null,
      "outputs": []
    },
    {
      "cell_type": "code",
      "metadata": {
        "id": "UwrWJFq6BlOF",
        "colab": {
          "base_uri": "https://localhost:8080/",
          "height": 418
        },
        "outputId": "0ac5340f-2b29-4d0d-e70e-1d52faeb84c6"
      },
      "source": [
        "model_score_xgboost_cv= model_evaluation(rs, ytest, y_pred_xgModel_cv, True)\n",
        "model_scores['XGBoost_CV'] = model_score_xgboost_cv[1] * 100"
      ],
      "execution_count": null,
      "outputs": [
        {
          "output_type": "display_data",
          "data": {
            "image/png": "[encoded data removed]",
            "text/plain": [
              "<Figure size 432x288 with 2 Axes>"
            ]
          },
          "metadata": {
            "tags": [],
            "needs_background": "light"
          }
        },
        {
          "output_type": "stream",
          "text": [
            "TP: 4541\n",
            "TN: 1985\n",
            "FP: 1656\n",
            "FN: 674\n",
            "Classification Accuracy: 0.7369015356820234\n",
            "F1 Score: 0.7958289519803715\n",
            "AUC Score: 0.7079686630610209\n"
          ],
          "name": "stdout"
        }
      ]
    },
    {
      "cell_type": "code",
      "metadata": {
        "id": "Eo1U8g22A0Ju",
        "colab": {
          "base_uri": "https://localhost:8080/"
        },
        "outputId": "29af9858-c8e6-4ae5-b39c-faf5dbc15c48"
      },
      "source": [
        "rs.best_params_"
      ],
      "execution_count": null,
      "outputs": [
        {
          "output_type": "execute_result",
          "data": {
            "text/plain": [
              "{'colsample_bytree': 0.5507631674959026,\n",
              " 'learning_rate': 0.05,\n",
              " 'max_depth': 4,\n",
              " 'subsample': 0.4931131700346558}"
            ]
          },
          "metadata": {
            "tags": []
          },
          "execution_count": 73
        }
      ]
    },
    {
      "cell_type": "code",
      "metadata": {
        "id": "m4ear73mI9zy",
        "colab": {
          "base_uri": "https://localhost:8080/",
          "height": 265
        },
        "outputId": "cb366b41-ca79-407c-8032-fb7c7dac3915"
      },
      "source": [
        "#plot graph of feature importances for better visualization\n",
        "from xgboost import plot_importance\n",
        "feat_importances = pd.Series(xgModel.feature_importances_, index=x_data.columns)\n",
        "feat_importances.nlargest(20).plot(kind='barh')\n",
        "plt.show()"
      ],
      "execution_count": null,
      "outputs": [
        {
          "output_type": "display_data",
          "data": {
            "image/png": "[encoded data removed]",
            "text/plain": [
              "<Figure size 432x288 with 1 Axes>"
            ]
          },
          "metadata": {
            "tags": [],
            "needs_background": "light"
          }
        }
      ]
    },
    {
      "cell_type": "code",
      "metadata": {
        "id": "gJ-Dor8wwbU2",
        "colab": {
          "base_uri": "https://localhost:8080/"
        },
        "outputId": "c14035ce-6cf0-455d-ef9e-4f21f1475bdb"
      },
      "source": [
        "rs.best_params_"
      ],
      "execution_count": null,
      "outputs": [
        {
          "output_type": "execute_result",
          "data": {
            "text/plain": [
              "{'colsample_bytree': 0.5507631674959026,\n",
              " 'learning_rate': 0.05,\n",
              " 'max_depth': 4,\n",
              " 'subsample': 0.4931131700346558}"
            ]
          },
          "metadata": {
            "tags": []
          },
          "execution_count": 75
        }
      ]
    },
    {
      "cell_type": "markdown",
      "metadata": {
        "id": "n51y3vbVwbU2"
      },
      "source": [
        "## Logistic Regression"
      ]
    },
    {
      "cell_type": "code",
      "metadata": {
        "id": "-w80I-cAwbU2",
        "colab": {
          "base_uri": "https://localhost:8080/"
        },
        "outputId": "c6a017c7-7b0e-4745-833e-749155a639db"
      },
      "source": [
        "from sklearn.linear_model import LogisticRegression\n",
        "logistic_reg= LogisticRegression()\n",
        "logistic_reg.fit(xtrain, ytrain)\n",
        "y_pred_class = logistic_reg.predict(xtest)\n",
        "logistic_reg.score(xtest,ytest)"
      ],
      "execution_count": null,
      "outputs": [
        {
          "output_type": "execute_result",
          "data": {
            "text/plain": [
              "0.7250451671183379"
            ]
          },
          "metadata": {
            "tags": []
          },
          "execution_count": 76
        }
      ]
    },
    {
      "cell_type": "code",
      "metadata": {
        "id": "j_TJ9MSV3wEZ",
        "colab": {
          "base_uri": "https://localhost:8080/",
          "height": 1000
        },
        "outputId": "2a74387a-fd9a-4701-f357-5d85a6b54535"
      },
      "source": [
        "# get importance\n",
        "importance = logistic_reg.coef_[0]\n",
        "# summarize feature importance\n",
        "for i,v in enumerate(importance):\n",
        "\tprint('Feature: %0d, Score: %.5f' % (i,v))\n",
        "# plot feature importance\n",
        "plt.bar([x for x in range(len(importance))], importance)\n",
        "plt.show()"
      ],
      "execution_count": null,
      "outputs": [
        {
          "output_type": "stream",
          "text": [
            "Feature: 0, Score: -0.04557\n",
            "Feature: 1, Score: -0.02499\n",
            "Feature: 2, Score: -0.56114\n",
            "Feature: 3, Score: 0.01660\n",
            "Feature: 4, Score: -0.37346\n",
            "Feature: 5, Score: -0.00994\n",
            "Feature: 6, Score: 0.56899\n",
            "Feature: 7, Score: -0.23736\n",
            "Feature: 8, Score: 0.08365\n",
            "Feature: 9, Score: -0.10088\n",
            "Feature: 10, Score: 0.02058\n",
            "Feature: 11, Score: -0.03463\n",
            "Feature: 12, Score: 0.00289\n",
            "Feature: 13, Score: 0.01030\n",
            "Feature: 14, Score: 0.03012\n",
            "Feature: 15, Score: 0.22514\n",
            "Feature: 16, Score: -0.00770\n",
            "Feature: 17, Score: -0.00771\n",
            "Feature: 18, Score: -0.00717\n",
            "Feature: 19, Score: 0.09082\n",
            "Feature: 20, Score: 0.00406\n",
            "Feature: 21, Score: 0.06408\n",
            "Feature: 22, Score: -0.00229\n",
            "Feature: 23, Score: -0.02293\n",
            "Feature: 24, Score: -0.00440\n",
            "Feature: 25, Score: 0.05269\n",
            "Feature: 26, Score: 0.23006\n",
            "Feature: 27, Score: -0.03250\n",
            "Feature: 28, Score: -0.04235\n",
            "Feature: 29, Score: 0.01099\n",
            "Feature: 30, Score: -0.00522\n",
            "Feature: 31, Score: -0.01369\n",
            "Feature: 32, Score: -0.08120\n",
            "Feature: 33, Score: -0.03989\n",
            "Feature: 34, Score: -0.03373\n",
            "Feature: 35, Score: -0.01537\n",
            "Feature: 36, Score: 0.03323\n",
            "Feature: 37, Score: -0.08022\n",
            "Feature: 38, Score: 0.01239\n",
            "Feature: 39, Score: -0.03081\n",
            "Feature: 40, Score: 0.01119\n",
            "Feature: 41, Score: -0.00944\n",
            "Feature: 42, Score: -0.01026\n",
            "Feature: 43, Score: -0.01621\n",
            "Feature: 44, Score: 0.03634\n",
            "Feature: 45, Score: -0.00611\n",
            "Feature: 46, Score: 0.01053\n",
            "Feature: 47, Score: -0.02820\n",
            "Feature: 48, Score: 0.02151\n",
            "Feature: 49, Score: -0.00571\n",
            "Feature: 50, Score: 0.01032\n",
            "Feature: 51, Score: -0.00797\n",
            "Feature: 52, Score: 0.10612\n",
            "Feature: 53, Score: -0.01344\n",
            "Feature: 54, Score: -0.01912\n",
            "Feature: 55, Score: 0.00470\n",
            "Feature: 56, Score: 0.18540\n",
            "Feature: 57, Score: 0.10488\n",
            "Feature: 58, Score: -0.18018\n",
            "Feature: 59, Score: -0.07460\n",
            "Feature: 60, Score: 0.20628\n",
            "Feature: 61, Score: -0.22115\n",
            "Feature: 62, Score: 0.12750\n",
            "Feature: 63, Score: 0.09556\n",
            "Feature: 64, Score: -0.10674\n",
            "Feature: 65, Score: -0.05889\n"
          ],
          "name": "stdout"
        },
        {
          "output_type": "display_data",
          "data": {
            "image/png": "[encoded data removed]",
            "text/plain": [
              "<Figure size 432x288 with 1 Axes>"
            ]
          },
          "metadata": {
            "tags": [],
            "needs_background": "light"
          }
        }
      ]
    },
    {
      "cell_type": "code",
      "metadata": {
        "id": "Z41NrM8cjqAG",
        "colab": {
          "base_uri": "https://localhost:8080/",
          "height": 418
        },
        "outputId": "92440f6e-5cd2-47d1-eb51-0762c246706d"
      },
      "source": [
        "accuracy_score_logistic_reg = model_evaluation(logistic_reg, ytest, y_pred_class, True)\n",
        "\n",
        "model_scores['LogitClassifier'] = accuracy_score_logistic_reg[1] * 100\n"
      ],
      "execution_count": null,
      "outputs": [
        {
          "output_type": "display_data",
          "data": {
            "image/png": "[encoded data removed]",
            "text/plain": [
              "<Figure size 432x288 with 2 Axes>"
            ]
          },
          "metadata": {
            "tags": [],
            "needs_background": "light"
          }
        },
        {
          "output_type": "stream",
          "text": [
            "TP: 4544\n",
            "TN: 1877\n",
            "FP: 1764\n",
            "FN: 671\n",
            "Classification Accuracy: 0.7250451671183379\n",
            "F1 Score: 0.7886835025600971\n",
            "AUC Score: 0.6934252045324857\n"
          ],
          "name": "stdout"
        }
      ]
    },
    {
      "cell_type": "code",
      "metadata": {
        "id": "gvH_gFR8jX0p",
        "colab": {
          "base_uri": "https://localhost:8080/"
        },
        "outputId": "5ac1284b-8089-401c-9e4f-a2cdb9a09be7"
      },
      "source": [
        "logistic_reg.get_params"
      ],
      "execution_count": null,
      "outputs": [
        {
          "output_type": "execute_result",
          "data": {
            "text/plain": [
              "<bound method BaseEstimator.get_params of LogisticRegression(C=1.0, class_weight=None, dual=False, fit_intercept=True,\n",
              "                   intercept_scaling=1, l1_ratio=None, max_iter=100,\n",
              "                   multi_class='auto', n_jobs=None, penalty='l2',\n",
              "                   random_state=None, solver='lbfgs', tol=0.0001, verbose=0,\n",
              "                   warm_start=False)>"
            ]
          },
          "metadata": {
            "tags": []
          },
          "execution_count": 79
        }
      ]
    },
    {
      "cell_type": "code",
      "metadata": {
        "id": "6S6i8Je5sNku",
        "colab": {
          "base_uri": "https://localhost:8080/",
          "height": 295
        },
        "outputId": "6743810f-d6b9-41e8-f99e-4c808da08011"
      },
      "source": [
        "from sklearn.metrics import precision_recall_curve, roc_curve\n",
        "from sklearn.metrics import plot_precision_recall_curve, plot_roc_curve\n",
        "from sklearn.metrics import average_precision_score\n",
        "y_score= logistic_reg.predict_proba(xtest)[:,1]\n",
        "\n",
        "precision, recall, threshold = precision_recall_curve(ytest, y_score)\n",
        "fpr, tpr, thresholds = roc_curve(ytest, y_score)\n",
        "\n",
        "average_precision = average_precision_score(ytest, y_score)\n",
        "disp = plot_precision_recall_curve(logistic_reg, xtest, ytest)\n",
        "disp.ax_.set_title('2-class Precision-Recall curve: '\n",
        "                   'AP={0:0.2f}'.format(average_precision))\n",
        "plt.show()"
      ],
      "execution_count": null,
      "outputs": [
        {
          "output_type": "display_data",
          "data": {
            "image/png": "[encoded data removed]",
            "text/plain": [
              "<Figure size 432x288 with 1 Axes>"
            ]
          },
          "metadata": {
            "tags": [],
            "needs_background": "light"
          }
        }
      ]
    },
    {
      "cell_type": "code",
      "metadata": {
        "colab": {
          "base_uri": "https://localhost:8080/",
          "height": 279
        },
        "id": "ndqhc_2POc4C",
        "outputId": "f8a41937-24e9-4695-cd31-fd4052135262"
      },
      "source": [
        "plot_roc_curve(logistic_reg, xtest, ytest)\n",
        "plt.show()"
      ],
      "execution_count": null,
      "outputs": [
        {
          "output_type": "display_data",
          "data": {
            "image/png": "[encoded data removed]",
            "text/plain": [
              "<Figure size 432x288 with 1 Axes>"
            ]
          },
          "metadata": {
            "tags": [],
            "needs_background": "light"
          }
        }
      ]
    },
    {
      "cell_type": "code",
      "metadata": {
        "colab": {
          "base_uri": "https://localhost:8080/",
          "height": 297
        },
        "id": "B_MZbKKnMjgV",
        "outputId": "df76110f-971b-4abb-bc1c-2c7145d84343"
      },
      "source": [
        "# plot the roc curve for the model\n",
        "plt.plot(fpr, tpr, linestyle='--', label='No Skill')\n",
        "#plt.plot(thresholds, marker='.', label='Logistic')\n",
        "# axis labels\n",
        "plt.xlabel('False Positive Rate')\n",
        "plt.ylabel('True Positive Rate')"
      ],
      "execution_count": null,
      "outputs": [
        {
          "output_type": "execute_result",
          "data": {
            "text/plain": [
              "Text(0, 0.5, 'True Positive Rate')"
            ]
          },
          "metadata": {
            "tags": []
          },
          "execution_count": 82
        },
        {
          "output_type": "display_data",
          "data": {
            "image/png": "[encoded data removed]",
            "text/plain": [
              "<Figure size 432x288 with 1 Axes>"
            ]
          },
          "metadata": {
            "tags": [],
            "needs_background": "light"
          }
        }
      ]
    },
    {
      "cell_type": "code",
      "metadata": {
        "id": "B5goyLP0XGDS"
      },
      "source": [
        "def threshold_optimization(model_name, test_features, test_labels, thresholds_list):\n",
        "  '''\n",
        "  '''\n",
        "  pred_proba_df = pd.DataFrame(model_name.predict_proba(test_features))\n",
        "  for i in thresholds_list:\n",
        "      print ('\\n******** For Threshold = {} ******'.format(i))\n",
        "      Y_test_pred = pred_proba_df[1].map(lambda x: 1 if x>i else 0)\n",
        "      confusion = confusion_matrix(test_labels, Y_test_pred)\n",
        "      TP = confusion[1, 1]\n",
        "      TN = confusion[0, 0]\n",
        "      FP = confusion[0, 1]\n",
        "      FN = confusion[1, 0]\n",
        "      f1= f1_score(test_labels, Y_test_pred)\n",
        "\n",
        "      print('TP:', TP)\n",
        "      print('TN:', TN)\n",
        "      print('FP:', FP)\n",
        "      print('FN:', FN)\n",
        "      print(f'F-1 Score with threshold {i} is: {f1}')"
      ],
      "execution_count": null,
      "outputs": []
    },
    {
      "cell_type": "code",
      "metadata": {
        "colab": {
          "base_uri": "https://localhost:8080/"
        },
        "id": "qPHgsVobYT6D",
        "outputId": "289e18c1-62f5-4d05-c66b-02acb0b03c0e"
      },
      "source": [
        "threshold_list = [0.2, 0.3, 0.4, 0.45, 0.5, 0.55, 0.6, 0.7, 0.8, 0.9]\n",
        "threshold_optimization(logistic_reg ,xtest, ytest, threshold_list)"
      ],
      "execution_count": null,
      "outputs": [
        {
          "output_type": "stream",
          "text": [
            "\n",
            "******** For Threshold = 0.2 ******\n",
            "TP: 5103\n",
            "TN: 942\n",
            "FP: 2699\n",
            "FN: 112\n",
            "F-1 Score with threshold 0.2 is: 0.7840516247983407\n",
            "\n",
            "******** For Threshold = 0.3 ******\n",
            "TP: 4939\n",
            "TN: 1381\n",
            "FP: 2260\n",
            "FN: 276\n",
            "F-1 Score with threshold 0.3 is: 0.79571451586918\n",
            "\n",
            "******** For Threshold = 0.4 ******\n",
            "TP: 4770\n",
            "TN: 1617\n",
            "FP: 2024\n",
            "FN: 445\n",
            "F-1 Score with threshold 0.4 is: 0.7944041968523609\n",
            "\n",
            "******** For Threshold = 0.45 ******\n",
            "TP: 4678\n",
            "TN: 1748\n",
            "FP: 1893\n",
            "FN: 537\n",
            "F-1 Score with threshold 0.45 is: 0.7938231800441202\n",
            "\n",
            "******** For Threshold = 0.5 ******\n",
            "TP: 4544\n",
            "TN: 1877\n",
            "FP: 1764\n",
            "FN: 671\n",
            "F-1 Score with threshold 0.5 is: 0.7886835025600971\n",
            "\n",
            "******** For Threshold = 0.55 ******\n",
            "TP: 4368\n",
            "TN: 2054\n",
            "FP: 1587\n",
            "FN: 847\n",
            "F-1 Score with threshold 0.55 is: 0.782094897045658\n",
            "\n",
            "******** For Threshold = 0.6 ******\n",
            "TP: 4075\n",
            "TN: 2259\n",
            "FP: 1382\n",
            "FN: 1140\n",
            "F-1 Score with threshold 0.6 is: 0.7636806596701649\n",
            "\n",
            "******** For Threshold = 0.7 ******\n",
            "TP: 3099\n",
            "TN: 2809\n",
            "FP: 832\n",
            "FN: 2116\n",
            "F-1 Score with threshold 0.7 is: 0.6776732998031927\n",
            "\n",
            "******** For Threshold = 0.8 ******\n",
            "TP: 1402\n",
            "TN: 3326\n",
            "FP: 315\n",
            "FN: 3813\n",
            "F-1 Score with threshold 0.8 is: 0.40450086555106757\n",
            "\n",
            "******** For Threshold = 0.9 ******\n",
            "TP: 132\n",
            "TN: 3615\n",
            "FP: 26\n",
            "FN: 5083\n",
            "F-1 Score with threshold 0.9 is: 0.04913456169737577\n"
          ],
          "name": "stdout"
        }
      ]
    },
    {
      "cell_type": "markdown",
      "metadata": {
        "id": "drsYCHyPc6z4"
      },
      "source": [
        "<b>As classification threshold increse F-1 Score also increases. But False Negative (defaulter customer identified as good customer) also inreases. Which could be coslty to the business. An optimum threshold has to be chosen. </b>"
      ]
    },
    {
      "cell_type": "code",
      "metadata": {
        "colab": {
          "base_uri": "https://localhost:8080/",
          "height": 313
        },
        "id": "WEn9isL4ua4f",
        "outputId": "3cf232b2-6d2d-4a3a-b0cb-8d320af11f9a"
      },
      "source": [
        "### Predict test_y values and probabilities based on fitted logistic regression model\n",
        "\n",
        "pred_y=logistic_reg.predict(xtest) \n",
        "\n",
        "probs_y=logistic_reg.predict_proba(xtest) \n",
        "  # probs_y is a 2-D array of probability of being labeled as 0 (first   column of  array) vs 1 (2nd column in array)\n",
        "\n",
        "from sklearn.metrics import precision_recall_curve\n",
        "precision, recall, thresholds = precision_recall_curve(ytest, probs_y[:,1]) \n",
        "   #retrieve probability of being 1(in second column of probs_y)\n",
        "pr_auc = metrics.auc(recall, precision)\n",
        "\n",
        "plt.title(\"Precision-Recall vs Threshold Chart\")\n",
        "plt.plot(thresholds, precision[: -1], \"b--\", label=\"Precision\")\n",
        "plt.plot(thresholds, recall[: -1], \"r--\", label=\"Recall\")\n",
        "plt.ylabel(\"Precision, Recall\")\n",
        "plt.xlabel(\"Threshold\")\n",
        "plt.legend(loc=\"lower left\")\n",
        "plt.ylim([0,1])"
      ],
      "execution_count": null,
      "outputs": [
        {
          "output_type": "execute_result",
          "data": {
            "text/plain": [
              "(0.0, 1.0)"
            ]
          },
          "metadata": {
            "tags": []
          },
          "execution_count": 85
        },
        {
          "output_type": "display_data",
          "data": {
            "image/png": "[encoded data removed]",
            "text/plain": [
              "<Figure size 432x288 with 1 Axes>"
            ]
          },
          "metadata": {
            "tags": [],
            "needs_background": "light"
          }
        }
      ]
    },
    {
      "cell_type": "markdown",
      "metadata": {
        "id": "CNQufPs9wbU2"
      },
      "source": [
        "## Neural Networks\n"
      ]
    },
    {
      "cell_type": "code",
      "metadata": {
        "id": "ZnCwUcB2wbU3",
        "colab": {
          "base_uri": "https://localhost:8080/"
        },
        "outputId": "e1f80bfd-e22b-489f-bc80-459779aae710"
      },
      "source": [
        "# Model using Artificial Neural Networks\n",
        "import numpy as np\n",
        "import keras\n",
        "from keras.models import Sequential\n",
        "from keras.layers import Dense\n",
        "from keras.layers import Dropout\n",
        "from keras.optimizers import SGD\n",
        "import time\n",
        "from sklearn import metrics\n",
        "from sklearn.metrics import confusion_matrix\n",
        "\n",
        "early_stopping_callback = keras.callbacks.EarlyStopping(monitor='accuracy', patience=4)\n",
        "\n",
        "#Fit ANN model to data\n",
        "startTrain= time.time()\n",
        "model = Sequential()\n",
        "model.add(Dense(activation = 'relu', kernel_initializer= 'uniform', units = 40, input_dim= 66))\n",
        "model.add(Dropout(rate= 0.01))\n",
        "model.add(Dense(activation = 'relu', kernel_initializer= 'uniform', units = 40))\n",
        "model.add(Dense(activation = 'relu', kernel_initializer= 'uniform', units = 20))\n",
        "model.add(Dense(activation = 'sigmoid', kernel_initializer= 'uniform', units =1))\n",
        "model.compile(optimizer=SGD(lr=0.005, momentum=0.9), loss= 'binary_crossentropy', metrics=['accuracy'])\n",
        "model.fit(np.array(xtrain), np.array(ytrain), batch_size=32, epochs=100, callbacks=early_stopping_callback)\n",
        "endTrain = time.time()\n",
        "\n",
        "\n",
        "\n",
        "print(\"ANN training time (secs) {0}\".format(endTrain - startTrain))\n",
        "\n",
        "#Predicting using ANN\n",
        "Ypred = model.predict_classes(np.array(xtest))\n",
        "\n"
      ],
      "execution_count": null,
      "outputs": [
        {
          "output_type": "stream",
          "text": [
            "Epoch 1/100\n",
            "646/646 [==============================] - 2s 2ms/step - loss: 0.6816 - accuracy: 0.5786\n",
            "Epoch 2/100\n",
            "646/646 [==============================] - 1s 1ms/step - loss: 0.6659 - accuracy: 0.5999\n",
            "Epoch 3/100\n",
            "646/646 [==============================] - 1s 1ms/step - loss: 0.5740 - accuracy: 0.7221\n",
            "Epoch 4/100\n",
            "646/646 [==============================] - 1s 1ms/step - loss: 0.5479 - accuracy: 0.7245\n",
            "Epoch 5/100\n",
            "646/646 [==============================] - 1s 1ms/step - loss: 0.5413 - accuracy: 0.7296\n",
            "Epoch 6/100\n",
            "646/646 [==============================] - 1s 2ms/step - loss: 0.5344 - accuracy: 0.7320\n",
            "Epoch 7/100\n",
            "646/646 [==============================] - 1s 1ms/step - loss: 0.5372 - accuracy: 0.7305\n",
            "Epoch 8/100\n",
            "646/646 [==============================] - 1s 2ms/step - loss: 0.5360 - accuracy: 0.7276\n",
            "Epoch 9/100\n",
            "646/646 [==============================] - 1s 2ms/step - loss: 0.5314 - accuracy: 0.7315\n",
            "Epoch 10/100\n",
            "646/646 [==============================] - 1s 2ms/step - loss: 0.5293 - accuracy: 0.7341\n",
            "Epoch 11/100\n",
            "646/646 [==============================] - 1s 2ms/step - loss: 0.5296 - accuracy: 0.7354\n",
            "Epoch 12/100\n",
            "646/646 [==============================] - 1s 2ms/step - loss: 0.5267 - accuracy: 0.7330\n",
            "Epoch 13/100\n",
            "646/646 [==============================] - 1s 2ms/step - loss: 0.5299 - accuracy: 0.7294\n",
            "ANN training time (secs) 14.14906120300293\n"
          ],
          "name": "stdout"
        }
      ]
    },
    {
      "cell_type": "code",
      "metadata": {
        "id": "kO7F4Gzgj_V1",
        "colab": {
          "base_uri": "https://localhost:8080/",
          "height": 418
        },
        "outputId": "0b66a040-a6ae-4f3a-d964-4b177bda3035"
      },
      "source": [
        "accuracy_score_NeuralNet = model_evaluation(model, np.array(ytest), Ypred, True)\n",
        "\n",
        "model_scores['NueralNets'] = accuracy_score_NeuralNet[1] * 100"
      ],
      "execution_count": 88,
      "outputs": [
        {
          "output_type": "display_data",
          "data": {
            "image/png": "[encoded data removed]",
            "text/plain": [
              "<Figure size 432x288 with 2 Axes>"
            ]
          },
          "metadata": {
            "tags": [],
            "needs_background": "light"
          }
        },
        {
          "output_type": "stream",
          "text": [
            "TP: 4688\n",
            "TN: 1760\n",
            "FP: 1881\n",
            "FN: 527\n",
            "Classification Accuracy: 0.7280939476061428\n",
            "F1 Score: 0.7956551255940257\n",
            "AUC Score: 0.6911645178763328\n"
          ],
          "name": "stdout"
        }
      ]
    },
    {
      "cell_type": "markdown",
      "metadata": {
        "id": "zLSI1VOlwbU3"
      },
      "source": [
        "# Performance Comparison"
      ]
    },
    {
      "cell_type": "code",
      "metadata": {
        "id": "O5aaYN-ve8AR",
        "colab": {
          "base_uri": "https://localhost:8080/"
        },
        "outputId": "ce8e8b2d-7fcf-46ea-b2ec-42cbf0fb8320"
      },
      "source": [
        "model_scores"
      ],
      "execution_count": 90,
      "outputs": [
        {
          "output_type": "execute_result",
          "data": {
            "text/plain": [
              "{'LogitClassifier': 69.34252045324857,\n",
              " 'NueralNets': 69.11645178763328,\n",
              " 'Random Forest': 71.08724990210827,\n",
              " 'XGBClassifier': 70.55822115393478,\n",
              " 'XGBoost_CV': 70.79686630610209}"
            ]
          },
          "metadata": {
            "tags": []
          },
          "execution_count": 90
        }
      ]
    },
    {
      "cell_type": "code",
      "metadata": {
        "id": "SXKYwor_peD-",
        "colab": {
          "base_uri": "https://localhost:8080/",
          "height": 315
        },
        "outputId": "557588c2-c884-4a2f-a423-8fe43bacdbb8"
      },
      "source": [
        "names = list(model_scores.keys())\n",
        "values = list(model_scores.values())\n",
        "plt.bar(range(len(model_scores)), values, tick_label=names)\n",
        "plt.xticks(rotation=45)\n",
        "plt.ylabel('AUC Score')\n",
        "plt.ylim([65.0, 75.0])\n",
        "plt.show()"
      ],
      "execution_count": 91,
      "outputs": [
        {
          "output_type": "display_data",
          "data": {
            "image/png": "[encoded data removed]",
            "text/plain": [
              "<Figure size 432x288 with 1 Axes>"
            ]
          },
          "metadata": {
            "tags": [],
            "needs_background": "light"
          }
        }
      ]
    },
    {
      "cell_type": "markdown",
      "metadata": {
        "id": "tng-UrCtwbU3"
      },
      "source": [
        "<b>XGBoost has performed better in the validation dataset in terms of AUC Score. </b>\n"
      ]
    },
    {
      "cell_type": "code",
      "metadata": {
        "id": "bN0tS-bju3eK",
        "colab": {
          "base_uri": "https://localhost:8080/"
        },
        "outputId": "08db08c7-8638-4c73-9614-8846f3130844"
      },
      "source": [
        "from mlxtend.evaluate import paired_ttest_5x2cv\n",
        "# check if difference between algorithms is real\n",
        "t, p = paired_ttest_5x2cv(estimator1=logistic_reg, estimator2=random_forest, X=xtest, y=ytest, scoring='accuracy', random_seed=1)\n",
        "# summarize\n",
        "print('P-value: %.3f, t-Statistic: %.3f' % (p, t))\n",
        "# interpret the result\n",
        "if p <= 0.05:\n",
        "\tprint('Difference between mean performance is probably real')\n",
        "else:\n",
        "\tprint('Algorithms probably have the same performance')"
      ],
      "execution_count": 92,
      "outputs": [
        {
          "output_type": "stream",
          "text": [
            "P-value: 0.712, t-Statistic: -0.390\n",
            "Algorithms probably have the same performance\n"
          ],
          "name": "stdout"
        }
      ]
    },
    {
      "cell_type": "code",
      "metadata": {
        "id": "JHmvE4QAHoXw"
      },
      "source": [
        "# Selection of features based on feature importance scores by different models\n",
        "cols= ['apr', 'clearfraudscore', 'ssnLoanCount', 'log_loanAmount', 'log_nPaidOff',\n",
        "       'payFrequency_B', 'payFrequency_I', 'payFrequency_M', 'payFrequency_S', 'payFrequency_W']\n",
        "\n",
        "# Separate input features and target\n",
        "x_data_selected = data[cols]\n",
        "y_data = data['target'].astype('category')"
      ],
      "execution_count": 93,
      "outputs": []
    },
    {
      "cell_type": "code",
      "metadata": {
        "id": "FqV2Re75JqpI"
      },
      "source": [
        "# Shuffle and split data into 70% in training and 30% in testing\n",
        "from sklearn.model_selection import train_test_split\n",
        "x_train, x_test, y_train, y_test = train_test_split(x_data_selected, y_data,random_state=123, test_size=0.30)"
      ],
      "execution_count": 94,
      "outputs": []
    },
    {
      "cell_type": "code",
      "metadata": {
        "id": "Pv7btFq8Gyi6",
        "colab": {
          "base_uri": "https://localhost:8080/"
        },
        "outputId": "88e30cd4-5885-4480-c34b-73aaa5f2793c"
      },
      "source": [
        "#training a new lighter Logistic Regression with selected features\n",
        "log_reg_selected_features= LogisticRegression()\n",
        "log_reg_selected_features.fit(x_train, y_train)\n",
        "y_pred_class = log_reg_selected_features.predict(x_test)\n",
        "log_reg_selected_features.score(x_test,y_test)"
      ],
      "execution_count": 95,
      "outputs": [
        {
          "output_type": "execute_result",
          "data": {
            "text/plain": [
              "0.7121725383920506"
            ]
          },
          "metadata": {
            "tags": []
          },
          "execution_count": 95
        }
      ]
    },
    {
      "cell_type": "code",
      "metadata": {
        "id": "LO6AhrPCFZU_"
      },
      "source": [
        "import pickle\n",
        "# open a file, where to store the data\n",
        "file = open('logistic_regression_model.pkl', 'wb')\n",
        "\n",
        "# dump information to that file\n",
        "pickle.dump(logistic_reg, file)"
      ],
      "execution_count": 96,
      "outputs": []
    },
    {
      "cell_type": "code",
      "metadata": {
        "id": "BUj7_q2KTni-",
        "colab": {
          "base_uri": "https://localhost:8080/"
        },
        "outputId": "d93a10fd-791d-4825-9549-0a4935ddbe2f"
      },
      "source": [
        "# Save the evironment in requirements.txt file\n",
        "!pip install pipreqs\n",
        "import pipreqs\n",
        "!pipreqs --force './'"
      ],
      "execution_count": 98,
      "outputs": [
        {
          "output_type": "stream",
          "text": [
            "Collecting pipreqs\n",
            "  Downloading pipreqs-0.4.10-py2.py3-none-any.whl (25 kB)\n",
            "Collecting yarg\n",
            "  Downloading yarg-0.1.9-py2.py3-none-any.whl (19 kB)\n",
            "Requirement already satisfied: docopt in /usr/local/lib/python3.7/dist-packages (from pipreqs) (0.6.2)\n",
            "Requirement already satisfied: requests in /usr/local/lib/python3.7/dist-packages (from yarg->pipreqs) (2.23.0)\n",
            "Requirement already satisfied: certifi>=2017.4.17 in /usr/local/lib/python3.7/dist-packages (from requests->yarg->pipreqs) (2021.5.30)\n",
            "Requirement already satisfied: urllib3!=1.25.0,!=1.25.1,<1.26,>=1.21.1 in /usr/local/lib/python3.7/dist-packages (from requests->yarg->pipreqs) (1.24.3)\n",
            "Requirement already satisfied: idna<3,>=2.5 in /usr/local/lib/python3.7/dist-packages (from requests->yarg->pipreqs) (2.10)\n",
            "Requirement already satisfied: chardet<4,>=3.0.2 in /usr/local/lib/python3.7/dist-packages (from requests->yarg->pipreqs) (3.0.4)\n",
            "Installing collected packages: yarg, pipreqs\n",
            "Successfully installed pipreqs-0.4.10 yarg-0.1.9\n",
            "INFO: Successfully saved requirements file in ./requirements.txt\n"
          ],
          "name": "stdout"
        }
      ]
    },
    {
      "cell_type": "code",
      "metadata": {
        "id": "4fVjZNT-mMJY"
      },
      "source": [
        "!pip freeze > requirements1.txt"
      ],
      "execution_count": 99,
      "outputs": []
    },
    {
      "cell_type": "markdown",
      "metadata": {
        "id": "KVErbIgLwbU4"
      },
      "source": [
        "## Improvements\n",
        "*This analysis has been carried out based on the data available from previous loan accounts, which are mostly related to the individual borrower. There may be other factors/features that could better predict the credit risks. Country-related risks such as sudden political instability or downfall of the overall economic situation of the country may affect a person or entity's ability to repay the loan. Other cases, such as the invention of new technology, can kill a traditional industry. Businesses and people working in that industry will suddenly become jobless. These situations will impact their ability to repay the loan even if they had a perfect credit history or paid off the loan on time in the past.\n",
        "\n",
        "*The financial institutions, banks, and lenders can adjust the cost of credit, carry out risk-based pricing, reduce credit amount to the high-risk buyers, tight the credit provision, purchase the credit insurance or derivatives, and much more to curb the menace.\n",
        "\n",
        "*Many studies have found debt to income ratio is a clear indicator of the borrowers' ability to repay the loan. Including customer income, data could improve the model.\n",
        "\n",
        "*Feature Selection was not done for Neural Network Model. Important features identified from Random Forest and XGBoost can be used to reduce the dimension.\n",
        "\n",
        "*There are no straight forward rule for Neural Network model architecture. It requires more trial and error to come up with a better model.\n",
        "\n",
        "*Random Forest itself a kind of ensemble model. Stacking modeling methods (train different models and use their predictions as features in another model) could be used for better performance.\n",
        "\n",
        "*QuantileTransformer reduces the effect of outlier. However,  completely removing outliers from the dataset could improve the model.\n",
        "\n",
        "\n",
        "*Reduce false positives and false negatives. It depends on the business objectives, which one to prioritize. If the business goal is to reduce loss, then falsely identifying a customer as good but who is actually a defaulter could lead to capital loss. Again, falsely classifying a defaulter who is actually a good customer, is an opportunity loss."
      ]
    },
    {
      "cell_type": "markdown",
      "metadata": {
        "id": "cXS-BpVjwbU4"
      },
      "source": [
        "## Summary\n",
        "In this report, we achieved 0.71 AUC score in determining whether a loan will be defaulted or not. We explored past loan performance and understood what kind of people are more likely to default. Random Forest has performed better in the validation dataset in terms of AUC Score.However, the differences in accuracy between these models are not significant.\n",
        "\n",
        "We have used some selected features to create a loan prediction app for demonstration purpose. \n"
      ]
    }
  ]
}