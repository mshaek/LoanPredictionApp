{
  "nbformat": 4,
  "nbformat_minor": 0,
  "metadata": {
    "colab": {
      "name": "MoneyLion_Repayment_Mahfuzur_part_2.ipynb",
      "provenance": [],
      "collapsed_sections": [],
      "authorship_tag": "ABX9TyMkn28YxK8eGmXAzztSBn72",
      "include_colab_link": true
    },
    "kernelspec": {
      "name": "python3",
      "display_name": "Python 3"
    },
    "language_info": {
      "name": "python"
    }
  },
  "cells": [
    {
      "cell_type": "markdown",
      "metadata": {
        "id": "view-in-github",
        "colab_type": "text"
      },
      "source": [
        "<a href=\"https://colab.research.google.com/github/mshaek/LoanPredictionApp/blob/main/notebooks/MoneyLion_Repayment_Mahfuzur_part_2.ipynb\" target=\"_parent\"><img src=\"https://colab.research.google.com/assets/colab-badge.svg\" alt=\"Open In Colab\"/></a>"
      ]
    },
    {
      "cell_type": "code",
      "metadata": {
        "id": "2Rbl3N_3oYjJ"
      },
      "source": [
        "#Import important Python Libraries\n",
        "import pandas as pd\n",
        "import numpy as np\n",
        "import matplotlib.pyplot as plt\n",
        "%matplotlib inline\n",
        "import seaborn as sns\n",
        "import warnings\n",
        "warnings.filterwarnings('ignore')"
      ],
      "execution_count": 59,
      "outputs": []
    },
    {
      "cell_type": "code",
      "metadata": {
        "colab": {
          "base_uri": "https://localhost:8080/",
          "height": 454
        },
        "id": "jbMprFBPmRON",
        "outputId": "3448769e-33f8-48a9-f368-f9e342b51bc6"
      },
      "source": [
        "# Load preprocessed data with merging 'loan' and 'underwriting' dataset\n",
        "data = pd.read_csv('https://raw.githubusercontent.com/mshaek/LoanPredictionApp/main/data/merged.csv')\n",
        "data"
      ],
      "execution_count": 14,
      "outputs": [
        {
          "output_type": "execute_result",
          "data": {
            "text/html": [
              "<div>\n",
              "<style scoped>\n",
              "    .dataframe tbody tr th:only-of-type {\n",
              "        vertical-align: middle;\n",
              "    }\n",
              "\n",
              "    .dataframe tbody tr th {\n",
              "        vertical-align: top;\n",
              "    }\n",
              "\n",
              "    .dataframe thead th {\n",
              "        text-align: right;\n",
              "    }\n",
              "</style>\n",
              "<table border=\"1\" class=\"dataframe\">\n",
              "  <thead>\n",
              "    <tr style=\"text-align: right;\">\n",
              "      <th></th>\n",
              "      <th>apr</th>\n",
              "      <th>hasCF</th>\n",
              "      <th>target</th>\n",
              "      <th>clearfraudscore</th>\n",
              "      <th>inquiry.oneminuteago</th>\n",
              "      <th>ssnLoanCount</th>\n",
              "      <th>HoursTaken</th>\n",
              "      <th>log_originallyScheduledPaymentAmount</th>\n",
              "      <th>log_loanAmount</th>\n",
              "      <th>log_nPaidOff</th>\n",
              "      <th>log_leadCost</th>\n",
              "      <th>payFrequency_B</th>\n",
              "      <th>payFrequency_I</th>\n",
              "      <th>payFrequency_M</th>\n",
              "      <th>payFrequency_S</th>\n",
              "      <th>payFrequency_W</th>\n",
              "      <th>state_AK</th>\n",
              "      <th>state_AL</th>\n",
              "      <th>state_AZ</th>\n",
              "      <th>state_CA</th>\n",
              "      <th>state_CO</th>\n",
              "      <th>state_CT</th>\n",
              "      <th>state_DE</th>\n",
              "      <th>state_FL</th>\n",
              "      <th>state_GA</th>\n",
              "      <th>state_HI</th>\n",
              "      <th>state_IA</th>\n",
              "      <th>state_ID</th>\n",
              "      <th>state_IL</th>\n",
              "      <th>state_IN</th>\n",
              "      <th>state_KS</th>\n",
              "      <th>state_KY</th>\n",
              "      <th>state_LA</th>\n",
              "      <th>state_MD</th>\n",
              "      <th>state_MI</th>\n",
              "      <th>state_MN</th>\n",
              "      <th>state_MO</th>\n",
              "      <th>state_MS</th>\n",
              "      <th>state_NC</th>\n",
              "      <th>state_ND</th>\n",
              "      <th>state_NE</th>\n",
              "      <th>state_NJ</th>\n",
              "      <th>state_NM</th>\n",
              "      <th>state_NV</th>\n",
              "      <th>state_OH</th>\n",
              "      <th>state_OK</th>\n",
              "      <th>state_PA</th>\n",
              "      <th>state_RI</th>\n",
              "      <th>state_SC</th>\n",
              "      <th>state_SD</th>\n",
              "      <th>state_TN</th>\n",
              "      <th>state_TX</th>\n",
              "      <th>state_UT</th>\n",
              "      <th>state_VA</th>\n",
              "      <th>state_WA</th>\n",
              "      <th>state_WI</th>\n",
              "      <th>state_WY</th>\n",
              "      <th>leadType_bvMandatory</th>\n",
              "      <th>leadType_california</th>\n",
              "      <th>leadType_express</th>\n",
              "      <th>leadType_instant-offer</th>\n",
              "      <th>leadType_lead</th>\n",
              "      <th>leadType_lionpay</th>\n",
              "      <th>leadType_organic</th>\n",
              "      <th>leadType_prescreen</th>\n",
              "      <th>leadType_rc_returning</th>\n",
              "      <th>leadType_repeat</th>\n",
              "    </tr>\n",
              "  </thead>\n",
              "  <tbody>\n",
              "    <tr>\n",
              "      <th>0</th>\n",
              "      <td>199.0</td>\n",
              "      <td>1</td>\n",
              "      <td>0</td>\n",
              "      <td>879.0</td>\n",
              "      <td>3.0</td>\n",
              "      <td>1</td>\n",
              "      <td>17</td>\n",
              "      <td>8.763458</td>\n",
              "      <td>8.006701</td>\n",
              "      <td>0.000000</td>\n",
              "      <td>0.000000</td>\n",
              "      <td>1</td>\n",
              "      <td>0</td>\n",
              "      <td>0</td>\n",
              "      <td>0</td>\n",
              "      <td>0</td>\n",
              "      <td>0</td>\n",
              "      <td>0</td>\n",
              "      <td>0</td>\n",
              "      <td>1</td>\n",
              "      <td>0</td>\n",
              "      <td>0</td>\n",
              "      <td>0</td>\n",
              "      <td>0</td>\n",
              "      <td>0</td>\n",
              "      <td>0</td>\n",
              "      <td>0</td>\n",
              "      <td>0</td>\n",
              "      <td>0</td>\n",
              "      <td>0</td>\n",
              "      <td>0</td>\n",
              "      <td>0</td>\n",
              "      <td>0</td>\n",
              "      <td>0</td>\n",
              "      <td>0</td>\n",
              "      <td>0</td>\n",
              "      <td>0</td>\n",
              "      <td>0</td>\n",
              "      <td>0</td>\n",
              "      <td>0</td>\n",
              "      <td>0</td>\n",
              "      <td>0</td>\n",
              "      <td>0</td>\n",
              "      <td>0</td>\n",
              "      <td>0</td>\n",
              "      <td>0</td>\n",
              "      <td>0</td>\n",
              "      <td>0</td>\n",
              "      <td>0</td>\n",
              "      <td>0</td>\n",
              "      <td>0</td>\n",
              "      <td>0</td>\n",
              "      <td>0</td>\n",
              "      <td>0</td>\n",
              "      <td>0</td>\n",
              "      <td>0</td>\n",
              "      <td>0</td>\n",
              "      <td>0</td>\n",
              "      <td>0</td>\n",
              "      <td>0</td>\n",
              "      <td>0</td>\n",
              "      <td>0</td>\n",
              "      <td>0</td>\n",
              "      <td>0</td>\n",
              "      <td>1</td>\n",
              "      <td>0</td>\n",
              "      <td>0</td>\n",
              "    </tr>\n",
              "    <tr>\n",
              "      <th>1</th>\n",
              "      <td>490.0</td>\n",
              "      <td>1</td>\n",
              "      <td>0</td>\n",
              "      <td>835.0</td>\n",
              "      <td>1.0</td>\n",
              "      <td>4</td>\n",
              "      <td>0</td>\n",
              "      <td>8.106147</td>\n",
              "      <td>7.131699</td>\n",
              "      <td>1.098612</td>\n",
              "      <td>0.000000</td>\n",
              "      <td>0</td>\n",
              "      <td>0</td>\n",
              "      <td>0</td>\n",
              "      <td>1</td>\n",
              "      <td>0</td>\n",
              "      <td>0</td>\n",
              "      <td>0</td>\n",
              "      <td>0</td>\n",
              "      <td>0</td>\n",
              "      <td>0</td>\n",
              "      <td>0</td>\n",
              "      <td>0</td>\n",
              "      <td>0</td>\n",
              "      <td>0</td>\n",
              "      <td>0</td>\n",
              "      <td>0</td>\n",
              "      <td>0</td>\n",
              "      <td>0</td>\n",
              "      <td>0</td>\n",
              "      <td>0</td>\n",
              "      <td>0</td>\n",
              "      <td>0</td>\n",
              "      <td>0</td>\n",
              "      <td>0</td>\n",
              "      <td>0</td>\n",
              "      <td>1</td>\n",
              "      <td>0</td>\n",
              "      <td>0</td>\n",
              "      <td>0</td>\n",
              "      <td>0</td>\n",
              "      <td>0</td>\n",
              "      <td>0</td>\n",
              "      <td>0</td>\n",
              "      <td>0</td>\n",
              "      <td>0</td>\n",
              "      <td>0</td>\n",
              "      <td>0</td>\n",
              "      <td>0</td>\n",
              "      <td>0</td>\n",
              "      <td>0</td>\n",
              "      <td>0</td>\n",
              "      <td>0</td>\n",
              "      <td>0</td>\n",
              "      <td>0</td>\n",
              "      <td>0</td>\n",
              "      <td>0</td>\n",
              "      <td>0</td>\n",
              "      <td>0</td>\n",
              "      <td>0</td>\n",
              "      <td>0</td>\n",
              "      <td>0</td>\n",
              "      <td>0</td>\n",
              "      <td>1</td>\n",
              "      <td>0</td>\n",
              "      <td>0</td>\n",
              "      <td>0</td>\n",
              "    </tr>\n",
              "    <tr>\n",
              "      <th>2</th>\n",
              "      <td>590.0</td>\n",
              "      <td>1</td>\n",
              "      <td>0</td>\n",
              "      <td>624.0</td>\n",
              "      <td>3.0</td>\n",
              "      <td>1</td>\n",
              "      <td>53</td>\n",
              "      <td>7.796913</td>\n",
              "      <td>6.685861</td>\n",
              "      <td>0.000000</td>\n",
              "      <td>2.397895</td>\n",
              "      <td>1</td>\n",
              "      <td>0</td>\n",
              "      <td>0</td>\n",
              "      <td>0</td>\n",
              "      <td>0</td>\n",
              "      <td>0</td>\n",
              "      <td>0</td>\n",
              "      <td>0</td>\n",
              "      <td>1</td>\n",
              "      <td>0</td>\n",
              "      <td>0</td>\n",
              "      <td>0</td>\n",
              "      <td>0</td>\n",
              "      <td>0</td>\n",
              "      <td>0</td>\n",
              "      <td>0</td>\n",
              "      <td>0</td>\n",
              "      <td>0</td>\n",
              "      <td>0</td>\n",
              "      <td>0</td>\n",
              "      <td>0</td>\n",
              "      <td>0</td>\n",
              "      <td>0</td>\n",
              "      <td>0</td>\n",
              "      <td>0</td>\n",
              "      <td>0</td>\n",
              "      <td>0</td>\n",
              "      <td>0</td>\n",
              "      <td>0</td>\n",
              "      <td>0</td>\n",
              "      <td>0</td>\n",
              "      <td>0</td>\n",
              "      <td>0</td>\n",
              "      <td>0</td>\n",
              "      <td>0</td>\n",
              "      <td>0</td>\n",
              "      <td>0</td>\n",
              "      <td>0</td>\n",
              "      <td>0</td>\n",
              "      <td>0</td>\n",
              "      <td>0</td>\n",
              "      <td>0</td>\n",
              "      <td>0</td>\n",
              "      <td>0</td>\n",
              "      <td>0</td>\n",
              "      <td>0</td>\n",
              "      <td>1</td>\n",
              "      <td>0</td>\n",
              "      <td>0</td>\n",
              "      <td>0</td>\n",
              "      <td>0</td>\n",
              "      <td>0</td>\n",
              "      <td>0</td>\n",
              "      <td>0</td>\n",
              "      <td>0</td>\n",
              "      <td>0</td>\n",
              "    </tr>\n",
              "    <tr>\n",
              "      <th>3</th>\n",
              "      <td>404.1</td>\n",
              "      <td>1</td>\n",
              "      <td>0</td>\n",
              "      <td>770.0</td>\n",
              "      <td>3.0</td>\n",
              "      <td>3</td>\n",
              "      <td>12</td>\n",
              "      <td>6.048884</td>\n",
              "      <td>5.707110</td>\n",
              "      <td>1.386294</td>\n",
              "      <td>0.000000</td>\n",
              "      <td>0</td>\n",
              "      <td>0</td>\n",
              "      <td>0</td>\n",
              "      <td>0</td>\n",
              "      <td>1</td>\n",
              "      <td>0</td>\n",
              "      <td>0</td>\n",
              "      <td>0</td>\n",
              "      <td>0</td>\n",
              "      <td>0</td>\n",
              "      <td>0</td>\n",
              "      <td>0</td>\n",
              "      <td>0</td>\n",
              "      <td>0</td>\n",
              "      <td>0</td>\n",
              "      <td>0</td>\n",
              "      <td>0</td>\n",
              "      <td>0</td>\n",
              "      <td>0</td>\n",
              "      <td>0</td>\n",
              "      <td>0</td>\n",
              "      <td>0</td>\n",
              "      <td>0</td>\n",
              "      <td>0</td>\n",
              "      <td>0</td>\n",
              "      <td>0</td>\n",
              "      <td>0</td>\n",
              "      <td>0</td>\n",
              "      <td>0</td>\n",
              "      <td>0</td>\n",
              "      <td>0</td>\n",
              "      <td>0</td>\n",
              "      <td>0</td>\n",
              "      <td>0</td>\n",
              "      <td>0</td>\n",
              "      <td>0</td>\n",
              "      <td>0</td>\n",
              "      <td>0</td>\n",
              "      <td>0</td>\n",
              "      <td>0</td>\n",
              "      <td>0</td>\n",
              "      <td>0</td>\n",
              "      <td>0</td>\n",
              "      <td>0</td>\n",
              "      <td>1</td>\n",
              "      <td>0</td>\n",
              "      <td>0</td>\n",
              "      <td>0</td>\n",
              "      <td>0</td>\n",
              "      <td>0</td>\n",
              "      <td>0</td>\n",
              "      <td>0</td>\n",
              "      <td>1</td>\n",
              "      <td>0</td>\n",
              "      <td>0</td>\n",
              "      <td>0</td>\n",
              "    </tr>\n",
              "    <tr>\n",
              "      <th>4</th>\n",
              "      <td>315.0</td>\n",
              "      <td>1</td>\n",
              "      <td>1</td>\n",
              "      <td>932.0</td>\n",
              "      <td>1.0</td>\n",
              "      <td>3</td>\n",
              "      <td>0</td>\n",
              "      <td>7.964250</td>\n",
              "      <td>7.313887</td>\n",
              "      <td>1.098612</td>\n",
              "      <td>0.000000</td>\n",
              "      <td>1</td>\n",
              "      <td>0</td>\n",
              "      <td>0</td>\n",
              "      <td>0</td>\n",
              "      <td>0</td>\n",
              "      <td>0</td>\n",
              "      <td>0</td>\n",
              "      <td>0</td>\n",
              "      <td>0</td>\n",
              "      <td>0</td>\n",
              "      <td>0</td>\n",
              "      <td>0</td>\n",
              "      <td>0</td>\n",
              "      <td>0</td>\n",
              "      <td>0</td>\n",
              "      <td>0</td>\n",
              "      <td>0</td>\n",
              "      <td>1</td>\n",
              "      <td>0</td>\n",
              "      <td>0</td>\n",
              "      <td>0</td>\n",
              "      <td>0</td>\n",
              "      <td>0</td>\n",
              "      <td>0</td>\n",
              "      <td>0</td>\n",
              "      <td>0</td>\n",
              "      <td>0</td>\n",
              "      <td>0</td>\n",
              "      <td>0</td>\n",
              "      <td>0</td>\n",
              "      <td>0</td>\n",
              "      <td>0</td>\n",
              "      <td>0</td>\n",
              "      <td>0</td>\n",
              "      <td>0</td>\n",
              "      <td>0</td>\n",
              "      <td>0</td>\n",
              "      <td>0</td>\n",
              "      <td>0</td>\n",
              "      <td>0</td>\n",
              "      <td>0</td>\n",
              "      <td>0</td>\n",
              "      <td>0</td>\n",
              "      <td>0</td>\n",
              "      <td>0</td>\n",
              "      <td>0</td>\n",
              "      <td>0</td>\n",
              "      <td>0</td>\n",
              "      <td>0</td>\n",
              "      <td>0</td>\n",
              "      <td>0</td>\n",
              "      <td>0</td>\n",
              "      <td>1</td>\n",
              "      <td>0</td>\n",
              "      <td>0</td>\n",
              "      <td>0</td>\n",
              "    </tr>\n",
              "    <tr>\n",
              "      <th>...</th>\n",
              "      <td>...</td>\n",
              "      <td>...</td>\n",
              "      <td>...</td>\n",
              "      <td>...</td>\n",
              "      <td>...</td>\n",
              "      <td>...</td>\n",
              "      <td>...</td>\n",
              "      <td>...</td>\n",
              "      <td>...</td>\n",
              "      <td>...</td>\n",
              "      <td>...</td>\n",
              "      <td>...</td>\n",
              "      <td>...</td>\n",
              "      <td>...</td>\n",
              "      <td>...</td>\n",
              "      <td>...</td>\n",
              "      <td>...</td>\n",
              "      <td>...</td>\n",
              "      <td>...</td>\n",
              "      <td>...</td>\n",
              "      <td>...</td>\n",
              "      <td>...</td>\n",
              "      <td>...</td>\n",
              "      <td>...</td>\n",
              "      <td>...</td>\n",
              "      <td>...</td>\n",
              "      <td>...</td>\n",
              "      <td>...</td>\n",
              "      <td>...</td>\n",
              "      <td>...</td>\n",
              "      <td>...</td>\n",
              "      <td>...</td>\n",
              "      <td>...</td>\n",
              "      <td>...</td>\n",
              "      <td>...</td>\n",
              "      <td>...</td>\n",
              "      <td>...</td>\n",
              "      <td>...</td>\n",
              "      <td>...</td>\n",
              "      <td>...</td>\n",
              "      <td>...</td>\n",
              "      <td>...</td>\n",
              "      <td>...</td>\n",
              "      <td>...</td>\n",
              "      <td>...</td>\n",
              "      <td>...</td>\n",
              "      <td>...</td>\n",
              "      <td>...</td>\n",
              "      <td>...</td>\n",
              "      <td>...</td>\n",
              "      <td>...</td>\n",
              "      <td>...</td>\n",
              "      <td>...</td>\n",
              "      <td>...</td>\n",
              "      <td>...</td>\n",
              "      <td>...</td>\n",
              "      <td>...</td>\n",
              "      <td>...</td>\n",
              "      <td>...</td>\n",
              "      <td>...</td>\n",
              "      <td>...</td>\n",
              "      <td>...</td>\n",
              "      <td>...</td>\n",
              "      <td>...</td>\n",
              "      <td>...</td>\n",
              "      <td>...</td>\n",
              "      <td>...</td>\n",
              "    </tr>\n",
              "    <tr>\n",
              "      <th>29513</th>\n",
              "      <td>645.0</td>\n",
              "      <td>1</td>\n",
              "      <td>0</td>\n",
              "      <td>925.0</td>\n",
              "      <td>4.0</td>\n",
              "      <td>1</td>\n",
              "      <td>0</td>\n",
              "      <td>8.539456</td>\n",
              "      <td>7.313887</td>\n",
              "      <td>0.000000</td>\n",
              "      <td>3.258097</td>\n",
              "      <td>1</td>\n",
              "      <td>0</td>\n",
              "      <td>0</td>\n",
              "      <td>0</td>\n",
              "      <td>0</td>\n",
              "      <td>0</td>\n",
              "      <td>0</td>\n",
              "      <td>0</td>\n",
              "      <td>0</td>\n",
              "      <td>0</td>\n",
              "      <td>0</td>\n",
              "      <td>0</td>\n",
              "      <td>0</td>\n",
              "      <td>0</td>\n",
              "      <td>0</td>\n",
              "      <td>0</td>\n",
              "      <td>0</td>\n",
              "      <td>0</td>\n",
              "      <td>0</td>\n",
              "      <td>0</td>\n",
              "      <td>0</td>\n",
              "      <td>0</td>\n",
              "      <td>0</td>\n",
              "      <td>0</td>\n",
              "      <td>0</td>\n",
              "      <td>0</td>\n",
              "      <td>0</td>\n",
              "      <td>0</td>\n",
              "      <td>1</td>\n",
              "      <td>0</td>\n",
              "      <td>0</td>\n",
              "      <td>0</td>\n",
              "      <td>0</td>\n",
              "      <td>0</td>\n",
              "      <td>0</td>\n",
              "      <td>0</td>\n",
              "      <td>0</td>\n",
              "      <td>0</td>\n",
              "      <td>0</td>\n",
              "      <td>0</td>\n",
              "      <td>0</td>\n",
              "      <td>0</td>\n",
              "      <td>0</td>\n",
              "      <td>0</td>\n",
              "      <td>0</td>\n",
              "      <td>0</td>\n",
              "      <td>0</td>\n",
              "      <td>0</td>\n",
              "      <td>0</td>\n",
              "      <td>0</td>\n",
              "      <td>1</td>\n",
              "      <td>0</td>\n",
              "      <td>0</td>\n",
              "      <td>0</td>\n",
              "      <td>0</td>\n",
              "      <td>0</td>\n",
              "    </tr>\n",
              "    <tr>\n",
              "      <th>29514</th>\n",
              "      <td>565.0</td>\n",
              "      <td>0</td>\n",
              "      <td>0</td>\n",
              "      <td>763.5</td>\n",
              "      <td>3.0</td>\n",
              "      <td>1</td>\n",
              "      <td>0</td>\n",
              "      <td>7.421285</td>\n",
              "      <td>6.398595</td>\n",
              "      <td>1.386294</td>\n",
              "      <td>0.000000</td>\n",
              "      <td>1</td>\n",
              "      <td>0</td>\n",
              "      <td>0</td>\n",
              "      <td>0</td>\n",
              "      <td>0</td>\n",
              "      <td>0</td>\n",
              "      <td>0</td>\n",
              "      <td>0</td>\n",
              "      <td>1</td>\n",
              "      <td>0</td>\n",
              "      <td>0</td>\n",
              "      <td>0</td>\n",
              "      <td>0</td>\n",
              "      <td>0</td>\n",
              "      <td>0</td>\n",
              "      <td>0</td>\n",
              "      <td>0</td>\n",
              "      <td>0</td>\n",
              "      <td>0</td>\n",
              "      <td>0</td>\n",
              "      <td>0</td>\n",
              "      <td>0</td>\n",
              "      <td>0</td>\n",
              "      <td>0</td>\n",
              "      <td>0</td>\n",
              "      <td>0</td>\n",
              "      <td>0</td>\n",
              "      <td>0</td>\n",
              "      <td>0</td>\n",
              "      <td>0</td>\n",
              "      <td>0</td>\n",
              "      <td>0</td>\n",
              "      <td>0</td>\n",
              "      <td>0</td>\n",
              "      <td>0</td>\n",
              "      <td>0</td>\n",
              "      <td>0</td>\n",
              "      <td>0</td>\n",
              "      <td>0</td>\n",
              "      <td>0</td>\n",
              "      <td>0</td>\n",
              "      <td>0</td>\n",
              "      <td>0</td>\n",
              "      <td>0</td>\n",
              "      <td>0</td>\n",
              "      <td>0</td>\n",
              "      <td>0</td>\n",
              "      <td>0</td>\n",
              "      <td>0</td>\n",
              "      <td>0</td>\n",
              "      <td>0</td>\n",
              "      <td>0</td>\n",
              "      <td>0</td>\n",
              "      <td>0</td>\n",
              "      <td>1</td>\n",
              "      <td>0</td>\n",
              "    </tr>\n",
              "    <tr>\n",
              "      <th>29515</th>\n",
              "      <td>645.0</td>\n",
              "      <td>1</td>\n",
              "      <td>0</td>\n",
              "      <td>700.0</td>\n",
              "      <td>3.0</td>\n",
              "      <td>1</td>\n",
              "      <td>0</td>\n",
              "      <td>6.950240</td>\n",
              "      <td>5.929589</td>\n",
              "      <td>0.000000</td>\n",
              "      <td>3.258097</td>\n",
              "      <td>0</td>\n",
              "      <td>0</td>\n",
              "      <td>1</td>\n",
              "      <td>0</td>\n",
              "      <td>0</td>\n",
              "      <td>0</td>\n",
              "      <td>1</td>\n",
              "      <td>0</td>\n",
              "      <td>0</td>\n",
              "      <td>0</td>\n",
              "      <td>0</td>\n",
              "      <td>0</td>\n",
              "      <td>0</td>\n",
              "      <td>0</td>\n",
              "      <td>0</td>\n",
              "      <td>0</td>\n",
              "      <td>0</td>\n",
              "      <td>0</td>\n",
              "      <td>0</td>\n",
              "      <td>0</td>\n",
              "      <td>0</td>\n",
              "      <td>0</td>\n",
              "      <td>0</td>\n",
              "      <td>0</td>\n",
              "      <td>0</td>\n",
              "      <td>0</td>\n",
              "      <td>0</td>\n",
              "      <td>0</td>\n",
              "      <td>0</td>\n",
              "      <td>0</td>\n",
              "      <td>0</td>\n",
              "      <td>0</td>\n",
              "      <td>0</td>\n",
              "      <td>0</td>\n",
              "      <td>0</td>\n",
              "      <td>0</td>\n",
              "      <td>0</td>\n",
              "      <td>0</td>\n",
              "      <td>0</td>\n",
              "      <td>0</td>\n",
              "      <td>0</td>\n",
              "      <td>0</td>\n",
              "      <td>0</td>\n",
              "      <td>0</td>\n",
              "      <td>0</td>\n",
              "      <td>0</td>\n",
              "      <td>0</td>\n",
              "      <td>0</td>\n",
              "      <td>0</td>\n",
              "      <td>0</td>\n",
              "      <td>1</td>\n",
              "      <td>0</td>\n",
              "      <td>0</td>\n",
              "      <td>0</td>\n",
              "      <td>0</td>\n",
              "      <td>0</td>\n",
              "    </tr>\n",
              "    <tr>\n",
              "      <th>29516</th>\n",
              "      <td>449.0</td>\n",
              "      <td>1</td>\n",
              "      <td>0</td>\n",
              "      <td>806.0</td>\n",
              "      <td>3.0</td>\n",
              "      <td>1</td>\n",
              "      <td>20</td>\n",
              "      <td>6.499967</td>\n",
              "      <td>5.993961</td>\n",
              "      <td>0.000000</td>\n",
              "      <td>3.713572</td>\n",
              "      <td>1</td>\n",
              "      <td>0</td>\n",
              "      <td>0</td>\n",
              "      <td>0</td>\n",
              "      <td>0</td>\n",
              "      <td>0</td>\n",
              "      <td>0</td>\n",
              "      <td>0</td>\n",
              "      <td>0</td>\n",
              "      <td>0</td>\n",
              "      <td>0</td>\n",
              "      <td>0</td>\n",
              "      <td>0</td>\n",
              "      <td>0</td>\n",
              "      <td>0</td>\n",
              "      <td>0</td>\n",
              "      <td>0</td>\n",
              "      <td>0</td>\n",
              "      <td>0</td>\n",
              "      <td>0</td>\n",
              "      <td>0</td>\n",
              "      <td>0</td>\n",
              "      <td>0</td>\n",
              "      <td>0</td>\n",
              "      <td>0</td>\n",
              "      <td>0</td>\n",
              "      <td>0</td>\n",
              "      <td>0</td>\n",
              "      <td>0</td>\n",
              "      <td>0</td>\n",
              "      <td>0</td>\n",
              "      <td>0</td>\n",
              "      <td>0</td>\n",
              "      <td>0</td>\n",
              "      <td>0</td>\n",
              "      <td>0</td>\n",
              "      <td>0</td>\n",
              "      <td>0</td>\n",
              "      <td>0</td>\n",
              "      <td>0</td>\n",
              "      <td>0</td>\n",
              "      <td>0</td>\n",
              "      <td>0</td>\n",
              "      <td>0</td>\n",
              "      <td>1</td>\n",
              "      <td>0</td>\n",
              "      <td>0</td>\n",
              "      <td>0</td>\n",
              "      <td>0</td>\n",
              "      <td>0</td>\n",
              "      <td>1</td>\n",
              "      <td>0</td>\n",
              "      <td>0</td>\n",
              "      <td>0</td>\n",
              "      <td>0</td>\n",
              "      <td>0</td>\n",
              "    </tr>\n",
              "    <tr>\n",
              "      <th>29517</th>\n",
              "      <td>645.0</td>\n",
              "      <td>1</td>\n",
              "      <td>0</td>\n",
              "      <td>827.0</td>\n",
              "      <td>1.0</td>\n",
              "      <td>1</td>\n",
              "      <td>2</td>\n",
              "      <td>6.942524</td>\n",
              "      <td>5.707110</td>\n",
              "      <td>0.000000</td>\n",
              "      <td>1.945910</td>\n",
              "      <td>0</td>\n",
              "      <td>0</td>\n",
              "      <td>0</td>\n",
              "      <td>0</td>\n",
              "      <td>1</td>\n",
              "      <td>0</td>\n",
              "      <td>0</td>\n",
              "      <td>0</td>\n",
              "      <td>0</td>\n",
              "      <td>0</td>\n",
              "      <td>1</td>\n",
              "      <td>0</td>\n",
              "      <td>0</td>\n",
              "      <td>0</td>\n",
              "      <td>0</td>\n",
              "      <td>0</td>\n",
              "      <td>0</td>\n",
              "      <td>0</td>\n",
              "      <td>0</td>\n",
              "      <td>0</td>\n",
              "      <td>0</td>\n",
              "      <td>0</td>\n",
              "      <td>0</td>\n",
              "      <td>0</td>\n",
              "      <td>0</td>\n",
              "      <td>0</td>\n",
              "      <td>0</td>\n",
              "      <td>0</td>\n",
              "      <td>0</td>\n",
              "      <td>0</td>\n",
              "      <td>0</td>\n",
              "      <td>0</td>\n",
              "      <td>0</td>\n",
              "      <td>0</td>\n",
              "      <td>0</td>\n",
              "      <td>0</td>\n",
              "      <td>0</td>\n",
              "      <td>0</td>\n",
              "      <td>0</td>\n",
              "      <td>0</td>\n",
              "      <td>0</td>\n",
              "      <td>0</td>\n",
              "      <td>0</td>\n",
              "      <td>0</td>\n",
              "      <td>0</td>\n",
              "      <td>0</td>\n",
              "      <td>0</td>\n",
              "      <td>0</td>\n",
              "      <td>0</td>\n",
              "      <td>0</td>\n",
              "      <td>1</td>\n",
              "      <td>0</td>\n",
              "      <td>0</td>\n",
              "      <td>0</td>\n",
              "      <td>0</td>\n",
              "      <td>0</td>\n",
              "    </tr>\n",
              "  </tbody>\n",
              "</table>\n",
              "<p>29518 rows × 67 columns</p>\n",
              "</div>"
            ],
            "text/plain": [
              "         apr  hasCF  ...  leadType_rc_returning  leadType_repeat\n",
              "0      199.0      1  ...                      0                0\n",
              "1      490.0      1  ...                      0                0\n",
              "2      590.0      1  ...                      0                0\n",
              "3      404.1      1  ...                      0                0\n",
              "4      315.0      1  ...                      0                0\n",
              "...      ...    ...  ...                    ...              ...\n",
              "29513  645.0      1  ...                      0                0\n",
              "29514  565.0      0  ...                      1                0\n",
              "29515  645.0      1  ...                      0                0\n",
              "29516  449.0      1  ...                      0                0\n",
              "29517  645.0      1  ...                      0                0\n",
              "\n",
              "[29518 rows x 67 columns]"
            ]
          },
          "metadata": {
            "tags": []
          },
          "execution_count": 14
        }
      ]
    },
    {
      "cell_type": "code",
      "metadata": {
        "colab": {
          "base_uri": "https://localhost:8080/"
        },
        "id": "GOsXfjAVHosB",
        "outputId": "0a049b7e-bfcb-40a0-bd40-6c4d9aede193"
      },
      "source": [
        "data= pd.read_csv('./merged.csv')\n",
        "data.isnull().sum().sort_values(ascending=False)"
      ],
      "execution_count": 69,
      "outputs": [
        {
          "output_type": "execute_result",
          "data": {
            "text/plain": [
              "leadType_repeat                         0\n",
              "leadType_rc_returning                   0\n",
              "hasCF                                   0\n",
              "target                                  0\n",
              "Default_ratio_per_state                 0\n",
              "clearfraudscore                         0\n",
              "ssnLoanCount                            0\n",
              "HoursTaken                              0\n",
              "log_originallyScheduledPaymentAmount    0\n",
              "log_loanAmount                          0\n",
              "log_nPaidOff                            0\n",
              "log_leadCost                            0\n",
              "payFrequency_B                          0\n",
              "payFrequency_I                          0\n",
              "payFrequency_M                          0\n",
              "payFrequency_S                          0\n",
              "payFrequency_W                          0\n",
              "leadType_bvMandatory                    0\n",
              "leadType_california                     0\n",
              "leadType_express                        0\n",
              "leadType_instant-offer                  0\n",
              "leadType_lead                           0\n",
              "leadType_lionpay                        0\n",
              "leadType_organic                        0\n",
              "leadType_prescreen                      0\n",
              "apr                                     0\n",
              "dtype: int64"
            ]
          },
          "metadata": {
            "tags": []
          },
          "execution_count": 69
        }
      ]
    },
    {
      "cell_type": "code",
      "metadata": {
        "id": "_o2d_CBMwbU0"
      },
      "source": [
        "# Separate input features and target\n",
        "x_data = data.drop(columns=['target'])\n",
        "y_data = data['target'].astype('category')"
      ],
      "execution_count": 71,
      "outputs": []
    },
    {
      "cell_type": "code",
      "metadata": {
        "id": "Y1aWrpTkwbU0"
      },
      "source": [
        "# Shuffle and split data into 70% in training and 30% in testing\n",
        "from sklearn.model_selection import train_test_split\n",
        "xtrain, xtest, ytrain, ytest = train_test_split(x_data, y_data,random_state=123, test_size=0.30)\n"
      ],
      "execution_count": 72,
      "outputs": []
    },
    {
      "cell_type": "code",
      "metadata": {
        "id": "r8Fm9-WnPptN"
      },
      "source": [
        "# Create a dictionary to store accuracy and AUC scores of all models for visualization later\n",
        "model_scores = {}"
      ],
      "execution_count": 73,
      "outputs": []
    },
    {
      "cell_type": "code",
      "metadata": {
        "id": "HmBfWVoEBIfd"
      },
      "source": [
        "# Data Scaling is important for Neural Networks to prevent overfitting and exploding/vanishing gradient\n",
        "from sklearn.preprocessing import QuantileTransformer\n",
        "# created scaler\n",
        "scaler = QuantileTransformer(output_distribution= 'normal', random_state=0)\n",
        "# fit and transform training dataset\n",
        "xtrain= scaler.fit_transform(xtrain)\n",
        "# transform test dataset\n",
        "xtest= scaler.transform(xtest)"
      ],
      "execution_count": 74,
      "outputs": []
    },
    {
      "cell_type": "code",
      "metadata": {
        "colab": {
          "base_uri": "https://localhost:8080/"
        },
        "id": "LScDCMW9VLgK",
        "outputId": "4d0b3412-8b6b-4459-a890-f1635f70f990"
      },
      "source": [
        "xtrain"
      ],
      "execution_count": 75,
      "outputs": [
        {
          "output_type": "execute_result",
          "data": {
            "text/plain": [
              "array([[-0.84090635, -5.19933758,  1.09784478, ..., -5.19933758,\n",
              "        -5.19933758, -5.19933758],\n",
              "       [ 1.88775344,  5.19933758,  1.09784478, ..., -5.19933758,\n",
              "        -5.19933758, -5.19933758],\n",
              "       [ 1.88775344,  5.19933758,  1.09784478, ...,  5.19933758,\n",
              "        -5.19933758, -5.19933758],\n",
              "       ...,\n",
              "       [-0.24196303, -5.19933758,  2.32597246, ..., -5.19933758,\n",
              "         5.19933758, -5.19933758],\n",
              "       [ 1.18192052,  5.19933758,  0.56132709, ..., -5.19933758,\n",
              "        -5.19933758, -5.19933758],\n",
              "       [ 0.20978711,  5.19933758,  1.44968225, ..., -5.19933758,\n",
              "        -5.19933758, -5.19933758]])"
            ]
          },
          "metadata": {
            "tags": []
          },
          "execution_count": 75
        }
      ]
    },
    {
      "cell_type": "markdown",
      "metadata": {
        "id": "9xjqKNagwbU0"
      },
      "source": [
        "## Data Modelling and Parameter Tuning\n",
        "* 4 models has been used to perform data modelling. These are Random Forest, XGBoost, Logistic Regression and Neural Networks.\n",
        "* Feature selection is not needed for Random Forest and XGBoost.\n",
        "* Random Forest and XGBoost are robust to the outliers\n",
        "* Confusion Matrix will be shown and Cross-validation will be performed. \n",
        "* Model Performance will be compared using AUC score on validation dataset"
      ]
    },
    {
      "cell_type": "code",
      "metadata": {
        "id": "UGWkeciswbU1"
      },
      "source": [
        "# function for evaluation metrics\n",
        "def model_evaluation(model, ytest, y_pred, plot=False):\n",
        "   \n",
        "# Confusion Marix and Visualisations\n",
        "    confusion = confusion_matrix(ytest, y_pred)\n",
        "    TP = confusion[1, 1]\n",
        "    TN = confusion[0, 0]\n",
        "    FP = confusion[0, 1]\n",
        "    FN = confusion[1, 0]\n",
        "    sns.heatmap(confusion,annot=True,fmt=\"d\") \n",
        "    plt.title('Confusion Matrix')\n",
        "    plt.xlabel('Predicted')\n",
        "    plt.ylabel('Actual')\n",
        "    plt.show()\n",
        "    \n",
        "    accuracy = metrics.accuracy_score(ytest, y_pred)\n",
        "    print('TP:', TP)\n",
        "    print('TN:', TN)\n",
        "    print('FP:', FP)\n",
        "    print('FN:', FN)\n",
        "    \n",
        "    AUC= metrics.roc_auc_score(ytest, y_pred)\n",
        "    #CV_AUC = cross_val_score(model, x_data, y_data, cv=10, scoring='roc_auc').mean()\n",
        "    print('Classification Accuracy:', accuracy)    \n",
        "    print('F1 Score:',f1_score(ytest, y_pred))\n",
        "    print('AUC Score:',AUC)\n",
        "    #print('Cross-validated AUC:', CV_AUC)\n",
        "  \n",
        "    return accuracy, AUC"
      ],
      "execution_count": 76,
      "outputs": []
    },
    {
      "cell_type": "markdown",
      "metadata": {
        "id": "BXsib4JVwbU1"
      },
      "source": [
        "## Random Forest"
      ]
    },
    {
      "cell_type": "code",
      "metadata": {
        "id": "Ekj_i652wbU1",
        "colab": {
          "base_uri": "https://localhost:8080/"
        },
        "outputId": "01b5e119-a948-4b2e-cc53-02fe749d77da"
      },
      "source": [
        "from sklearn.ensemble import RandomForestClassifier, ExtraTreesClassifier\n",
        "from sklearn import metrics\n",
        "from sklearn.metrics import accuracy_score, roc_auc_score,log_loss,f1_score,confusion_matrix\n",
        "from sklearn.model_selection import cross_val_score\n",
        "\n",
        "# Building and fitting random_forest\n",
        "random_forest =RandomForestClassifier(max_depth = None, min_samples_leaf=8, min_samples_split=2, n_estimators = 50, random_state = 123)\n",
        "random_forest.fit(xtrain, ytrain)"
      ],
      "execution_count": 77,
      "outputs": [
        {
          "output_type": "execute_result",
          "data": {
            "text/plain": [
              "RandomForestClassifier(bootstrap=True, ccp_alpha=0.0, class_weight=None,\n",
              "                       criterion='gini', max_depth=None, max_features='auto',\n",
              "                       max_leaf_nodes=None, max_samples=None,\n",
              "                       min_impurity_decrease=0.0, min_impurity_split=None,\n",
              "                       min_samples_leaf=8, min_samples_split=2,\n",
              "                       min_weight_fraction_leaf=0.0, n_estimators=50,\n",
              "                       n_jobs=None, oob_score=False, random_state=123,\n",
              "                       verbose=0, warm_start=False)"
            ]
          },
          "metadata": {
            "tags": []
          },
          "execution_count": 77
        }
      ]
    },
    {
      "cell_type": "code",
      "metadata": {
        "colab": {
          "base_uri": "https://localhost:8080/",
          "height": 1000
        },
        "id": "Zui6gNHHzdh0",
        "outputId": "caecb1f0-e216-4b2e-8980-135f4416ca1e"
      },
      "source": [
        "print('########### Random Forests ###############')\n",
        "feat_imp = pd.DataFrame({'importance':random_forest.feature_importances_})    \n",
        "feat_imp['feature'] = x_data.columns\n",
        "feat_imp.sort_values(by='importance', inplace=True)\n",
        "feat_imp = feat_imp.set_index('feature', drop=True)\n",
        "feat_imp.plot.barh(title=\"Feature Importances\", figsize=(10,20))\n",
        "plt.xlabel('Feature Importance Score')\n",
        "plt.show()"
      ],
      "execution_count": 78,
      "outputs": [
        {
          "output_type": "stream",
          "text": [
            "########### Random Forests ###############\n"
          ],
          "name": "stdout"
        },
        {
          "output_type": "display_data",
          "data": {
            "image/png": "[encoded data removed]",
            "text/plain": [
              "<Figure size 720x1440 with 1 Axes>"
            ]
          },
          "metadata": {
            "tags": [],
            "needs_background": "light"
          }
        }
      ]
    },
    {
      "cell_type": "code",
      "metadata": {
        "id": "v2bPOHFTzXMJ"
      },
      "source": [
        "# make class predictions for the testing set\n",
        "y_pred_class_rf = random_forest.predict(xtest)"
      ],
      "execution_count": 79,
      "outputs": []
    },
    {
      "cell_type": "code",
      "metadata": {
        "id": "9EwwYE0zzEV_",
        "colab": {
          "base_uri": "https://localhost:8080/",
          "height": 418
        },
        "outputId": "2b699af4-28c2-4b8d-c244-cdddb63b55b2"
      },
      "source": [
        "accuracy_score_random_forest = model_evaluation(random_forest, ytest, y_pred_class_rf, True)\n",
        "\n",
        "model_scores['Random Forest'] = accuracy_score_random_forest[1] * 100"
      ],
      "execution_count": 80,
      "outputs": [
        {
          "output_type": "display_data",
          "data": {
            "image/png": "[encoded data removed]",
            "text/plain": [
              "<Figure size 432x288 with 2 Axes>"
            ]
          },
          "metadata": {
            "tags": [],
            "needs_background": "light"
          }
        },
        {
          "output_type": "stream",
          "text": [
            "TP: 4501\n",
            "TN: 1997\n",
            "FP: 1620\n",
            "FN: 738\n",
            "Classification Accuracy: 0.733739837398374\n",
            "F1 Score: 0.7924295774647887\n",
            "AUC Score: 0.7056242174250533\n"
          ],
          "name": "stdout"
        }
      ]
    },
    {
      "cell_type": "markdown",
      "metadata": {
        "id": "lecU6HlYwbU1"
      },
      "source": [
        "## XGBoost"
      ]
    },
    {
      "cell_type": "code",
      "metadata": {
        "colab": {
          "base_uri": "https://localhost:8080/"
        },
        "id": "1AYqoh_KA_3h",
        "outputId": "7a295ed0-3876-4465-8d11-023693316f19"
      },
      "source": [
        "from scipy.stats import randint\n",
        "from scipy.stats import uniform\n",
        "from xgboost import XGBClassifier\n",
        "from sklearn.model_selection import RandomizedSearchCV\n",
        "xgModel = XGBClassifier()\n",
        "xgModel.fit(xtrain, ytrain)\n"
      ],
      "execution_count": 81,
      "outputs": [
        {
          "output_type": "execute_result",
          "data": {
            "text/plain": [
              "XGBClassifier(base_score=0.5, booster='gbtree', colsample_bylevel=1,\n",
              "              colsample_bynode=1, colsample_bytree=1, gamma=0,\n",
              "              learning_rate=0.1, max_delta_step=0, max_depth=3,\n",
              "              min_child_weight=1, missing=None, n_estimators=100, n_jobs=1,\n",
              "              nthread=None, objective='binary:logistic', random_state=0,\n",
              "              reg_alpha=0, reg_lambda=1, scale_pos_weight=1, seed=None,\n",
              "              silent=None, subsample=1, verbosity=1)"
            ]
          },
          "metadata": {
            "tags": []
          },
          "execution_count": 81
        }
      ]
    },
    {
      "cell_type": "code",
      "metadata": {
        "id": "_JBTpoxAzrdd",
        "colab": {
          "base_uri": "https://localhost:8080/",
          "height": 1000
        },
        "outputId": "6256d3f5-3abb-47e4-9ce5-e271b6de7880"
      },
      "source": [
        "print('########### XGBoost ###############')\n",
        "feat_imp = pd.DataFrame({'importance':xgModel.feature_importances_})    \n",
        "feat_imp['feature'] = x_data.columns\n",
        "feat_imp.sort_values(by='importance', ascending=True, inplace=True)\n",
        "\n",
        "feat_imp = feat_imp.set_index('feature', drop=True)\n",
        "feat_imp.plot.barh(title=\"Feature Importances\", figsize=(10,20))\n",
        "plt.xlabel('Feature Importance Score')\n",
        "plt.show()"
      ],
      "execution_count": 82,
      "outputs": [
        {
          "output_type": "stream",
          "text": [
            "########### XGBoost ###############\n"
          ],
          "name": "stdout"
        },
        {
          "output_type": "display_data",
          "data": {
            "image/png": "[encoded data removed]",
            "text/plain": [
              "<Figure size 720x1440 with 1 Axes>"
            ]
          },
          "metadata": {
            "tags": [],
            "needs_background": "light"
          }
        }
      ]
    },
    {
      "cell_type": "code",
      "metadata": {
        "id": "GyYfHoBnwN4y",
        "colab": {
          "base_uri": "https://localhost:8080/",
          "height": 418
        },
        "outputId": "48105714-fada-48b7-d4e6-5620f2c47a7f"
      },
      "source": [
        "# make class predictions for the testing set\n",
        "y_pred_xgModel = xgModel.predict(xtest)\n",
        "\n",
        "accuracy_score = model_evaluation(xgModel, ytest, y_pred_xgModel, True)\n",
        "\n",
        "model_scores['XGBClassifier'] = accuracy_score[1] * 100"
      ],
      "execution_count": 83,
      "outputs": [
        {
          "output_type": "display_data",
          "data": {
            "image/png": "[encoded data removed]",
            "text/plain": [
              "<Figure size 432x288 with 2 Axes>"
            ]
          },
          "metadata": {
            "tags": [],
            "needs_background": "light"
          }
        },
        {
          "output_type": "stream",
          "text": [
            "TP: 4510\n",
            "TN: 1982\n",
            "FP: 1635\n",
            "FN: 729\n",
            "Classification Accuracy: 0.7330623306233063\n",
            "F1 Score: 0.7923401264933239\n",
            "AUC Score: 0.7044096183622723\n"
          ],
          "name": "stdout"
        }
      ]
    },
    {
      "cell_type": "code",
      "metadata": {
        "id": "U33MpAo0wbU1"
      },
      "source": [
        "#Hyperparameter tuning of XGBoost Classifier\n",
        "param_distributions={'max_depth': np.arange(1, 5,1),\n",
        "                    'subsample': uniform(0.25, 0.75),\n",
        "                    'colsample_bytree': uniform(0.25, 0.75),\n",
        "                    \"learning_rate\": [0.05, 0.1,0.16]\n",
        "                    }\n",
        "\n",
        "rs = RandomizedSearchCV(xgModel,\n",
        "                        param_distributions,\n",
        "                        cv=10,\n",
        "                        n_iter=10,\n",
        "                        scoring=\"accuracy\",\n",
        "                        n_jobs=1,\n",
        "                        verbose=False,\n",
        "                        random_state=123)\n",
        "rs.fit(xtrain, ytrain)\n",
        "y_pred_xgModel_cv = rs.predict(xtest)\n"
      ],
      "execution_count": 84,
      "outputs": []
    },
    {
      "cell_type": "code",
      "metadata": {
        "id": "UwrWJFq6BlOF",
        "colab": {
          "base_uri": "https://localhost:8080/",
          "height": 418
        },
        "outputId": "47914d65-c6a4-4d7e-9d86-edfdbb6172d8"
      },
      "source": [
        "model_score_xgboost_cv= model_evaluation(rs, ytest, y_pred_xgModel_cv, True)\n",
        "model_scores['XGBoost_CV'] = model_score_xgboost_cv[1] * 100"
      ],
      "execution_count": 85,
      "outputs": [
        {
          "output_type": "display_data",
          "data": {
            "image/png": "[encoded data removed]",
            "text/plain": [
              "<Figure size 432x288 with 2 Axes>"
            ]
          },
          "metadata": {
            "tags": [],
            "needs_background": "light"
          }
        },
        {
          "output_type": "stream",
          "text": [
            "TP: 4546\n",
            "TN: 1977\n",
            "FP: 1640\n",
            "FN: 693\n",
            "Classification Accuracy: 0.7365627822944896\n",
            "F1 Score: 0.7957986870897157\n",
            "AUC Score: 0.707154208011066\n"
          ],
          "name": "stdout"
        }
      ]
    },
    {
      "cell_type": "code",
      "metadata": {
        "id": "Eo1U8g22A0Ju",
        "colab": {
          "base_uri": "https://localhost:8080/"
        },
        "outputId": "f6f5e047-8145-4853-e3bd-6d9a3f2ea16b"
      },
      "source": [
        "rs.best_params_"
      ],
      "execution_count": 86,
      "outputs": [
        {
          "output_type": "execute_result",
          "data": {
            "text/plain": [
              "{'colsample_bytree': 0.47028553479162205,\n",
              " 'learning_rate': 0.05,\n",
              " 'max_depth': 4,\n",
              " 'subsample': 0.3190787049588064}"
            ]
          },
          "metadata": {
            "tags": []
          },
          "execution_count": 86
        }
      ]
    },
    {
      "cell_type": "code",
      "metadata": {
        "id": "m4ear73mI9zy",
        "colab": {
          "base_uri": "https://localhost:8080/",
          "height": 265
        },
        "outputId": "bf7a0e51-5ac6-4ac0-e8d6-261caeae2cd3"
      },
      "source": [
        "#plot graph of feature importances for better visualization\n",
        "from xgboost import plot_importance\n",
        "feat_importances = pd.Series(xgModel.feature_importances_, index=x_data.columns)\n",
        "feat_importances.nlargest(20).plot(kind='barh')\n",
        "plt.show()"
      ],
      "execution_count": 87,
      "outputs": [
        {
          "output_type": "display_data",
          "data": {
            "image/png": "[encoded data removed]",
            "text/plain": [
              "<Figure size 432x288 with 1 Axes>"
            ]
          },
          "metadata": {
            "tags": [],
            "needs_background": "light"
          }
        }
      ]
    },
    {
      "cell_type": "code",
      "metadata": {
        "id": "gJ-Dor8wwbU2",
        "colab": {
          "base_uri": "https://localhost:8080/"
        },
        "outputId": "21fe97ba-7d61-4342-a5a8-9941482f5c4e"
      },
      "source": [
        "rs.best_params_"
      ],
      "execution_count": 88,
      "outputs": [
        {
          "output_type": "execute_result",
          "data": {
            "text/plain": [
              "{'colsample_bytree': 0.47028553479162205,\n",
              " 'learning_rate': 0.05,\n",
              " 'max_depth': 4,\n",
              " 'subsample': 0.3190787049588064}"
            ]
          },
          "metadata": {
            "tags": []
          },
          "execution_count": 88
        }
      ]
    },
    {
      "cell_type": "markdown",
      "metadata": {
        "id": "n51y3vbVwbU2"
      },
      "source": [
        "## Logistic Regression"
      ]
    },
    {
      "cell_type": "code",
      "metadata": {
        "id": "-w80I-cAwbU2",
        "colab": {
          "base_uri": "https://localhost:8080/"
        },
        "outputId": "afb0090e-4f8a-4982-f2ab-d101fa377b48"
      },
      "source": [
        "from sklearn.linear_model import LogisticRegression\n",
        "logistic_reg= LogisticRegression()\n",
        "logistic_reg.fit(xtrain, ytrain)\n",
        "y_pred_class = logistic_reg.predict(xtest)\n",
        "logistic_reg.score(xtest,ytest)"
      ],
      "execution_count": 89,
      "outputs": [
        {
          "output_type": "execute_result",
          "data": {
            "text/plain": [
              "0.7275293586269196"
            ]
          },
          "metadata": {
            "tags": []
          },
          "execution_count": 89
        }
      ]
    },
    {
      "cell_type": "code",
      "metadata": {
        "id": "j_TJ9MSV3wEZ",
        "colab": {
          "base_uri": "https://localhost:8080/",
          "height": 705
        },
        "outputId": "db006f97-9767-4175-e8a5-44d68f1be9fe"
      },
      "source": [
        "# get importance\n",
        "importance = logistic_reg.coef_[0]\n",
        "# summarize feature importance\n",
        "for i,v in enumerate(importance):\n",
        "\tprint('Feature: %0d, Score: %.5f' % (i,v))\n",
        "# plot feature importance\n",
        "plt.bar([x for x in range(len(importance))], importance)\n",
        "plt.show()"
      ],
      "execution_count": 90,
      "outputs": [
        {
          "output_type": "stream",
          "text": [
            "Feature: 0, Score: -0.07050\n",
            "Feature: 1, Score: -0.02715\n",
            "Feature: 2, Score: 0.26870\n",
            "Feature: 3, Score: -0.51248\n",
            "Feature: 4, Score: -0.37339\n",
            "Feature: 5, Score: -0.03071\n",
            "Feature: 6, Score: 0.33586\n",
            "Feature: 7, Score: -0.05091\n",
            "Feature: 8, Score: 0.06207\n",
            "Feature: 9, Score: -0.11440\n",
            "Feature: 10, Score: 0.04843\n",
            "Feature: 11, Score: -0.00620\n",
            "Feature: 12, Score: 0.02905\n",
            "Feature: 13, Score: 0.04069\n",
            "Feature: 14, Score: 0.05127\n",
            "Feature: 15, Score: 0.18868\n",
            "Feature: 16, Score: 0.10153\n",
            "Feature: 17, Score: -0.04955\n",
            "Feature: 18, Score: 0.05442\n",
            "Feature: 19, Score: 0.21124\n",
            "Feature: 20, Score: -0.25176\n",
            "Feature: 21, Score: 0.13052\n",
            "Feature: 22, Score: 0.10435\n",
            "Feature: 23, Score: -0.09187\n",
            "Feature: 24, Score: 0.03777\n"
          ],
          "name": "stdout"
        },
        {
          "output_type": "display_data",
          "data": {
            "image/png": "[encoded data removed]",
            "text/plain": [
              "<Figure size 432x288 with 1 Axes>"
            ]
          },
          "metadata": {
            "tags": [],
            "needs_background": "light"
          }
        }
      ]
    },
    {
      "cell_type": "code",
      "metadata": {
        "id": "Z41NrM8cjqAG",
        "colab": {
          "base_uri": "https://localhost:8080/",
          "height": 418
        },
        "outputId": "ba6bb99b-8183-48d0-980f-6cf6008f1a1a"
      },
      "source": [
        "accuracy_score_logistic_reg = model_evaluation(logistic_reg, ytest, y_pred_class, True)\n",
        "\n",
        "model_scores['LogitClassifier'] = accuracy_score_logistic_reg[1] * 100\n"
      ],
      "execution_count": 91,
      "outputs": [
        {
          "output_type": "display_data",
          "data": {
            "image/png": "[encoded data removed]",
            "text/plain": [
              "<Figure size 432x288 with 2 Axes>"
            ]
          },
          "metadata": {
            "tags": [],
            "needs_background": "light"
          }
        },
        {
          "output_type": "stream",
          "text": [
            "TP: 4598\n",
            "TN: 1845\n",
            "FP: 1772\n",
            "FN: 641\n",
            "Classification Accuracy: 0.7275293586269196\n",
            "F1 Score: 0.7921440261865794\n",
            "AUC Score: 0.6938698210075926\n"
          ],
          "name": "stdout"
        }
      ]
    },
    {
      "cell_type": "code",
      "metadata": {
        "id": "gvH_gFR8jX0p",
        "colab": {
          "base_uri": "https://localhost:8080/"
        },
        "outputId": "7f618595-136b-43f4-a13f-62e7d62f7922"
      },
      "source": [
        "logistic_reg.get_params"
      ],
      "execution_count": 92,
      "outputs": [
        {
          "output_type": "execute_result",
          "data": {
            "text/plain": [
              "<bound method BaseEstimator.get_params of LogisticRegression(C=1.0, class_weight=None, dual=False, fit_intercept=True,\n",
              "                   intercept_scaling=1, l1_ratio=None, max_iter=100,\n",
              "                   multi_class='auto', n_jobs=None, penalty='l2',\n",
              "                   random_state=None, solver='lbfgs', tol=0.0001, verbose=0,\n",
              "                   warm_start=False)>"
            ]
          },
          "metadata": {
            "tags": []
          },
          "execution_count": 92
        }
      ]
    },
    {
      "cell_type": "code",
      "metadata": {
        "id": "6S6i8Je5sNku",
        "colab": {
          "base_uri": "https://localhost:8080/",
          "height": 295
        },
        "outputId": "2ad3a011-42e5-4d70-b774-bac3ec29c028"
      },
      "source": [
        "from sklearn.metrics import precision_recall_curve, roc_curve\n",
        "from sklearn.metrics import plot_precision_recall_curve, plot_roc_curve\n",
        "from sklearn.metrics import average_precision_score\n",
        "y_score= logistic_reg.predict_proba(xtest)[:,1]\n",
        "\n",
        "precision, recall, threshold = precision_recall_curve(ytest, y_score)\n",
        "fpr, tpr, thresholds = roc_curve(ytest, y_score)\n",
        "\n",
        "average_precision = average_precision_score(ytest, y_score)\n",
        "disp = plot_precision_recall_curve(logistic_reg, xtest, ytest)\n",
        "disp.ax_.set_title('2-class Precision-Recall curve: '\n",
        "                   'AP={0:0.2f}'.format(average_precision))\n",
        "plt.show()"
      ],
      "execution_count": 93,
      "outputs": [
        {
          "output_type": "display_data",
          "data": {
            "image/png": "[encoded data removed]",
            "text/plain": [
              "<Figure size 432x288 with 1 Axes>"
            ]
          },
          "metadata": {
            "tags": [],
            "needs_background": "light"
          }
        }
      ]
    },
    {
      "cell_type": "code",
      "metadata": {
        "colab": {
          "base_uri": "https://localhost:8080/",
          "height": 279
        },
        "id": "ndqhc_2POc4C",
        "outputId": "9412cfaa-cce6-4dd4-afaa-5347036a44cd"
      },
      "source": [
        "plot_roc_curve(logistic_reg, xtest, ytest)\n",
        "plt.show()"
      ],
      "execution_count": 94,
      "outputs": [
        {
          "output_type": "display_data",
          "data": {
            "image/png": "[encoded data removed]",
            "text/plain": [
              "<Figure size 432x288 with 1 Axes>"
            ]
          },
          "metadata": {
            "tags": [],
            "needs_background": "light"
          }
        }
      ]
    },
    {
      "cell_type": "code",
      "metadata": {
        "colab": {
          "base_uri": "https://localhost:8080/",
          "height": 297
        },
        "id": "B_MZbKKnMjgV",
        "outputId": "195df573-609e-4580-c68b-7c8b3425232c"
      },
      "source": [
        "# plot the roc curve for the model\n",
        "plt.plot(fpr, tpr, linestyle='--', label='No Skill')\n",
        "#plt.plot(thresholds, marker='.', label='Logistic')\n",
        "# axis labels\n",
        "plt.xlabel('False Positive Rate')\n",
        "plt.ylabel('True Positive Rate')"
      ],
      "execution_count": 95,
      "outputs": [
        {
          "output_type": "execute_result",
          "data": {
            "text/plain": [
              "Text(0, 0.5, 'True Positive Rate')"
            ]
          },
          "metadata": {
            "tags": []
          },
          "execution_count": 95
        },
        {
          "output_type": "display_data",
          "data": {
            "image/png": "[encoded data removed]",
            "text/plain": [
              "<Figure size 432x288 with 1 Axes>"
            ]
          },
          "metadata": {
            "tags": [],
            "needs_background": "light"
          }
        }
      ]
    },
    {
      "cell_type": "code",
      "metadata": {
        "id": "B5goyLP0XGDS"
      },
      "source": [
        "def threshold_optimization(model_name, test_features, test_labels, thresholds_list):\n",
        "  '''\n",
        "  '''\n",
        "  pred_proba_df = pd.DataFrame(model_name.predict_proba(test_features))\n",
        "  for i in thresholds_list:\n",
        "      print ('\\n******** For Threshold = {} ******'.format(i))\n",
        "      Y_test_pred = pred_proba_df[1].map(lambda x: 1 if x>i else 0)\n",
        "      confusion = confusion_matrix(test_labels, Y_test_pred)\n",
        "      TP = confusion[1, 1]\n",
        "      TN = confusion[0, 0]\n",
        "      FP = confusion[0, 1]\n",
        "      FN = confusion[1, 0]\n",
        "      f1= f1_score(test_labels, Y_test_pred)\n",
        "\n",
        "      print('TP:', TP)\n",
        "      print('TN:', TN)\n",
        "      print('FP:', FP)\n",
        "      print('FN:', FN)\n",
        "      print(f'F-1 Score with threshold {i} is: {f1}')"
      ],
      "execution_count": 96,
      "outputs": []
    },
    {
      "cell_type": "code",
      "metadata": {
        "colab": {
          "base_uri": "https://localhost:8080/"
        },
        "id": "qPHgsVobYT6D",
        "outputId": "f5d0bf62-d93b-46ca-e666-9b5b85c78e88"
      },
      "source": [
        "threshold_list = [0.2, 0.3, 0.4, 0.45, 0.5, 0.55, 0.6, 0.7, 0.8, 0.9]\n",
        "threshold_optimization(logistic_reg ,xtest, ytest, threshold_list)"
      ],
      "execution_count": 97,
      "outputs": [
        {
          "output_type": "stream",
          "text": [
            "\n",
            "******** For Threshold = 0.2 ******\n",
            "TP: 5107\n",
            "TN: 929\n",
            "FP: 2688\n",
            "FN: 132\n",
            "F-1 Score with threshold 0.2 is: 0.7836427804204389\n",
            "\n",
            "******** For Threshold = 0.3 ******\n",
            "TP: 4948\n",
            "TN: 1341\n",
            "FP: 2276\n",
            "FN: 291\n",
            "F-1 Score with threshold 0.3 is: 0.7940303297761374\n",
            "\n",
            "******** For Threshold = 0.4 ******\n",
            "TP: 4811\n",
            "TN: 1585\n",
            "FP: 2032\n",
            "FN: 428\n",
            "F-1 Score with threshold 0.4 is: 0.796391325939414\n",
            "\n",
            "******** For Threshold = 0.45 ******\n",
            "TP: 4726\n",
            "TN: 1709\n",
            "FP: 1908\n",
            "FN: 513\n",
            "F-1 Score with threshold 0.45 is: 0.7960919733849913\n",
            "\n",
            "******** For Threshold = 0.5 ******\n",
            "TP: 4598\n",
            "TN: 1845\n",
            "FP: 1772\n",
            "FN: 641\n",
            "F-1 Score with threshold 0.5 is: 0.7921440261865794\n",
            "\n",
            "******** For Threshold = 0.55 ******\n",
            "TP: 4437\n",
            "TN: 2015\n",
            "FP: 1602\n",
            "FN: 802\n",
            "F-1 Score with threshold 0.55 is: 0.7868416385884022\n",
            "\n",
            "******** For Threshold = 0.6 ******\n",
            "TP: 4148\n",
            "TN: 2225\n",
            "FP: 1392\n",
            "FN: 1091\n",
            "F-1 Score with threshold 0.6 is: 0.7696446794693385\n",
            "\n",
            "******** For Threshold = 0.7 ******\n",
            "TP: 3131\n",
            "TN: 2749\n",
            "FP: 868\n",
            "FN: 2108\n",
            "F-1 Score with threshold 0.7 is: 0.6778523489932886\n",
            "\n",
            "******** For Threshold = 0.8 ******\n",
            "TP: 1355\n",
            "TN: 3342\n",
            "FP: 275\n",
            "FN: 3884\n",
            "F-1 Score with threshold 0.8 is: 0.3945261318969282\n",
            "\n",
            "******** For Threshold = 0.9 ******\n",
            "TP: 59\n",
            "TN: 3606\n",
            "FP: 11\n",
            "FN: 5180\n",
            "F-1 Score with threshold 0.9 is: 0.022226407986438122\n"
          ],
          "name": "stdout"
        }
      ]
    },
    {
      "cell_type": "markdown",
      "metadata": {
        "id": "drsYCHyPc6z4"
      },
      "source": [
        "<b>As classification threshold increse F-1 Score also increases. But False Negative (defaulter customer identified as good customer) also inreases. Which could be coslty to the business. An optimum threshold has to be chosen. </b>"
      ]
    },
    {
      "cell_type": "code",
      "metadata": {
        "colab": {
          "base_uri": "https://localhost:8080/",
          "height": 313
        },
        "id": "WEn9isL4ua4f",
        "outputId": "9add770b-2c98-4285-a054-b7a7dd13f898"
      },
      "source": [
        "### Predict test_y values and probabilities based on fitted logistic regression model\n",
        "\n",
        "pred_y=logistic_reg.predict(xtest) \n",
        "\n",
        "probs_y=logistic_reg.predict_proba(xtest) \n",
        "  # probs_y is a 2-D array of probability of being labeled as 0 (first   column of  array) vs 1 (2nd column in array)\n",
        "\n",
        "from sklearn.metrics import precision_recall_curve\n",
        "precision, recall, thresholds = precision_recall_curve(ytest, probs_y[:,1]) \n",
        "   #retrieve probability of being 1(in second column of probs_y)\n",
        "pr_auc = metrics.auc(recall, precision)\n",
        "\n",
        "plt.title(\"Precision-Recall vs Threshold Chart\")\n",
        "plt.plot(thresholds, precision[: -1], \"b--\", label=\"Precision\")\n",
        "plt.plot(thresholds, recall[: -1], \"r--\", label=\"Recall\")\n",
        "plt.ylabel(\"Precision, Recall\")\n",
        "plt.xlabel(\"Threshold\")\n",
        "plt.legend(loc=\"lower left\")\n",
        "plt.ylim([0,1])"
      ],
      "execution_count": 98,
      "outputs": [
        {
          "output_type": "execute_result",
          "data": {
            "text/plain": [
              "(0.0, 1.0)"
            ]
          },
          "metadata": {
            "tags": []
          },
          "execution_count": 98
        },
        {
          "output_type": "display_data",
          "data": {
            "image/png": "[encoded data removed]",
            "text/plain": [
              "<Figure size 432x288 with 1 Axes>"
            ]
          },
          "metadata": {
            "tags": [],
            "needs_background": "light"
          }
        }
      ]
    },
    {
      "cell_type": "markdown",
      "metadata": {
        "id": "CNQufPs9wbU2"
      },
      "source": [
        "## Neural Networks\n"
      ]
    },
    {
      "cell_type": "code",
      "metadata": {
        "id": "ZnCwUcB2wbU3",
        "colab": {
          "base_uri": "https://localhost:8080/"
        },
        "outputId": "f4c03c18-bf6e-4b69-bddc-e2a66a200275"
      },
      "source": [
        "# Model using Artificial Neural Networks\n",
        "import numpy as np\n",
        "import keras\n",
        "from keras.models import Sequential\n",
        "from keras.layers import Dense\n",
        "from keras.layers import Dropout\n",
        "from keras.optimizers import SGD\n",
        "import time\n",
        "from sklearn import metrics\n",
        "from sklearn.metrics import confusion_matrix\n",
        "\n",
        "early_stopping_callback = keras.callbacks.EarlyStopping(monitor='accuracy', patience=4)\n",
        "\n",
        "#Fit ANN model to data\n",
        "startTrain= time.time()\n",
        "model = Sequential()\n",
        "model.add(Dense(activation = 'relu', kernel_initializer= 'uniform', units = 40, input_dim= 25))\n",
        "model.add(Dropout(rate= 0.01))\n",
        "model.add(Dense(activation = 'relu', kernel_initializer= 'uniform', units = 40))\n",
        "model.add(Dense(activation = 'relu', kernel_initializer= 'uniform', units = 20))\n",
        "model.add(Dense(activation = 'sigmoid', kernel_initializer= 'uniform', units =1))\n",
        "model.compile(optimizer=SGD(lr=0.005, momentum=0.9), loss= 'binary_crossentropy', metrics=['accuracy'])\n",
        "model.fit(np.array(xtrain), np.array(ytrain), batch_size=32, epochs=100, callbacks=early_stopping_callback)\n",
        "endTrain = time.time()\n",
        "\n",
        "\n",
        "\n",
        "print(\"ANN training time (secs) {0}\".format(endTrain - startTrain))\n",
        "\n",
        "#Predicting using ANN\n",
        "Ypred = model.predict_classes(np.array(xtest))\n",
        "\n"
      ],
      "execution_count": 99,
      "outputs": [
        {
          "output_type": "stream",
          "text": [
            "Epoch 1/100\n",
            "646/646 [==============================] - 12s 1ms/step - loss: 0.6821 - accuracy: 0.5832\n",
            "Epoch 2/100\n",
            "646/646 [==============================] - 1s 1ms/step - loss: 0.6766 - accuracy: 0.5875\n",
            "Epoch 3/100\n",
            "646/646 [==============================] - 1s 1ms/step - loss: 0.6115 - accuracy: 0.6745\n",
            "Epoch 4/100\n",
            "646/646 [==============================] - 1s 1ms/step - loss: 0.5513 - accuracy: 0.7333\n",
            "Epoch 5/100\n",
            "646/646 [==============================] - 1s 1ms/step - loss: 0.5392 - accuracy: 0.7287\n",
            "Epoch 6/100\n",
            "646/646 [==============================] - 1s 1ms/step - loss: 0.5340 - accuracy: 0.7291\n",
            "Epoch 7/100\n",
            "646/646 [==============================] - 1s 1ms/step - loss: 0.5245 - accuracy: 0.7372\n",
            "Epoch 8/100\n",
            "646/646 [==============================] - 1s 1ms/step - loss: 0.5294 - accuracy: 0.7334\n",
            "Epoch 9/100\n",
            "646/646 [==============================] - 1s 1ms/step - loss: 0.5236 - accuracy: 0.7395\n",
            "Epoch 10/100\n",
            "646/646 [==============================] - 1s 1ms/step - loss: 0.5283 - accuracy: 0.7339\n",
            "Epoch 11/100\n",
            "646/646 [==============================] - 1s 1ms/step - loss: 0.5210 - accuracy: 0.7378\n",
            "Epoch 12/100\n",
            "646/646 [==============================] - 1s 1ms/step - loss: 0.5272 - accuracy: 0.7352\n",
            "Epoch 13/100\n",
            "646/646 [==============================] - 1s 1ms/step - loss: 0.5223 - accuracy: 0.7380\n",
            "ANN training time (secs) 23.02170443534851\n"
          ],
          "name": "stdout"
        }
      ]
    },
    {
      "cell_type": "code",
      "metadata": {
        "id": "kO7F4Gzgj_V1",
        "colab": {
          "base_uri": "https://localhost:8080/",
          "height": 418
        },
        "outputId": "385def95-bd8a-4968-de4d-1f6ebd623e1b"
      },
      "source": [
        "accuracy_score_NeuralNet = model_evaluation(model, np.array(ytest), Ypred, True)\n",
        "\n",
        "model_scores['NueralNets'] = accuracy_score_NeuralNet[1] * 100"
      ],
      "execution_count": 100,
      "outputs": [
        {
          "output_type": "display_data",
          "data": {
            "image/png": "[encoded data removed]",
            "text/plain": [
              "<Figure size 432x288 with 2 Axes>"
            ]
          },
          "metadata": {
            "tags": [],
            "needs_background": "light"
          }
        },
        {
          "output_type": "stream",
          "text": [
            "TP: 4297\n",
            "TN: 2178\n",
            "FP: 1439\n",
            "FN: 942\n",
            "Classification Accuracy: 0.7311427280939476\n",
            "F1 Score: 0.7830523917995444\n",
            "AUC Score: 0.711175588458628\n"
          ],
          "name": "stdout"
        }
      ]
    },
    {
      "cell_type": "markdown",
      "metadata": {
        "id": "zLSI1VOlwbU3"
      },
      "source": [
        "# Performance Comparison"
      ]
    },
    {
      "cell_type": "code",
      "metadata": {
        "id": "O5aaYN-ve8AR",
        "colab": {
          "base_uri": "https://localhost:8080/"
        },
        "outputId": "e3711f24-bfea-4365-aa46-087b8d7b0717"
      },
      "source": [
        "model_scores"
      ],
      "execution_count": 101,
      "outputs": [
        {
          "output_type": "execute_result",
          "data": {
            "text/plain": [
              "{'LogitClassifier': 69.38698210075927,\n",
              " 'NueralNets': 71.1175588458628,\n",
              " 'Random Forest': 70.56242174250534,\n",
              " 'XGBClassifier': 70.44096183622723,\n",
              " 'XGBoost_CV': 70.7154208011066}"
            ]
          },
          "metadata": {
            "tags": []
          },
          "execution_count": 101
        }
      ]
    },
    {
      "cell_type": "code",
      "metadata": {
        "id": "SXKYwor_peD-",
        "colab": {
          "base_uri": "https://localhost:8080/",
          "height": 315
        },
        "outputId": "9cbf1f14-0882-4ce5-c060-9f6f3fc93848"
      },
      "source": [
        "names = list(model_scores.keys())\n",
        "values = list(model_scores.values())\n",
        "plt.bar(range(len(model_scores)), values, tick_label=names)\n",
        "plt.xticks(rotation=45)\n",
        "plt.ylabel('AUC Score')\n",
        "plt.ylim([65.0, 75.0])\n",
        "plt.show()"
      ],
      "execution_count": 102,
      "outputs": [
        {
          "output_type": "display_data",
          "data": {
            "image/png": "[encoded data removed]",
            "text/plain": [
              "<Figure size 432x288 with 1 Axes>"
            ]
          },
          "metadata": {
            "tags": [],
            "needs_background": "light"
          }
        }
      ]
    },
    {
      "cell_type": "markdown",
      "metadata": {
        "id": "tng-UrCtwbU3"
      },
      "source": [
        "<b>XGBoost has performed better in the validation dataset in terms of AUC Score. </b>\n"
      ]
    },
    {
      "cell_type": "code",
      "metadata": {
        "id": "bN0tS-bju3eK",
        "colab": {
          "base_uri": "https://localhost:8080/"
        },
        "outputId": "58eb0f36-d167-49f8-8bc3-b73f25479fda"
      },
      "source": [
        "from mlxtend.evaluate import paired_ttest_5x2cv\n",
        "# check if difference between algorithms is real\n",
        "t, p = paired_ttest_5x2cv(estimator1=logistic_reg, estimator2=random_forest, X=xtest, y=ytest, scoring='accuracy', random_seed=1)\n",
        "# summarize\n",
        "print('P-value: %.3f, t-Statistic: %.3f' % (p, t))\n",
        "# interpret the result\n",
        "if p <= 0.05:\n",
        "\tprint('Difference between mean performance is probably real')\n",
        "else:\n",
        "\tprint('Algorithms probably have the same performance')"
      ],
      "execution_count": 103,
      "outputs": [
        {
          "output_type": "stream",
          "text": [
            "P-value: 0.506, t-Statistic: 0.715\n",
            "Algorithms probably have the same performance\n"
          ],
          "name": "stdout"
        }
      ]
    },
    {
      "cell_type": "code",
      "metadata": {
        "id": "JHmvE4QAHoXw"
      },
      "source": [
        "# Selection of features based on feature importance scores by different models\n",
        "cols= ['apr', 'clearfraudscore', 'ssnLoanCount', 'log_loanAmount', 'log_nPaidOff',\n",
        "       'payFrequency_B', 'payFrequency_I', 'payFrequency_M', 'payFrequency_S', 'payFrequency_W']\n",
        "\n",
        "# Separate input features and target\n",
        "x_data_selected = data[cols]\n",
        "y_data = data['target'].astype('category')"
      ],
      "execution_count": 104,
      "outputs": []
    },
    {
      "cell_type": "code",
      "metadata": {
        "id": "FqV2Re75JqpI"
      },
      "source": [
        "# Shuffle and split data into 70% in training and 30% in testing\n",
        "from sklearn.model_selection import train_test_split\n",
        "x_train, x_test, y_train, y_test = train_test_split(x_data_selected, y_data,random_state=123, test_size=0.30)"
      ],
      "execution_count": 105,
      "outputs": []
    },
    {
      "cell_type": "code",
      "metadata": {
        "id": "Pv7btFq8Gyi6",
        "colab": {
          "base_uri": "https://localhost:8080/"
        },
        "outputId": "3c28eecf-9f40-461a-90b8-6cae3d3d660e"
      },
      "source": [
        "#training a new lighter Logistic Regression with selected features\n",
        "log_reg_selected_features= LogisticRegression()\n",
        "log_reg_selected_features.fit(x_train, y_train)\n",
        "y_pred_class = log_reg_selected_features.predict(x_test)\n",
        "log_reg_selected_features.score(x_test,y_test)"
      ],
      "execution_count": 106,
      "outputs": [
        {
          "output_type": "execute_result",
          "data": {
            "text/plain": [
              "0.7121725383920506"
            ]
          },
          "metadata": {
            "tags": []
          },
          "execution_count": 106
        }
      ]
    },
    {
      "cell_type": "code",
      "metadata": {
        "id": "LO6AhrPCFZU_"
      },
      "source": [
        "import pickle\n",
        "# open a file, where to store the data\n",
        "file = open('logistic_regression_model.pkl', 'wb')\n",
        "\n",
        "# dump information to that file\n",
        "pickle.dump(logistic_reg, file)"
      ],
      "execution_count": 107,
      "outputs": []
    },
    {
      "cell_type": "code",
      "metadata": {
        "id": "BUj7_q2KTni-",
        "colab": {
          "base_uri": "https://localhost:8080/"
        },
        "outputId": "4e043fdb-417f-4962-9fe3-30b0445a6a3b"
      },
      "source": [
        "#Python packages used in this notebook\n",
        "import types\n",
        "def imports():\n",
        "    for name, val in globals().items():\n",
        "        if isinstance(val, types.ModuleType):\n",
        "            yield val.__name__\n",
        "list(imports())"
      ],
      "execution_count": 110,
      "outputs": [
        {
          "output_type": "execute_result",
          "data": {
            "text/plain": [
              "['builtins',\n",
              " 'builtins',\n",
              " 'IPython.core.shadowns',\n",
              " 'pandas',\n",
              " 'numpy',\n",
              " 'matplotlib.pyplot',\n",
              " 'seaborn',\n",
              " 'warnings',\n",
              " 'sklearn.metrics',\n",
              " 'keras',\n",
              " 'time',\n",
              " 'pickle',\n",
              " 'pipreqs',\n",
              " 'types']"
            ]
          },
          "metadata": {
            "tags": []
          },
          "execution_count": 110
        }
      ]
    },
    {
      "cell_type": "code",
      "metadata": {
        "id": "4fVjZNT-mMJY"
      },
      "source": [
        "!pip freeze > requirements1.txt"
      ],
      "execution_count": 109,
      "outputs": []
    },
    {
      "cell_type": "markdown",
      "metadata": {
        "id": "KVErbIgLwbU4"
      },
      "source": [
        "## Improvements\n",
        "*This analysis has been carried out based on the data available from previous loan accounts, which are mostly related to the individual borrower. There may be other factors/features that could better predict the credit risks. Country-related risks such as sudden political instability or downfall of the overall economic situation of the country may affect a person or entity's ability to repay the loan. Other cases, such as the invention of new technology, can kill a traditional industry. Businesses and people working in that industry will suddenly become jobless. These situations will impact their ability to repay the loan even if they had a perfect credit history or paid off the loan on time in the past.\n",
        "\n",
        "*The financial institutions, banks, and lenders can adjust the cost of credit, carry out risk-based pricing, reduce credit amount to the high-risk buyers, tight the credit provision, purchase the credit insurance or derivatives, and much more to curb the menace.\n",
        "\n",
        "*Many studies have found debt to income ratio is a clear indicator of the borrowers' ability to repay the loan. Including customer income, data could improve the model.\n",
        "\n",
        "*Feature Selection was not done for Neural Network Model. Important features identified from Random Forest and XGBoost can be used to reduce the dimension.\n",
        "\n",
        "*There are no straight forward rule for Neural Network model architecture. It requires more trial and error to come up with a better model.\n",
        "\n",
        "*Random Forest itself a kind of ensemble model. Stacking modeling methods (train different models and use their predictions as features in another model) could be used for better performance.\n",
        "\n",
        "*QuantileTransformer reduces the effect of outlier. However,  completely removing outliers from the dataset could improve the model.\n",
        "\n",
        "\n",
        "*Reduce false positives and false negatives. It depends on the business objectives, which one to prioritize. If the business goal is to reduce loss, then falsely identifying a customer as good but who is actually a defaulter could lead to capital loss. Again, falsely classifying a defaulter who is actually a good customer, is an opportunity loss."
      ]
    },
    {
      "cell_type": "markdown",
      "metadata": {
        "id": "cXS-BpVjwbU4"
      },
      "source": [
        "## Summary\n",
        "In this report, we achieved 0.71 AUC score in determining whether a loan will be defaulted or not. We explored past loan performance and understood what kind of people are more likely to default. Random Forest has performed better in the validation dataset in terms of AUC Score. However, the differences in accuracy between these models are not significant.\n",
        "\n",
        "We have used some selected features to create a loan prediction app for demonstration purpose. \n"
      ]
    }
  ]
}