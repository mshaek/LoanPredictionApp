{
  "nbformat": 4,
  "nbformat_minor": 0,
  "metadata": {
    "kernelspec": {
      "display_name": "Python 3",
      "language": "python",
      "name": "python3"
    },
    "language_info": {
      "codemirror_mode": {
        "name": "ipython",
        "version": 3
      },
      "file_extension": ".py",
      "mimetype": "text/x-python",
      "name": "python",
      "nbconvert_exporter": "python",
      "pygments_lexer": "ipython3",
      "version": "3.6.12"
    },
    "colab": {
      "name": "MoneyLion_Repayment_Mahfuzur_part_1.ipynb",
      "provenance": [],
      "collapsed_sections": [],
      "toc_visible": true,
      "include_colab_link": true
    }
  },
  "cells": [
    {
      "cell_type": "markdown",
      "metadata": {
        "id": "view-in-github",
        "colab_type": "text"
      },
      "source": [
        "<a href=\"https://colab.research.google.com/github/mshaek/LoanPredictionApp/blob/main/notebooks/MoneyLion_Repayment_Mahfuzur_part_1.ipynb\" target=\"_parent\"><img src=\"https://colab.research.google.com/assets/colab-badge.svg\" alt=\"Open In Colab\"/></a>"
      ]
    },
    {
      "cell_type": "markdown",
      "metadata": {
        "id": "KV_4lSlJRVl_"
      },
      "source": [
        "# Part -1"
      ]
    },
    {
      "cell_type": "markdown",
      "metadata": {
        "id": "2zSX8fpKwbUU"
      },
      "source": [
        "# Loan Repayment Challenge\n",
        "## Mahfuzur Rahman Shaek\n",
        "### Approx time spent: 30 hours\n",
        "\n"
      ]
    },
    {
      "cell_type": "markdown",
      "metadata": {
        "id": "FKBB3bDjNTNd"
      },
      "source": [
        "Machine learning models are commonly used for screening loan applications and continuous assessment even after the loan approval. MoneyLion being a fintech company, utilizes loan related data to draw insight which can help the organization offer better products and services to the appropriate customers. Machine learning helped to automate loan approval process and credit risk assessment which saved time and money, ultimately led to faster and better loan process as well as reduced risks and losses.\n",
        "\n",
        "Google Colab has been used to explore and model the date using python libraries.Data Analysis and creating visualization can reveal some critical insights from the data. Some univariate and bivariate analysis have been done here to find the underlying relationship between the variables. \n",
        "\n",
        "The 'Loan' dataset has been filtered for funded entries only. As those data points where a customer was not approved for loan or customer withdrawn the loan application before or after loan has not been considered. Therefore, not necessary to assess the credit risks for those customers who withdrew their application/ got rejected. A 'target' variable has been created from 'loan status' with categories similar to 'likely to default' or 'paid off'. Moneylion would target the customer who will pay off the loan and reduce the number of customer who would likely to default. This two categories makes it a binary classification problem. Four well-known modeling techniques are used to build the best model. These are Logistic Regression, Random Forest, XGBoost and a Neural Network. The best model is identified using evaluation metrics.\n",
        "\n",
        "Customers who are likely to default are considered as positive class. So the false negative (model predicts customer will pay off but in actual customer would default) is costly to the business. Hence, FN has to be minised and true negative has to maximised. Also there will be an opportunity loss if model identified a good customer as potential defaulter(false positive). So some optimisation has to be done to decide the threshold value.\n",
        "\n",
        "In this experiment, XGBoost model has better perfomance in terms of accuracy an AUC score.\n",
        "\n",
        "Just for the illustration, a smaller model with handful features has been used to create an \"Loan Prediction App\". Accuracy is very low but this just for demo how the the end product may look like. Ovioulsly, a complete model will have more predictors and with better performance than the demo showed in this project. \n",
        "\n",
        "This document has been organised as follows- uploading and initial preprocessing of all three data files. After exploring and visualisation, some important features have been selected for modeling. Then 4 modelling techniques were used to build model and their performances has been compared.\n",
        "\n",
        "A quick demo of the app is available in this link: https://youtu.be/ZAkbBGR6Mng"
      ]
    },
    {
      "cell_type": "code",
      "metadata": {
        "id": "0wPLFmlBwbUY"
      },
      "source": [
        "#Import important Python Libraries\n",
        "import pandas as pd\n",
        "import numpy as np\n",
        "import matplotlib.pyplot as plt\n",
        "%matplotlib inline\n",
        "import seaborn as sns\n",
        "import warnings\n",
        "warnings.filterwarnings('ignore')"
      ],
      "execution_count": 2,
      "outputs": []
    },
    {
      "cell_type": "code",
      "metadata": {
        "colab": {
          "base_uri": "https://localhost:8080/"
        },
        "id": "0QEv984V0YRg",
        "outputId": "17ae5911-8077-4737-db6f-c22eedbac1aa"
      },
      "source": [
        "# Downloading the folder provided by the recruitment team\n",
        "!wget https://www.dropbox.com/sh/t8ezi1pz2smxjvy/AAAAq2_DlhDGx-UaKbltqj6da?dl=0&preview=data.zip"
      ],
      "execution_count": 3,
      "outputs": [
        {
          "output_type": "stream",
          "text": [
            "--2021-08-06 01:44:09--  https://www.dropbox.com/sh/t8ezi1pz2smxjvy/AAAAq2_DlhDGx-UaKbltqj6da?dl=0\n",
            "Resolving www.dropbox.com (www.dropbox.com)... 162.125.3.18, 2620:100:6018:18::a27d:312\n",
            "Connecting to www.dropbox.com (www.dropbox.com)|162.125.3.18|:443... connected.\n",
            "HTTP request sent, awaiting response... 301 Moved Permanently\n",
            "Location: /sh/raw/t8ezi1pz2smxjvy/AAAAq2_DlhDGx-UaKbltqj6da [following]\n",
            "--2021-08-06 01:44:10--  https://www.dropbox.com/sh/raw/t8ezi1pz2smxjvy/AAAAq2_DlhDGx-UaKbltqj6da\n",
            "Reusing existing connection to www.dropbox.com:443.\n",
            "HTTP request sent, awaiting response... 302 Found\n",
            "Location: https://ucdea270fddf2cb4e848fc74c074.dl.dropboxusercontent.com/zip_download_get/A3GPLVVfdUPcblEWFKe75pAIK9PH2AoCRcCP8Qakq3_1wYPE7U4bmZoAGDQ1VM6IajNcxU9g7bKsSb6jQ8St_gq3j-l5El9rwPs3kxEGXHOc_g# [following]\n",
            "--2021-08-06 01:44:10--  https://ucdea270fddf2cb4e848fc74c074.dl.dropboxusercontent.com/zip_download_get/A3GPLVVfdUPcblEWFKe75pAIK9PH2AoCRcCP8Qakq3_1wYPE7U4bmZoAGDQ1VM6IajNcxU9g7bKsSb6jQ8St_gq3j-l5El9rwPs3kxEGXHOc_g\n",
            "Resolving ucdea270fddf2cb4e848fc74c074.dl.dropboxusercontent.com (ucdea270fddf2cb4e848fc74c074.dl.dropboxusercontent.com)... 162.125.3.15, 2620:100:601b:15::a27d:80f\n",
            "Connecting to ucdea270fddf2cb4e848fc74c074.dl.dropboxusercontent.com (ucdea270fddf2cb4e848fc74c074.dl.dropboxusercontent.com)|162.125.3.15|:443... connected.\n",
            "HTTP request sent, awaiting response... 200 OK\n",
            "Length: 42964780 (41M) [application/zip]\n",
            "Saving to: ‘AAAAq2_DlhDGx-UaKbltqj6da?dl=0’\n",
            "\n",
            "AAAAq2_DlhDGx-UaKbl 100%[===================>]  40.97M  75.2MB/s    in 0.5s    \n",
            "\n",
            "2021-08-06 01:44:11 (75.2 MB/s) - ‘AAAAq2_DlhDGx-UaKbltqj6da?dl=0’ saved [42964780/42964780]\n",
            "\n"
          ],
          "name": "stdout"
        }
      ]
    },
    {
      "cell_type": "code",
      "metadata": {
        "colab": {
          "base_uri": "https://localhost:8080/"
        },
        "id": "385DmmPT11Qi",
        "outputId": "78e9eeb4-d542-4d29-99ca-4ed821cb542c"
      },
      "source": [
        "# Unzipping the downloaded folder\n",
        "!unzip AAAAq2_DlhDGx-UaKbltqj6da?dl=0\n",
        "\n",
        "# Unzipping the data.zip folder\n",
        "!unzip /content/data.zip"
      ],
      "execution_count": 4,
      "outputs": [
        {
          "output_type": "stream",
          "text": [
            "Archive:  AAAAq2_DlhDGx-UaKbltqj6da?dl=0\n",
            "warning:  stripped absolute path spec from /\n",
            "mapname:  conversion of  failed\n",
            " extracting: data.zip                \n",
            " extracting: Instructions.pdf        \n",
            " extracting: dictionaries.zip        \n",
            "\n",
            "1 archive had fatal errors.\n",
            "Archive:  /content/data.zip\n",
            "   creating: data/\n",
            "  inflating: data/.DS_Store          \n",
            "   creating: __MACOSX/\n",
            "   creating: __MACOSX/data/\n",
            "  inflating: __MACOSX/data/._.DS_Store  \n",
            "  inflating: data/clarity_underwriting_variables.csv  \n",
            "  inflating: __MACOSX/data/._clarity_underwriting_variables.csv  \n",
            "  inflating: data/loan.csv           \n",
            "  inflating: data/payment.csv        \n",
            "  inflating: __MACOSX/._data         \n"
          ],
          "name": "stdout"
        }
      ]
    },
    {
      "cell_type": "markdown",
      "metadata": {
        "id": "10onWiuJwbUa"
      },
      "source": [
        "## Uploading 'Loan' Dataset"
      ]
    },
    {
      "cell_type": "code",
      "metadata": {
        "scrolled": true,
        "colab": {
          "base_uri": "https://localhost:8080/",
          "height": 545
        },
        "id": "By64s8nywbUa",
        "outputId": "606d9b00-4a92-42b4-91ae-7546ec6d067d"
      },
      "source": [
        "# Uploading the \"Loan\" dataset with date string to date format conversion\n",
        "url= './data/loan.csv'\n",
        "df = pd.read_csv(url,parse_dates=['applicationDate','originatedDate'])\n",
        "#Preview the loaded dataset\n",
        "df.head(10)"
      ],
      "execution_count": 5,
      "outputs": [
        {
          "output_type": "execute_result",
          "data": {
            "text/html": [
              "<div>\n",
              "<style scoped>\n",
              "    .dataframe tbody tr th:only-of-type {\n",
              "        vertical-align: middle;\n",
              "    }\n",
              "\n",
              "    .dataframe tbody tr th {\n",
              "        vertical-align: top;\n",
              "    }\n",
              "\n",
              "    .dataframe thead th {\n",
              "        text-align: right;\n",
              "    }\n",
              "</style>\n",
              "<table border=\"1\" class=\"dataframe\">\n",
              "  <thead>\n",
              "    <tr style=\"text-align: right;\">\n",
              "      <th></th>\n",
              "      <th>loanId</th>\n",
              "      <th>anon_ssn</th>\n",
              "      <th>payFrequency</th>\n",
              "      <th>apr</th>\n",
              "      <th>applicationDate</th>\n",
              "      <th>originated</th>\n",
              "      <th>originatedDate</th>\n",
              "      <th>nPaidOff</th>\n",
              "      <th>approved</th>\n",
              "      <th>isFunded</th>\n",
              "      <th>loanStatus</th>\n",
              "      <th>loanAmount</th>\n",
              "      <th>originallyScheduledPaymentAmount</th>\n",
              "      <th>state</th>\n",
              "      <th>leadType</th>\n",
              "      <th>leadCost</th>\n",
              "      <th>fpStatus</th>\n",
              "      <th>clarityFraudId</th>\n",
              "      <th>hasCF</th>\n",
              "    </tr>\n",
              "  </thead>\n",
              "  <tbody>\n",
              "    <tr>\n",
              "      <th>0</th>\n",
              "      <td>LL-I-07399092</td>\n",
              "      <td>beff4989be82aab4a5b47679216942fd</td>\n",
              "      <td>B</td>\n",
              "      <td>360.00</td>\n",
              "      <td>2016-02-23 17:29:01.940</td>\n",
              "      <td>False</td>\n",
              "      <td>NaT</td>\n",
              "      <td>0.0</td>\n",
              "      <td>False</td>\n",
              "      <td>0</td>\n",
              "      <td>Withdrawn Application</td>\n",
              "      <td>500.0</td>\n",
              "      <td>978.27</td>\n",
              "      <td>IL</td>\n",
              "      <td>bvMandatory</td>\n",
              "      <td>6</td>\n",
              "      <td>NaN</td>\n",
              "      <td>5669ef78e4b0c9d3936440e6</td>\n",
              "      <td>1</td>\n",
              "    </tr>\n",
              "    <tr>\n",
              "      <th>1</th>\n",
              "      <td>LL-I-06644937</td>\n",
              "      <td>464f5d9ae4fa09ece4048d949191865c</td>\n",
              "      <td>B</td>\n",
              "      <td>199.00</td>\n",
              "      <td>2016-01-19 22:07:36.778</td>\n",
              "      <td>True</td>\n",
              "      <td>2016-01-20 15:49:18.846</td>\n",
              "      <td>0.0</td>\n",
              "      <td>True</td>\n",
              "      <td>1</td>\n",
              "      <td>Paid Off Loan</td>\n",
              "      <td>3000.0</td>\n",
              "      <td>6395.19</td>\n",
              "      <td>CA</td>\n",
              "      <td>prescreen</td>\n",
              "      <td>0</td>\n",
              "      <td>Checked</td>\n",
              "      <td>569eb3a3e4b096699f685d64</td>\n",
              "      <td>1</td>\n",
              "    </tr>\n",
              "    <tr>\n",
              "      <th>2</th>\n",
              "      <td>LL-I-10707532</td>\n",
              "      <td>3c174ae9e2505a5f9ddbff9843281845</td>\n",
              "      <td>B</td>\n",
              "      <td>590.00</td>\n",
              "      <td>2016-08-01 13:51:14.709</td>\n",
              "      <td>False</td>\n",
              "      <td>NaT</td>\n",
              "      <td>0.0</td>\n",
              "      <td>False</td>\n",
              "      <td>0</td>\n",
              "      <td>Withdrawn Application</td>\n",
              "      <td>400.0</td>\n",
              "      <td>1199.45</td>\n",
              "      <td>MO</td>\n",
              "      <td>bvMandatory</td>\n",
              "      <td>3</td>\n",
              "      <td>NaN</td>\n",
              "      <td>579eab11e4b0d0502870ef2f</td>\n",
              "      <td>1</td>\n",
              "    </tr>\n",
              "    <tr>\n",
              "      <th>3</th>\n",
              "      <td>LL-I-02272596</td>\n",
              "      <td>9be6f443bb97db7e95fa0c281d34da91</td>\n",
              "      <td>B</td>\n",
              "      <td>360.00</td>\n",
              "      <td>2015-08-06 23:58:08.880</td>\n",
              "      <td>False</td>\n",
              "      <td>NaT</td>\n",
              "      <td>0.0</td>\n",
              "      <td>False</td>\n",
              "      <td>0</td>\n",
              "      <td>Withdrawn Application</td>\n",
              "      <td>500.0</td>\n",
              "      <td>1074.05</td>\n",
              "      <td>IL</td>\n",
              "      <td>bvMandatory</td>\n",
              "      <td>3</td>\n",
              "      <td>NaN</td>\n",
              "      <td>555b1e95e4b0f6f11b267c18</td>\n",
              "      <td>1</td>\n",
              "    </tr>\n",
              "    <tr>\n",
              "      <th>4</th>\n",
              "      <td>LL-I-09542882</td>\n",
              "      <td>63b5494f60b5c19c827c7b068443752c</td>\n",
              "      <td>B</td>\n",
              "      <td>590.00</td>\n",
              "      <td>2016-06-05 22:31:34.304</td>\n",
              "      <td>False</td>\n",
              "      <td>NaT</td>\n",
              "      <td>0.0</td>\n",
              "      <td>False</td>\n",
              "      <td>0</td>\n",
              "      <td>Rejected</td>\n",
              "      <td>350.0</td>\n",
              "      <td>814.37</td>\n",
              "      <td>NV</td>\n",
              "      <td>bvMandatory</td>\n",
              "      <td>3</td>\n",
              "      <td>NaN</td>\n",
              "      <td>5754a91be4b0c6a2bf424772</td>\n",
              "      <td>1</td>\n",
              "    </tr>\n",
              "    <tr>\n",
              "      <th>5</th>\n",
              "      <td>LL-I-09734486</td>\n",
              "      <td>b5541f49472fa0fce8e473306768f7fb</td>\n",
              "      <td>M</td>\n",
              "      <td>650.00</td>\n",
              "      <td>2016-06-12 19:27:47.951</td>\n",
              "      <td>False</td>\n",
              "      <td>NaT</td>\n",
              "      <td>0.0</td>\n",
              "      <td>False</td>\n",
              "      <td>0</td>\n",
              "      <td>Withdrawn Application</td>\n",
              "      <td>300.0</td>\n",
              "      <td>738.18</td>\n",
              "      <td>IN</td>\n",
              "      <td>organic</td>\n",
              "      <td>0</td>\n",
              "      <td>NaN</td>\n",
              "      <td>574e2029e4b061d2c3a16a4c</td>\n",
              "      <td>1</td>\n",
              "    </tr>\n",
              "    <tr>\n",
              "      <th>6</th>\n",
              "      <td>LL-I-15006968</td>\n",
              "      <td>1828c64bb2dffeae88b27174a9f79ecc</td>\n",
              "      <td>B</td>\n",
              "      <td>680.00</td>\n",
              "      <td>2017-01-12 18:04:37.921</td>\n",
              "      <td>False</td>\n",
              "      <td>NaT</td>\n",
              "      <td>0.0</td>\n",
              "      <td>False</td>\n",
              "      <td>0</td>\n",
              "      <td>Withdrawn Application</td>\n",
              "      <td>400.0</td>\n",
              "      <td>1362.92</td>\n",
              "      <td>TX</td>\n",
              "      <td>lead</td>\n",
              "      <td>25</td>\n",
              "      <td>NaN</td>\n",
              "      <td>5877c533e4b08f2480ab7e5a</td>\n",
              "      <td>1</td>\n",
              "    </tr>\n",
              "    <tr>\n",
              "      <th>7</th>\n",
              "      <td>LL-I-08327946</td>\n",
              "      <td>02596517e7633c7e87e6b333a0fb1bbe</td>\n",
              "      <td>M</td>\n",
              "      <td>449.99</td>\n",
              "      <td>2016-04-01 22:13:02.131</td>\n",
              "      <td>False</td>\n",
              "      <td>NaT</td>\n",
              "      <td>0.0</td>\n",
              "      <td>False</td>\n",
              "      <td>0</td>\n",
              "      <td>Withdrawn Application</td>\n",
              "      <td>350.0</td>\n",
              "      <td>759.84</td>\n",
              "      <td>UT</td>\n",
              "      <td>bvMandatory</td>\n",
              "      <td>3</td>\n",
              "      <td>NaN</td>\n",
              "      <td>NaN</td>\n",
              "      <td>0</td>\n",
              "    </tr>\n",
              "    <tr>\n",
              "      <th>8</th>\n",
              "      <td>LL-I-10568307</td>\n",
              "      <td>523ed92e1145eb688bb631da24695197</td>\n",
              "      <td>S</td>\n",
              "      <td>251.00</td>\n",
              "      <td>2016-07-27 00:19:52.808</td>\n",
              "      <td>False</td>\n",
              "      <td>NaT</td>\n",
              "      <td>0.0</td>\n",
              "      <td>False</td>\n",
              "      <td>0</td>\n",
              "      <td>Withdrawn Application</td>\n",
              "      <td>2600.0</td>\n",
              "      <td>8230.01</td>\n",
              "      <td>CA</td>\n",
              "      <td>california</td>\n",
              "      <td>40</td>\n",
              "      <td>NaN</td>\n",
              "      <td>5797fe22e4b0d05020f298ce</td>\n",
              "      <td>1</td>\n",
              "    </tr>\n",
              "    <tr>\n",
              "      <th>9</th>\n",
              "      <td>LL-I-05518977</td>\n",
              "      <td>47bf79119075e41ef65510f2900c8e4a</td>\n",
              "      <td>B</td>\n",
              "      <td>360.00</td>\n",
              "      <td>2015-12-09 18:17:33.622</td>\n",
              "      <td>False</td>\n",
              "      <td>NaT</td>\n",
              "      <td>0.0</td>\n",
              "      <td>False</td>\n",
              "      <td>0</td>\n",
              "      <td>Withdrawn Application</td>\n",
              "      <td>500.0</td>\n",
              "      <td>995.22</td>\n",
              "      <td>IL</td>\n",
              "      <td>bvMandatory</td>\n",
              "      <td>6</td>\n",
              "      <td>NaN</td>\n",
              "      <td>563281d2e4b07887adc5bc0a</td>\n",
              "      <td>1</td>\n",
              "    </tr>\n",
              "  </tbody>\n",
              "</table>\n",
              "</div>"
            ],
            "text/plain": [
              "          loanId  ... hasCF\n",
              "0  LL-I-07399092  ...     1\n",
              "1  LL-I-06644937  ...     1\n",
              "2  LL-I-10707532  ...     1\n",
              "3  LL-I-02272596  ...     1\n",
              "4  LL-I-09542882  ...     1\n",
              "5  LL-I-09734486  ...     1\n",
              "6  LL-I-15006968  ...     1\n",
              "7  LL-I-08327946  ...     0\n",
              "8  LL-I-10568307  ...     1\n",
              "9  LL-I-05518977  ...     1\n",
              "\n",
              "[10 rows x 19 columns]"
            ]
          },
          "metadata": {
            "tags": []
          },
          "execution_count": 5
        }
      ]
    },
    {
      "cell_type": "code",
      "metadata": {
        "id": "8NkheBr9w3cX"
      },
      "source": [
        "# !pip3 install pandas_profiling --upgrade\n",
        "#from pandas_profiling import ProfileReport\n",
        "#report = ProfileReport(df)\n",
        "#report.to_notebook_iframe()"
      ],
      "execution_count": 6,
      "outputs": []
    },
    {
      "cell_type": "code",
      "metadata": {
        "id": "L2Gd-9xswbUc",
        "colab": {
          "base_uri": "https://localhost:8080/"
        },
        "outputId": "483b4c41-9e0b-452f-f649-19d45aee0638"
      },
      "source": [
        "df.info()"
      ],
      "execution_count": 7,
      "outputs": [
        {
          "output_type": "stream",
          "text": [
            "<class 'pandas.core.frame.DataFrame'>\n",
            "RangeIndex: 577682 entries, 0 to 577681\n",
            "Data columns (total 19 columns):\n",
            " #   Column                            Non-Null Count   Dtype         \n",
            "---  ------                            --------------   -----         \n",
            " 0   loanId                            577426 non-null  object        \n",
            " 1   anon_ssn                          577682 non-null  object        \n",
            " 2   payFrequency                      576409 non-null  object        \n",
            " 3   apr                               573760 non-null  float64       \n",
            " 4   applicationDate                   577682 non-null  datetime64[ns]\n",
            " 5   originated                        577682 non-null  bool          \n",
            " 6   originatedDate                    46044 non-null   datetime64[ns]\n",
            " 7   nPaidOff                          577658 non-null  float64       \n",
            " 8   approved                          577682 non-null  bool          \n",
            " 9   isFunded                          577682 non-null  int64         \n",
            " 10  loanStatus                        577291 non-null  object        \n",
            " 11  loanAmount                        575432 non-null  float64       \n",
            " 12  originallyScheduledPaymentAmount  577682 non-null  float64       \n",
            " 13  state                             577550 non-null  object        \n",
            " 14  leadType                          577682 non-null  object        \n",
            " 15  leadCost                          577682 non-null  int64         \n",
            " 16  fpStatus                          51723 non-null   object        \n",
            " 17  clarityFraudId                    357693 non-null  object        \n",
            " 18  hasCF                             577682 non-null  int64         \n",
            "dtypes: bool(2), datetime64[ns](2), float64(4), int64(3), object(8)\n",
            "memory usage: 76.0+ MB\n"
          ],
          "name": "stdout"
        }
      ]
    },
    {
      "cell_type": "markdown",
      "metadata": {
        "id": "wXkYeReowbUc"
      },
      "source": [
        "<b> This dataset has 19 columns and 577682 observations. Within these columns two of them are boolean data types, 2 dates, 8 string types and 7 numerical variables.</b>"
      ]
    },
    {
      "cell_type": "code",
      "metadata": {
        "scrolled": true,
        "id": "KhiVeC_hwbUe",
        "colab": {
          "base_uri": "https://localhost:8080/",
          "height": 520
        },
        "outputId": "ce3b7161-d6fc-4b37-9b3d-c27027ac03db"
      },
      "source": [
        "#Summary statistics of all numerical variables in the dataset.\n",
        "df.describe(include='all')"
      ],
      "execution_count": 8,
      "outputs": [
        {
          "output_type": "execute_result",
          "data": {
            "text/html": [
              "<div>\n",
              "<style scoped>\n",
              "    .dataframe tbody tr th:only-of-type {\n",
              "        vertical-align: middle;\n",
              "    }\n",
              "\n",
              "    .dataframe tbody tr th {\n",
              "        vertical-align: top;\n",
              "    }\n",
              "\n",
              "    .dataframe thead th {\n",
              "        text-align: right;\n",
              "    }\n",
              "</style>\n",
              "<table border=\"1\" class=\"dataframe\">\n",
              "  <thead>\n",
              "    <tr style=\"text-align: right;\">\n",
              "      <th></th>\n",
              "      <th>loanId</th>\n",
              "      <th>anon_ssn</th>\n",
              "      <th>payFrequency</th>\n",
              "      <th>apr</th>\n",
              "      <th>applicationDate</th>\n",
              "      <th>originated</th>\n",
              "      <th>originatedDate</th>\n",
              "      <th>nPaidOff</th>\n",
              "      <th>approved</th>\n",
              "      <th>isFunded</th>\n",
              "      <th>loanStatus</th>\n",
              "      <th>loanAmount</th>\n",
              "      <th>originallyScheduledPaymentAmount</th>\n",
              "      <th>state</th>\n",
              "      <th>leadType</th>\n",
              "      <th>leadCost</th>\n",
              "      <th>fpStatus</th>\n",
              "      <th>clarityFraudId</th>\n",
              "      <th>hasCF</th>\n",
              "    </tr>\n",
              "  </thead>\n",
              "  <tbody>\n",
              "    <tr>\n",
              "      <th>count</th>\n",
              "      <td>577426</td>\n",
              "      <td>577682</td>\n",
              "      <td>576409</td>\n",
              "      <td>573760.000000</td>\n",
              "      <td>577682</td>\n",
              "      <td>577682</td>\n",
              "      <td>46044</td>\n",
              "      <td>577658.000000</td>\n",
              "      <td>577682</td>\n",
              "      <td>577682.000000</td>\n",
              "      <td>577291</td>\n",
              "      <td>575432.000000</td>\n",
              "      <td>577682.000000</td>\n",
              "      <td>577550</td>\n",
              "      <td>577682</td>\n",
              "      <td>577682.000000</td>\n",
              "      <td>51723</td>\n",
              "      <td>357693</td>\n",
              "      <td>577682.000000</td>\n",
              "    </tr>\n",
              "    <tr>\n",
              "      <th>unique</th>\n",
              "      <td>577426</td>\n",
              "      <td>459393</td>\n",
              "      <td>5</td>\n",
              "      <td>NaN</td>\n",
              "      <td>577624</td>\n",
              "      <td>2</td>\n",
              "      <td>46042</td>\n",
              "      <td>NaN</td>\n",
              "      <td>2</td>\n",
              "      <td>NaN</td>\n",
              "      <td>21</td>\n",
              "      <td>NaN</td>\n",
              "      <td>NaN</td>\n",
              "      <td>44</td>\n",
              "      <td>10</td>\n",
              "      <td>NaN</td>\n",
              "      <td>8</td>\n",
              "      <td>314915</td>\n",
              "      <td>NaN</td>\n",
              "    </tr>\n",
              "    <tr>\n",
              "      <th>top</th>\n",
              "      <td>LL-I-08497200</td>\n",
              "      <td>c8bb49de1f8ff99d2ecddfb7037dc66e</td>\n",
              "      <td>B</td>\n",
              "      <td>NaN</td>\n",
              "      <td>2017-01-03 18:05:40.811000</td>\n",
              "      <td>False</td>\n",
              "      <td>2017-03-06 22:29:45.066000</td>\n",
              "      <td>NaN</td>\n",
              "      <td>False</td>\n",
              "      <td>NaN</td>\n",
              "      <td>Withdrawn Application</td>\n",
              "      <td>NaN</td>\n",
              "      <td>NaN</td>\n",
              "      <td>OH</td>\n",
              "      <td>bvMandatory</td>\n",
              "      <td>NaN</td>\n",
              "      <td>Checked</td>\n",
              "      <td>561e95f7e4b0efa8a6cdc975</td>\n",
              "      <td>NaN</td>\n",
              "    </tr>\n",
              "    <tr>\n",
              "      <th>freq</th>\n",
              "      <td>1</td>\n",
              "      <td>35</td>\n",
              "      <td>316654</td>\n",
              "      <td>NaN</td>\n",
              "      <td>3</td>\n",
              "      <td>531676</td>\n",
              "      <td>2</td>\n",
              "      <td>NaN</td>\n",
              "      <td>537646</td>\n",
              "      <td>NaN</td>\n",
              "      <td>450984</td>\n",
              "      <td>NaN</td>\n",
              "      <td>NaN</td>\n",
              "      <td>90496</td>\n",
              "      <td>475001</td>\n",
              "      <td>NaN</td>\n",
              "      <td>32978</td>\n",
              "      <td>15</td>\n",
              "      <td>NaN</td>\n",
              "    </tr>\n",
              "    <tr>\n",
              "      <th>first</th>\n",
              "      <td>NaN</td>\n",
              "      <td>NaN</td>\n",
              "      <td>NaN</td>\n",
              "      <td>NaN</td>\n",
              "      <td>2014-12-03 00:31:22.306000</td>\n",
              "      <td>NaN</td>\n",
              "      <td>2014-12-02 17:47:22</td>\n",
              "      <td>NaN</td>\n",
              "      <td>NaN</td>\n",
              "      <td>NaN</td>\n",
              "      <td>NaN</td>\n",
              "      <td>NaN</td>\n",
              "      <td>NaN</td>\n",
              "      <td>NaN</td>\n",
              "      <td>NaN</td>\n",
              "      <td>NaN</td>\n",
              "      <td>NaN</td>\n",
              "      <td>NaN</td>\n",
              "      <td>NaN</td>\n",
              "    </tr>\n",
              "    <tr>\n",
              "      <th>last</th>\n",
              "      <td>NaN</td>\n",
              "      <td>NaN</td>\n",
              "      <td>NaN</td>\n",
              "      <td>NaN</td>\n",
              "      <td>2017-03-18 23:58:42.921000</td>\n",
              "      <td>NaN</td>\n",
              "      <td>2017-03-27 20:56:08.598000</td>\n",
              "      <td>NaN</td>\n",
              "      <td>NaN</td>\n",
              "      <td>NaN</td>\n",
              "      <td>NaN</td>\n",
              "      <td>NaN</td>\n",
              "      <td>NaN</td>\n",
              "      <td>NaN</td>\n",
              "      <td>NaN</td>\n",
              "      <td>NaN</td>\n",
              "      <td>NaN</td>\n",
              "      <td>NaN</td>\n",
              "      <td>NaN</td>\n",
              "    </tr>\n",
              "    <tr>\n",
              "      <th>mean</th>\n",
              "      <td>NaN</td>\n",
              "      <td>NaN</td>\n",
              "      <td>NaN</td>\n",
              "      <td>553.080972</td>\n",
              "      <td>NaN</td>\n",
              "      <td>NaN</td>\n",
              "      <td>NaN</td>\n",
              "      <td>0.037887</td>\n",
              "      <td>NaN</td>\n",
              "      <td>0.067480</td>\n",
              "      <td>NaN</td>\n",
              "      <td>514.245084</td>\n",
              "      <td>1428.897209</td>\n",
              "      <td>NaN</td>\n",
              "      <td>NaN</td>\n",
              "      <td>7.854389</td>\n",
              "      <td>NaN</td>\n",
              "      <td>NaN</td>\n",
              "      <td>0.619187</td>\n",
              "    </tr>\n",
              "    <tr>\n",
              "      <th>std</th>\n",
              "      <td>NaN</td>\n",
              "      <td>NaN</td>\n",
              "      <td>NaN</td>\n",
              "      <td>110.046159</td>\n",
              "      <td>NaN</td>\n",
              "      <td>NaN</td>\n",
              "      <td>NaN</td>\n",
              "      <td>0.333366</td>\n",
              "      <td>NaN</td>\n",
              "      <td>0.250852</td>\n",
              "      <td>NaN</td>\n",
              "      <td>320.939929</td>\n",
              "      <td>925.009141</td>\n",
              "      <td>NaN</td>\n",
              "      <td>NaN</td>\n",
              "      <td>12.853451</td>\n",
              "      <td>NaN</td>\n",
              "      <td>NaN</td>\n",
              "      <td>0.485587</td>\n",
              "    </tr>\n",
              "    <tr>\n",
              "      <th>min</th>\n",
              "      <td>NaN</td>\n",
              "      <td>NaN</td>\n",
              "      <td>NaN</td>\n",
              "      <td>0.000000</td>\n",
              "      <td>NaN</td>\n",
              "      <td>NaN</td>\n",
              "      <td>NaN</td>\n",
              "      <td>0.000000</td>\n",
              "      <td>NaN</td>\n",
              "      <td>0.000000</td>\n",
              "      <td>NaN</td>\n",
              "      <td>0.000000</td>\n",
              "      <td>-816.710000</td>\n",
              "      <td>NaN</td>\n",
              "      <td>NaN</td>\n",
              "      <td>0.000000</td>\n",
              "      <td>NaN</td>\n",
              "      <td>NaN</td>\n",
              "      <td>0.000000</td>\n",
              "    </tr>\n",
              "    <tr>\n",
              "      <th>25%</th>\n",
              "      <td>NaN</td>\n",
              "      <td>NaN</td>\n",
              "      <td>NaN</td>\n",
              "      <td>490.000000</td>\n",
              "      <td>NaN</td>\n",
              "      <td>NaN</td>\n",
              "      <td>NaN</td>\n",
              "      <td>0.000000</td>\n",
              "      <td>NaN</td>\n",
              "      <td>0.000000</td>\n",
              "      <td>NaN</td>\n",
              "      <td>350.000000</td>\n",
              "      <td>1023.640000</td>\n",
              "      <td>NaN</td>\n",
              "      <td>NaN</td>\n",
              "      <td>3.000000</td>\n",
              "      <td>NaN</td>\n",
              "      <td>NaN</td>\n",
              "      <td>0.000000</td>\n",
              "    </tr>\n",
              "    <tr>\n",
              "      <th>50%</th>\n",
              "      <td>NaN</td>\n",
              "      <td>NaN</td>\n",
              "      <td>NaN</td>\n",
              "      <td>590.000000</td>\n",
              "      <td>NaN</td>\n",
              "      <td>NaN</td>\n",
              "      <td>NaN</td>\n",
              "      <td>0.000000</td>\n",
              "      <td>NaN</td>\n",
              "      <td>0.000000</td>\n",
              "      <td>NaN</td>\n",
              "      <td>500.000000</td>\n",
              "      <td>1245.250000</td>\n",
              "      <td>NaN</td>\n",
              "      <td>NaN</td>\n",
              "      <td>3.000000</td>\n",
              "      <td>NaN</td>\n",
              "      <td>NaN</td>\n",
              "      <td>1.000000</td>\n",
              "    </tr>\n",
              "    <tr>\n",
              "      <th>75%</th>\n",
              "      <td>NaN</td>\n",
              "      <td>NaN</td>\n",
              "      <td>NaN</td>\n",
              "      <td>601.000000</td>\n",
              "      <td>NaN</td>\n",
              "      <td>NaN</td>\n",
              "      <td>NaN</td>\n",
              "      <td>0.000000</td>\n",
              "      <td>NaN</td>\n",
              "      <td>0.000000</td>\n",
              "      <td>NaN</td>\n",
              "      <td>500.000000</td>\n",
              "      <td>1615.660000</td>\n",
              "      <td>NaN</td>\n",
              "      <td>NaN</td>\n",
              "      <td>6.000000</td>\n",
              "      <td>NaN</td>\n",
              "      <td>NaN</td>\n",
              "      <td>1.000000</td>\n",
              "    </tr>\n",
              "    <tr>\n",
              "      <th>max</th>\n",
              "      <td>NaN</td>\n",
              "      <td>NaN</td>\n",
              "      <td>NaN</td>\n",
              "      <td>705.590000</td>\n",
              "      <td>NaN</td>\n",
              "      <td>NaN</td>\n",
              "      <td>NaN</td>\n",
              "      <td>21.000000</td>\n",
              "      <td>NaN</td>\n",
              "      <td>1.000000</td>\n",
              "      <td>NaN</td>\n",
              "      <td>5000.000000</td>\n",
              "      <td>19963.630000</td>\n",
              "      <td>NaN</td>\n",
              "      <td>NaN</td>\n",
              "      <td>200.000000</td>\n",
              "      <td>NaN</td>\n",
              "      <td>NaN</td>\n",
              "      <td>1.000000</td>\n",
              "    </tr>\n",
              "  </tbody>\n",
              "</table>\n",
              "</div>"
            ],
            "text/plain": [
              "               loanId  ...          hasCF\n",
              "count          577426  ...  577682.000000\n",
              "unique         577426  ...            NaN\n",
              "top     LL-I-08497200  ...            NaN\n",
              "freq                1  ...            NaN\n",
              "first             NaN  ...            NaN\n",
              "last              NaN  ...            NaN\n",
              "mean              NaN  ...       0.619187\n",
              "std               NaN  ...       0.485587\n",
              "min               NaN  ...       0.000000\n",
              "25%               NaN  ...       0.000000\n",
              "50%               NaN  ...       1.000000\n",
              "75%               NaN  ...       1.000000\n",
              "max               NaN  ...       1.000000\n",
              "\n",
              "[13 rows x 19 columns]"
            ]
          },
          "metadata": {
            "tags": []
          },
          "execution_count": 8
        }
      ]
    },
    {
      "cell_type": "markdown",
      "metadata": {
        "id": "lTRUzB4awbUf"
      },
      "source": [
        "<b>Here is the interpretation of the summery statistics-\n",
        "   1. 'nPaidOff has a mean value 0.037 denotes that most of that customer does not have any previous loan with MoneyLion. \n",
        "   2. For 'isFunded' variable, zero value at 25th, 50th and 75th percetile means most customers loan was not funded. It may be they were rejected or application withdrawn by the customers.\n",
        "   3. Percentile values of 'loanAmount' shows most loan applied for the 350 to 500.\n",
        "   4. Max lead cost is 200 whereas mean and meadian lead costs are 7.85 and 3 respectively. \n",
        "   5. Median and mean of 'hasCF' variable means most entries has CF score. </b>"
      ]
    },
    {
      "cell_type": "markdown",
      "metadata": {
        "id": "wZsBLShcwbUg"
      },
      "source": [
        "## Filtering funded loans only\n",
        "The dataset \"DF\" has been filtered ('isFunded'= 1) as credit risk will be assesed for funded customers only."
      ]
    },
    {
      "cell_type": "code",
      "metadata": {
        "id": "mQcy9rMywbUh",
        "colab": {
          "base_uri": "https://localhost:8080/",
          "height": 307
        },
        "outputId": "a7f3259b-5cf9-440a-d779-4efc3afdd99e"
      },
      "source": [
        "funded = df[df['isFunded']==1]\n",
        "funded.head()"
      ],
      "execution_count": 9,
      "outputs": [
        {
          "output_type": "execute_result",
          "data": {
            "text/html": [
              "<div>\n",
              "<style scoped>\n",
              "    .dataframe tbody tr th:only-of-type {\n",
              "        vertical-align: middle;\n",
              "    }\n",
              "\n",
              "    .dataframe tbody tr th {\n",
              "        vertical-align: top;\n",
              "    }\n",
              "\n",
              "    .dataframe thead th {\n",
              "        text-align: right;\n",
              "    }\n",
              "</style>\n",
              "<table border=\"1\" class=\"dataframe\">\n",
              "  <thead>\n",
              "    <tr style=\"text-align: right;\">\n",
              "      <th></th>\n",
              "      <th>loanId</th>\n",
              "      <th>anon_ssn</th>\n",
              "      <th>payFrequency</th>\n",
              "      <th>apr</th>\n",
              "      <th>applicationDate</th>\n",
              "      <th>originated</th>\n",
              "      <th>originatedDate</th>\n",
              "      <th>nPaidOff</th>\n",
              "      <th>approved</th>\n",
              "      <th>isFunded</th>\n",
              "      <th>loanStatus</th>\n",
              "      <th>loanAmount</th>\n",
              "      <th>originallyScheduledPaymentAmount</th>\n",
              "      <th>state</th>\n",
              "      <th>leadType</th>\n",
              "      <th>leadCost</th>\n",
              "      <th>fpStatus</th>\n",
              "      <th>clarityFraudId</th>\n",
              "      <th>hasCF</th>\n",
              "    </tr>\n",
              "  </thead>\n",
              "  <tbody>\n",
              "    <tr>\n",
              "      <th>1</th>\n",
              "      <td>LL-I-06644937</td>\n",
              "      <td>464f5d9ae4fa09ece4048d949191865c</td>\n",
              "      <td>B</td>\n",
              "      <td>199.0</td>\n",
              "      <td>2016-01-19 22:07:36.778</td>\n",
              "      <td>True</td>\n",
              "      <td>2016-01-20 15:49:18.846</td>\n",
              "      <td>0.0</td>\n",
              "      <td>True</td>\n",
              "      <td>1</td>\n",
              "      <td>Paid Off Loan</td>\n",
              "      <td>3000.0</td>\n",
              "      <td>6395.19</td>\n",
              "      <td>CA</td>\n",
              "      <td>prescreen</td>\n",
              "      <td>0</td>\n",
              "      <td>Checked</td>\n",
              "      <td>569eb3a3e4b096699f685d64</td>\n",
              "      <td>1</td>\n",
              "    </tr>\n",
              "    <tr>\n",
              "      <th>15</th>\n",
              "      <td>LL-I-12263369</td>\n",
              "      <td>accf40708233e8b7d05fcb89d5a9c081</td>\n",
              "      <td>B</td>\n",
              "      <td>475.0</td>\n",
              "      <td>2016-11-28 19:54:22.982</td>\n",
              "      <td>True</td>\n",
              "      <td>2016-11-29 20:30:40.640</td>\n",
              "      <td>2.0</td>\n",
              "      <td>True</td>\n",
              "      <td>1</td>\n",
              "      <td>New Loan</td>\n",
              "      <td>350.0</td>\n",
              "      <td>893.88</td>\n",
              "      <td>MO</td>\n",
              "      <td>organic</td>\n",
              "      <td>0</td>\n",
              "      <td>Checked</td>\n",
              "      <td>NaN</td>\n",
              "      <td>0</td>\n",
              "    </tr>\n",
              "    <tr>\n",
              "      <th>33</th>\n",
              "      <td>LL-I-17826953</td>\n",
              "      <td>7529d29c9d943cc55bc71a85d9c6b7a3</td>\n",
              "      <td>W</td>\n",
              "      <td>645.0</td>\n",
              "      <td>2017-03-01 15:55:41.823</td>\n",
              "      <td>True</td>\n",
              "      <td>2017-03-01 16:15:13.016</td>\n",
              "      <td>0.0</td>\n",
              "      <td>True</td>\n",
              "      <td>1</td>\n",
              "      <td>New Loan</td>\n",
              "      <td>400.0</td>\n",
              "      <td>1364.87</td>\n",
              "      <td>NJ</td>\n",
              "      <td>lead</td>\n",
              "      <td>40</td>\n",
              "      <td>Checked</td>\n",
              "      <td>58b6eef8e4b0b6fca82fd426</td>\n",
              "      <td>1</td>\n",
              "    </tr>\n",
              "    <tr>\n",
              "      <th>47</th>\n",
              "      <td>LL-I-16519347</td>\n",
              "      <td>bc9fa73468acf18cb968a3a6a3c4697c</td>\n",
              "      <td>S</td>\n",
              "      <td>490.0</td>\n",
              "      <td>2017-01-31 17:48:17.381</td>\n",
              "      <td>True</td>\n",
              "      <td>2017-01-31 18:00:14.520</td>\n",
              "      <td>2.0</td>\n",
              "      <td>True</td>\n",
              "      <td>1</td>\n",
              "      <td>Paid Off Loan</td>\n",
              "      <td>1250.0</td>\n",
              "      <td>3313.78</td>\n",
              "      <td>MO</td>\n",
              "      <td>organic</td>\n",
              "      <td>0</td>\n",
              "      <td>Checked</td>\n",
              "      <td>58450a15e4b0bb9d6d7344c7</td>\n",
              "      <td>1</td>\n",
              "    </tr>\n",
              "    <tr>\n",
              "      <th>54</th>\n",
              "      <td>LL-I-11506719</td>\n",
              "      <td>10cefd11d41612b032fd9cd2debe32dc</td>\n",
              "      <td>B</td>\n",
              "      <td>590.0</td>\n",
              "      <td>2016-08-27 09:08:05.442</td>\n",
              "      <td>True</td>\n",
              "      <td>2016-08-29 15:05:04.014</td>\n",
              "      <td>0.0</td>\n",
              "      <td>True</td>\n",
              "      <td>1</td>\n",
              "      <td>Paid Off Loan</td>\n",
              "      <td>800.0</td>\n",
              "      <td>2432.08</td>\n",
              "      <td>CA</td>\n",
              "      <td>bvMandatory</td>\n",
              "      <td>10</td>\n",
              "      <td>Checked</td>\n",
              "      <td>578f9346e4b0810ad5e7b72e</td>\n",
              "      <td>1</td>\n",
              "    </tr>\n",
              "  </tbody>\n",
              "</table>\n",
              "</div>"
            ],
            "text/plain": [
              "           loanId  ... hasCF\n",
              "1   LL-I-06644937  ...     1\n",
              "15  LL-I-12263369  ...     0\n",
              "33  LL-I-17826953  ...     1\n",
              "47  LL-I-16519347  ...     1\n",
              "54  LL-I-11506719  ...     1\n",
              "\n",
              "[5 rows x 19 columns]"
            ]
          },
          "metadata": {
            "tags": []
          },
          "execution_count": 9
        }
      ]
    },
    {
      "cell_type": "code",
      "metadata": {
        "id": "CGNMc0_PwbUh",
        "colab": {
          "base_uri": "https://localhost:8080/"
        },
        "outputId": "25e77580-dafd-4f10-caca-fd002980f9f5"
      },
      "source": [
        "funded['originated'].value_counts()"
      ],
      "execution_count": 10,
      "outputs": [
        {
          "output_type": "execute_result",
          "data": {
            "text/plain": [
              "True    38982\n",
              "Name: originated, dtype: int64"
            ]
          },
          "metadata": {
            "tags": []
          },
          "execution_count": 10
        }
      ]
    },
    {
      "cell_type": "code",
      "metadata": {
        "id": "HnSz9httwbUi",
        "colab": {
          "base_uri": "https://localhost:8080/"
        },
        "outputId": "881a885b-cbbd-4323-a2df-11f53d4a9312"
      },
      "source": [
        "funded['approved'].value_counts()"
      ],
      "execution_count": 11,
      "outputs": [
        {
          "output_type": "execute_result",
          "data": {
            "text/plain": [
              "True    38982\n",
              "Name: approved, dtype: int64"
            ]
          },
          "metadata": {
            "tags": []
          },
          "execution_count": 11
        }
      ]
    },
    {
      "cell_type": "code",
      "metadata": {
        "id": "TR8DbWw8wbUi",
        "colab": {
          "base_uri": "https://localhost:8080/"
        },
        "outputId": "f8d45c1f-b307-4de8-8672-f08f11e3de3d"
      },
      "source": [
        "funded['isFunded'].value_counts()"
      ],
      "execution_count": 12,
      "outputs": [
        {
          "output_type": "execute_result",
          "data": {
            "text/plain": [
              "1    38982\n",
              "Name: isFunded, dtype: int64"
            ]
          },
          "metadata": {
            "tags": []
          },
          "execution_count": 12
        }
      ]
    },
    {
      "cell_type": "markdown",
      "metadata": {
        "id": "lW3QLpXLwbUj"
      },
      "source": [
        "<b> 'originated', 'approved', and 'isFunded' variables has only one value and zero variance does not help in model. Therefore these variables are dropped. </b>"
      ]
    },
    {
      "cell_type": "code",
      "metadata": {
        "id": "cqvsWGxDwbUk"
      },
      "source": [
        "# dropping 'originated', 'approved', and 'isFunded' variables\n",
        "funded = funded.drop(['originated', 'approved', 'isFunded'], axis=1)"
      ],
      "execution_count": 13,
      "outputs": []
    },
    {
      "cell_type": "code",
      "metadata": {
        "id": "Ym65sMAbwbUk",
        "colab": {
          "base_uri": "https://localhost:8080/",
          "height": 1000
        },
        "outputId": "9a0f4573-9b98-416b-acda-f9c8b648e523"
      },
      "source": [
        "# Histogram and scatterplot Matrix of the dataset\n",
        "g = sns.PairGrid(funded)\n",
        "g.map_diag(sns.histplot)\n",
        "g.map_lower(sns.scatterplot)"
      ],
      "execution_count": 14,
      "outputs": [
        {
          "output_type": "execute_result",
          "data": {
            "text/plain": [
              "<seaborn.axisgrid.PairGrid at 0x7fb88d3edc10>"
            ]
          },
          "metadata": {
            "tags": []
          },
          "execution_count": 14
        },
        {
          "output_type": "display_data",
          "data": {
            "image/png": "[encoded data removed]",
            "text/plain": [
              "<Figure size 1080x1080 with 42 Axes>"
            ]
          },
          "metadata": {
            "tags": [],
            "needs_background": "light"
          }
        }
      ]
    },
    {
      "cell_type": "markdown",
      "metadata": {
        "id": "VgUGn5K5wbUl"
      },
      "source": [
        "<b> The Pairplot doesnot show any linear relationship between two variables except 'loanAmount' and 'orginallyScheduledPaymentAmount'. \n",
        "Histogram plotted diagonally also does not show any normal distribusion. </b>"
      ]
    },
    {
      "cell_type": "markdown",
      "metadata": {
        "id": "D1n2bH2bwbUl"
      },
      "source": [
        "## Analysis of Lead Cost and Types"
      ]
    },
    {
      "cell_type": "code",
      "metadata": {
        "id": "R6QFmxIywbUl",
        "colab": {
          "base_uri": "https://localhost:8080/",
          "height": 357
        },
        "outputId": "ad7f5596-3c29-4e58-f7bf-bdfa9e9299df"
      },
      "source": [
        "# Counts of diffeerent types of Lead cost\n",
        "counts=funded['leadType'].value_counts()\n",
        "\n",
        "# Total cost of each lead types \n",
        "sum_cost=funded.groupby('leadType')['leadCost'].sum()\n",
        "\n",
        "# Average lead cost for each types\n",
        "mean_cost=funded.groupby('leadType')['leadCost'].mean()\n",
        "\n",
        "# Total Loan amount for each lead type\n",
        "loan_amount= funded.groupby('leadType')['loanAmount'].sum()\n",
        "\n",
        "# Merging together for comparison\n",
        "cost_analysis= pd.concat((counts.rename('Count'),sum_cost.rename('Total Cost'), \n",
        "           mean_cost.rename('Mean'), loan_amount.rename('Loan Amount')),axis=1)\n",
        "cost_analysis['Cost percentage']=  cost_analysis['Total Cost']/cost_analysis['Loan Amount']\n",
        "\n",
        "# View Comparison table\n",
        "cost_analysis"
      ],
      "execution_count": 15,
      "outputs": [
        {
          "output_type": "execute_result",
          "data": {
            "text/html": [
              "<div>\n",
              "<style scoped>\n",
              "    .dataframe tbody tr th:only-of-type {\n",
              "        vertical-align: middle;\n",
              "    }\n",
              "\n",
              "    .dataframe tbody tr th {\n",
              "        vertical-align: top;\n",
              "    }\n",
              "\n",
              "    .dataframe thead th {\n",
              "        text-align: right;\n",
              "    }\n",
              "</style>\n",
              "<table border=\"1\" class=\"dataframe\">\n",
              "  <thead>\n",
              "    <tr style=\"text-align: right;\">\n",
              "      <th></th>\n",
              "      <th>Count</th>\n",
              "      <th>Total Cost</th>\n",
              "      <th>Mean</th>\n",
              "      <th>Loan Amount</th>\n",
              "      <th>Cost percentage</th>\n",
              "    </tr>\n",
              "  </thead>\n",
              "  <tbody>\n",
              "    <tr>\n",
              "      <th>bvMandatory</th>\n",
              "      <td>16569</td>\n",
              "      <td>79064</td>\n",
              "      <td>4.771803</td>\n",
              "      <td>7641333.0</td>\n",
              "      <td>0.010347</td>\n",
              "    </tr>\n",
              "    <tr>\n",
              "      <th>lead</th>\n",
              "      <td>11572</td>\n",
              "      <td>376540</td>\n",
              "      <td>32.538887</td>\n",
              "      <td>8517207.0</td>\n",
              "      <td>0.044209</td>\n",
              "    </tr>\n",
              "    <tr>\n",
              "      <th>organic</th>\n",
              "      <td>7598</td>\n",
              "      <td>1407</td>\n",
              "      <td>0.185180</td>\n",
              "      <td>5094062.0</td>\n",
              "      <td>0.000276</td>\n",
              "    </tr>\n",
              "    <tr>\n",
              "      <th>rc_returning</th>\n",
              "      <td>1843</td>\n",
              "      <td>0</td>\n",
              "      <td>0.000000</td>\n",
              "      <td>1215424.0</td>\n",
              "      <td>0.000000</td>\n",
              "    </tr>\n",
              "    <tr>\n",
              "      <th>prescreen</th>\n",
              "      <td>1307</td>\n",
              "      <td>0</td>\n",
              "      <td>0.000000</td>\n",
              "      <td>2291706.0</td>\n",
              "      <td>0.000000</td>\n",
              "    </tr>\n",
              "    <tr>\n",
              "      <th>california</th>\n",
              "      <td>49</td>\n",
              "      <td>7700</td>\n",
              "      <td>157.142857</td>\n",
              "      <td>136850.0</td>\n",
              "      <td>0.056266</td>\n",
              "    </tr>\n",
              "    <tr>\n",
              "      <th>express</th>\n",
              "      <td>16</td>\n",
              "      <td>0</td>\n",
              "      <td>0.000000</td>\n",
              "      <td>11850.0</td>\n",
              "      <td>0.000000</td>\n",
              "    </tr>\n",
              "    <tr>\n",
              "      <th>lionpay</th>\n",
              "      <td>10</td>\n",
              "      <td>0</td>\n",
              "      <td>0.000000</td>\n",
              "      <td>8231.0</td>\n",
              "      <td>0.000000</td>\n",
              "    </tr>\n",
              "    <tr>\n",
              "      <th>repeat</th>\n",
              "      <td>9</td>\n",
              "      <td>0</td>\n",
              "      <td>0.000000</td>\n",
              "      <td>8600.0</td>\n",
              "      <td>0.000000</td>\n",
              "    </tr>\n",
              "    <tr>\n",
              "      <th>instant-offer</th>\n",
              "      <td>9</td>\n",
              "      <td>0</td>\n",
              "      <td>0.000000</td>\n",
              "      <td>12600.0</td>\n",
              "      <td>0.000000</td>\n",
              "    </tr>\n",
              "  </tbody>\n",
              "</table>\n",
              "</div>"
            ],
            "text/plain": [
              "               Count  Total Cost        Mean  Loan Amount  Cost percentage\n",
              "bvMandatory    16569       79064    4.771803    7641333.0         0.010347\n",
              "lead           11572      376540   32.538887    8517207.0         0.044209\n",
              "organic         7598        1407    0.185180    5094062.0         0.000276\n",
              "rc_returning    1843           0    0.000000    1215424.0         0.000000\n",
              "prescreen       1307           0    0.000000    2291706.0         0.000000\n",
              "california        49        7700  157.142857     136850.0         0.056266\n",
              "express           16           0    0.000000      11850.0         0.000000\n",
              "lionpay           10           0    0.000000       8231.0         0.000000\n",
              "repeat             9           0    0.000000       8600.0         0.000000\n",
              "instant-offer      9           0    0.000000      12600.0         0.000000"
            ]
          },
          "metadata": {
            "tags": []
          },
          "execution_count": 15
        }
      ]
    },
    {
      "cell_type": "markdown",
      "metadata": {
        "id": "5VyBWCCDwbUm"
      },
      "source": [
        "<b>Observations are-\n",
        "    \n",
        "    1. Most number of loans generated through 'bvMandatory' where bank verification is mandatory.\n",
        "    \n",
        "    2. Most amount of loan generated by 'lead' where bank verification is not mandatory.\n",
        "    \n",
        "    3. Average cost per loan in highest in California. It is understandable as cost may increase due to strict regulations and adherence. \n",
        "    4. No cost reported for 'returning', 'prescreen', 'express', 'lionpay', 'instant-offer' and 'repeat'.\n",
        "    \n",
        "    5. Interesting to see 'Prescreen' did not cost anything. In this process, prequilified customers mailed to take loan. Surely there are mailing cost involved unless it is categorized under operational expenses. \n",
        "    </b>"
      ]
    },
    {
      "cell_type": "code",
      "metadata": {
        "scrolled": false,
        "id": "WMqIhsBvwbUn",
        "colab": {
          "base_uri": "https://localhost:8080/",
          "height": 429
        },
        "outputId": "8902eb32-70df-40d2-bc2c-e421173ac767"
      },
      "source": [
        "# Barchart loan Status vs Loan amount grouped by pay frequency\n",
        "plt.figure(figsize= (23,8))\n",
        "sns.barplot(x=\"loanStatus\", y=\"loanAmount\", hue=\"payFrequency\", data=funded)"
      ],
      "execution_count": 17,
      "outputs": [
        {
          "output_type": "execute_result",
          "data": {
            "text/plain": [
              "<matplotlib.axes._subplots.AxesSubplot at 0x7fb895aadf10>"
            ]
          },
          "metadata": {
            "tags": []
          },
          "execution_count": 17
        },
        {
          "output_type": "display_data",
          "data": {
            "image/png": "[encoded data removed]",
            "text/plain": [
              "<Figure size 1656x576 with 1 Axes>"
            ]
          },
          "metadata": {
            "tags": [],
            "needs_background": "light"
          }
        }
      ]
    },
    {
      "cell_type": "markdown",
      "metadata": {
        "id": "_cFUZUEXwbUn"
      },
      "source": [
        "<b>Irregular Payments are highest in terms of average loan amount within 'new loan', 'internal collection', 'Charged off Paid Off' and 'Settlement Paid Off'. Generally Semi monthly payments are more preffered mode of payment across all groups.</b>"
      ]
    },
    {
      "cell_type": "code",
      "metadata": {
        "colab": {
          "base_uri": "https://localhost:8080/"
        },
        "id": "DXgV5YIzyWuM",
        "outputId": "9c7b6080-5ae4-4d53-9465-efa3b3dee0b1"
      },
      "source": [
        "from statsmodels.multivariate.manova import MANOVA\n",
        "maov = MANOVA.from_formula('loanStatus + payFrequency ~ loanAmount + leadCost', data=funded)\n",
        "print(maov.mv_test())"
      ],
      "execution_count": 18,
      "outputs": [
        {
          "output_type": "stream",
          "text": [
            "                                   Multivariate linear model\n",
            "================================================================================================\n",
            "                                                                                                \n",
            "------------------------------------------------------------------------------------------------\n",
            "       Intercept                Value          Num DF   Den DF           F Value          Pr > F\n",
            "------------------------------------------------------------------------------------------------\n",
            "          Wilks' lambda               -0.0000 15.0000 38965.0000 -974904219336065664.0000 1.0000\n",
            "         Pillai's trace                1.0000 15.0000 38965.0000 -974904219336065664.0000 1.0000\n",
            " Hotelling-Lawley trace -375299968947542.3125 15.0000 38965.0000 -974904219336065664.0000 1.0000\n",
            "    Roy's greatest root -375299968947542.3125 15.0000 38965.0000 -974904219336065664.0000 1.0000\n",
            "------------------------------------------------------------------------------------------------\n",
            "                                                                                                \n",
            "------------------------------------------------------------------------------------------------------\n",
            "               loanAmount             Value         Num DF         Den DF         F Value       Pr > F\n",
            "------------------------------------------------------------------------------------------------------\n",
            "                  Wilks' lambda       0.9735       14.0000       38966.0000       75.7412       0.0000\n",
            "                 Pillai's trace       0.0265       14.0000       38966.0000       75.7599       0.0000\n",
            "         Hotelling-Lawley trace       0.0272       14.0000       38966.0000       75.7230       0.0000\n",
            "            Roy's greatest root       0.0270       14.0000       38966.0000       75.0482       0.0000\n",
            "------------------------------------------------------------------------------------------------\n",
            "                                                                                                \n",
            "------------------------------------------------------------------------------------------------------\n",
            "                leadCost              Value         Num DF         Den DF         F Value       Pr > F\n",
            "------------------------------------------------------------------------------------------------------\n",
            "                  Wilks' lambda       0.9685       14.0000       38966.0000       90.4161       0.0000\n",
            "                 Pillai's trace       0.0315       14.0000       38966.0000       90.4203       0.0000\n",
            "         Hotelling-Lawley trace       0.0325       14.0000       38966.0000       90.4120       0.0000\n",
            "            Roy's greatest root       0.0324       14.0000       38966.0000       90.2857       0.0000\n",
            "================================================================================================\n",
            "\n"
          ],
          "name": "stdout"
        }
      ]
    },
    {
      "cell_type": "markdown",
      "metadata": {
        "id": "hRWspg4VwbUn"
      },
      "source": [
        "## Missing Values Imputation"
      ]
    },
    {
      "cell_type": "code",
      "metadata": {
        "id": "p9AZyKacwbUo",
        "colab": {
          "base_uri": "https://localhost:8080/"
        },
        "outputId": "7f1a9fa0-4e50-4949-dacb-ecca1e99dfa8"
      },
      "source": [
        "# Identifying missing values in the funded dataset\n",
        "funded.isnull().sum().sort_values(ascending=False)"
      ],
      "execution_count": 19,
      "outputs": [
        {
          "output_type": "execute_result",
          "data": {
            "text/plain": [
              "clarityFraudId                      6622\n",
              "nPaidOff                              21\n",
              "fpStatus                               9\n",
              "hasCF                                  0\n",
              "leadCost                               0\n",
              "leadType                               0\n",
              "state                                  0\n",
              "originallyScheduledPaymentAmount       0\n",
              "loanAmount                             0\n",
              "loanStatus                             0\n",
              "originatedDate                         0\n",
              "applicationDate                        0\n",
              "apr                                    0\n",
              "payFrequency                           0\n",
              "anon_ssn                               0\n",
              "loanId                                 0\n",
              "dtype: int64"
            ]
          },
          "metadata": {
            "tags": []
          },
          "execution_count": 19
        }
      ]
    },
    {
      "cell_type": "markdown",
      "metadata": {
        "id": "jc76kVETwbUo"
      },
      "source": [
        "<b> Only 'clarityFraudId', 'nPaidOff', and 'fpStatus' has missing values. However, 'clarityFraudId' being an ID column we will not do any imputation in this column.</b>"
      ]
    },
    {
      "cell_type": "code",
      "metadata": {
        "id": "wmUMtx9OwbUo"
      },
      "source": [
        "# Imputation of missing values in 'nPaidOff' and 'fpStatus' with median and mode repectively\n",
        "funded['nPaidOff']= funded['nPaidOff'].fillna(funded['nPaidOff'] .median())\n",
        "funded['fpStatus']= funded[['fpStatus']].apply(lambda x: x.fillna(x.value_counts().index[0]))"
      ],
      "execution_count": 20,
      "outputs": []
    },
    {
      "cell_type": "code",
      "metadata": {
        "id": "RJdxyMkVwbUo",
        "colab": {
          "base_uri": "https://localhost:8080/"
        },
        "outputId": "4b64a789-fafc-4b11-fd03-1ab6d76be03b"
      },
      "source": [
        "# Imputation of 'nPaidOff' and 'fpStatus' variables\n",
        "# No imputation on 'clarityFraudId' because it is an ID\n",
        "funded.isnull().sum().sort_values(ascending=False)"
      ],
      "execution_count": 21,
      "outputs": [
        {
          "output_type": "execute_result",
          "data": {
            "text/plain": [
              "clarityFraudId                      6622\n",
              "hasCF                                  0\n",
              "fpStatus                               0\n",
              "leadCost                               0\n",
              "leadType                               0\n",
              "state                                  0\n",
              "originallyScheduledPaymentAmount       0\n",
              "loanAmount                             0\n",
              "loanStatus                             0\n",
              "nPaidOff                               0\n",
              "originatedDate                         0\n",
              "applicationDate                        0\n",
              "apr                                    0\n",
              "payFrequency                           0\n",
              "anon_ssn                               0\n",
              "loanId                                 0\n",
              "dtype: int64"
            ]
          },
          "metadata": {
            "tags": []
          },
          "execution_count": 21
        }
      ]
    },
    {
      "cell_type": "markdown",
      "metadata": {
        "id": "fGmm_eMUwbUp"
      },
      "source": [
        "<b>No missing values showing in 'nPaidOff' and 'fpStatus' after imputation.\n",
        "\n",
        "However, we are building a model to see whether a customer is eligible for a loan or a potential defaulters. first payment status will not be available for new customer to MoneyLion. Hence we will not use 'fpStatus' in our training stage.  </b>"
      ]
    },
    {
      "cell_type": "markdown",
      "metadata": {
        "id": "EfDDc20kwbUp"
      },
      "source": [
        "## Analysis of Loan Status "
      ]
    },
    {
      "cell_type": "code",
      "metadata": {
        "id": "qKWdKJUswbUp",
        "colab": {
          "base_uri": "https://localhost:8080/",
          "height": 388
        },
        "outputId": "d71a4297-047e-4c61-9dbb-041b3c271570"
      },
      "source": [
        "# Counts of unique values in \"loanStatus\" Variable\n",
        "loan_status_count = funded['loanStatus'].value_counts()\n",
        "\n",
        "# Loan Amount per Loan Status type\n",
        "amount_by_status= funded.groupby('loanStatus')['loanAmount'].sum()\n",
        "\n",
        "# Average loan aount per loan status\n",
        "average = amount_by_status/loan_status_count\n",
        "\n",
        "# Combining Count and Amount per status\n",
        "pd.concat((loan_status_count.rename('Count'),amount_by_status.rename('Total_Loan_Amount'), average.rename('Average')),axis=1)"
      ],
      "execution_count": 22,
      "outputs": [
        {
          "output_type": "execute_result",
          "data": {
            "text/html": [
              "<div>\n",
              "<style scoped>\n",
              "    .dataframe tbody tr th:only-of-type {\n",
              "        vertical-align: middle;\n",
              "    }\n",
              "\n",
              "    .dataframe tbody tr th {\n",
              "        vertical-align: top;\n",
              "    }\n",
              "\n",
              "    .dataframe thead th {\n",
              "        text-align: right;\n",
              "    }\n",
              "</style>\n",
              "<table border=\"1\" class=\"dataframe\">\n",
              "  <thead>\n",
              "    <tr style=\"text-align: right;\">\n",
              "      <th></th>\n",
              "      <th>Count</th>\n",
              "      <th>Total_Loan_Amount</th>\n",
              "      <th>Average</th>\n",
              "    </tr>\n",
              "  </thead>\n",
              "  <tbody>\n",
              "    <tr>\n",
              "      <th>Paid Off Loan</th>\n",
              "      <td>11427</td>\n",
              "      <td>7231496.0</td>\n",
              "      <td>632.842916</td>\n",
              "    </tr>\n",
              "    <tr>\n",
              "      <th>External Collection</th>\n",
              "      <td>11334</td>\n",
              "      <td>6390019.0</td>\n",
              "      <td>563.792042</td>\n",
              "    </tr>\n",
              "    <tr>\n",
              "      <th>New Loan</th>\n",
              "      <td>8112</td>\n",
              "      <td>5742605.5</td>\n",
              "      <td>707.914879</td>\n",
              "    </tr>\n",
              "    <tr>\n",
              "      <th>Internal Collection</th>\n",
              "      <td>5564</td>\n",
              "      <td>3956486.5</td>\n",
              "      <td>711.086718</td>\n",
              "    </tr>\n",
              "    <tr>\n",
              "      <th>Returned Item</th>\n",
              "      <td>1182</td>\n",
              "      <td>798020.0</td>\n",
              "      <td>675.143824</td>\n",
              "    </tr>\n",
              "    <tr>\n",
              "      <th>Settlement Paid Off</th>\n",
              "      <td>708</td>\n",
              "      <td>392188.0</td>\n",
              "      <td>553.937853</td>\n",
              "    </tr>\n",
              "    <tr>\n",
              "      <th>Settled Bankruptcy</th>\n",
              "      <td>325</td>\n",
              "      <td>216186.0</td>\n",
              "      <td>665.187692</td>\n",
              "    </tr>\n",
              "    <tr>\n",
              "      <th>Pending Paid Off</th>\n",
              "      <td>169</td>\n",
              "      <td>111962.0</td>\n",
              "      <td>662.497041</td>\n",
              "    </tr>\n",
              "    <tr>\n",
              "      <th>Charged Off Paid Off</th>\n",
              "      <td>159</td>\n",
              "      <td>96800.0</td>\n",
              "      <td>608.805031</td>\n",
              "    </tr>\n",
              "    <tr>\n",
              "      <th>Settlement Pending Paid Off</th>\n",
              "      <td>1</td>\n",
              "      <td>300.0</td>\n",
              "      <td>300.000000</td>\n",
              "    </tr>\n",
              "    <tr>\n",
              "      <th>Charged Off</th>\n",
              "      <td>1</td>\n",
              "      <td>1800.0</td>\n",
              "      <td>1800.000000</td>\n",
              "    </tr>\n",
              "  </tbody>\n",
              "</table>\n",
              "</div>"
            ],
            "text/plain": [
              "                             Count  Total_Loan_Amount      Average\n",
              "Paid Off Loan                11427          7231496.0   632.842916\n",
              "External Collection          11334          6390019.0   563.792042\n",
              "New Loan                      8112          5742605.5   707.914879\n",
              "Internal Collection           5564          3956486.5   711.086718\n",
              "Returned Item                 1182           798020.0   675.143824\n",
              "Settlement Paid Off            708           392188.0   553.937853\n",
              "Settled Bankruptcy             325           216186.0   665.187692\n",
              "Pending Paid Off               169           111962.0   662.497041\n",
              "Charged Off Paid Off           159            96800.0   608.805031\n",
              "Settlement Pending Paid Off      1              300.0   300.000000\n",
              "Charged Off                      1             1800.0  1800.000000"
            ]
          },
          "metadata": {
            "tags": []
          },
          "execution_count": 22
        }
      ]
    },
    {
      "cell_type": "markdown",
      "metadata": {
        "id": "FvQDnhJtwbUp"
      },
      "source": [
        "<b>A large portion of all loans are still outstanding under internal and external collection.</b>"
      ]
    },
    {
      "cell_type": "markdown",
      "metadata": {
        "id": "tclrDMr5wbUq"
      },
      "source": [
        "# Construction of the Target Variable\n",
        "MoneyLion would be interested to provide loans to customers who are able to pay off loan. We re-label the 'loanStatus' values in to two categories 0 and 1. 0 categories will be assiged to the customers who paid off the loan and 1 will be assigned to the loans that are not been paid and potential defaulters.\n",
        "\n",
        "#### 'target' - 1 : Potential Defaulters\n",
        "Settled Bankcruptcy: Bankcrupt.\n",
        "Charged Off: Amount of debt is unlikely to be collected.\n",
        "Charged off Paid Off: consider account close eventhough debt still owing, but they paid off the debt in the future.\n",
        "External Collection: Another company used to recover debt\n",
        "Internal Collection: MoneyLion trying to recover debt\n",
        "\n",
        "#### 'target' - 0: Non Defaulters\n",
        "Paid Off Loan: The loan was paid off\n",
        "Settlement Paid Off\n",
        "  \n",
        "In this scenario, we can not consider 'New Loan', 'Returned Item', 'Settlement Pending Paid Off' and 'Pending Paid Off' in the model or for any other analysis as the outcomes of these loan statuses are at the very initial stage. Including these data in the model might have an inverse effect which will result inaacuracies while predicting the outcome."
      ]
    },
    {
      "cell_type": "code",
      "metadata": {
        "id": "EdyKJdm3wbUq"
      },
      "source": [
        "# Relabeling loan Status to good customer(0) and and not so good customer(1)\n",
        "status = {1:['Settled Bankruptcy',\n",
        "              'Charged Off',\n",
        "              'Charged Off Paid Off',\n",
        "              'Internal Collection',\n",
        "              'External Collection'], \n",
        "          0:['Paid Off Loan',             \n",
        "             'Settlement Paid Off']}"
      ],
      "execution_count": 23,
      "outputs": []
    },
    {
      "cell_type": "code",
      "metadata": {
        "id": "k1V88r8FwbUq"
      },
      "source": [
        "# Creating a function to create a new target label\n",
        "def target(x):\n",
        "    '''\n",
        "    this function takes the 'loanstatus' and maps them to the respective\n",
        "    target groups\n",
        "    '''\n",
        "    for y,z in status.items():\n",
        "        if x in z:\n",
        "            return y"
      ],
      "execution_count": 24,
      "outputs": []
    },
    {
      "cell_type": "code",
      "metadata": {
        "id": "-N_KkE5DwbUq",
        "colab": {
          "base_uri": "https://localhost:8080/",
          "height": 307
        },
        "outputId": "272e66c2-9b9e-479b-f33c-811f83936bb4"
      },
      "source": [
        "#Creating 'target' variable using previously defined function\n",
        "funded['target'] = funded['loanStatus'].map(target)\n",
        "\n",
        "# Dropping Null values in the target Variable and resetting index\n",
        "funded_class = funded[funded['target'].notna()].reset_index(drop=True)\n",
        "\n",
        "# Converting data types from float to integer\n",
        "funded_class['target'] = funded_class['target'].astype(int)\n",
        "\n",
        "# View Modified Dataset with categorical 'target' variable\n",
        "funded_class.head()"
      ],
      "execution_count": 25,
      "outputs": [
        {
          "output_type": "execute_result",
          "data": {
            "text/html": [
              "<div>\n",
              "<style scoped>\n",
              "    .dataframe tbody tr th:only-of-type {\n",
              "        vertical-align: middle;\n",
              "    }\n",
              "\n",
              "    .dataframe tbody tr th {\n",
              "        vertical-align: top;\n",
              "    }\n",
              "\n",
              "    .dataframe thead th {\n",
              "        text-align: right;\n",
              "    }\n",
              "</style>\n",
              "<table border=\"1\" class=\"dataframe\">\n",
              "  <thead>\n",
              "    <tr style=\"text-align: right;\">\n",
              "      <th></th>\n",
              "      <th>loanId</th>\n",
              "      <th>anon_ssn</th>\n",
              "      <th>payFrequency</th>\n",
              "      <th>apr</th>\n",
              "      <th>applicationDate</th>\n",
              "      <th>originatedDate</th>\n",
              "      <th>nPaidOff</th>\n",
              "      <th>loanStatus</th>\n",
              "      <th>loanAmount</th>\n",
              "      <th>originallyScheduledPaymentAmount</th>\n",
              "      <th>state</th>\n",
              "      <th>leadType</th>\n",
              "      <th>leadCost</th>\n",
              "      <th>fpStatus</th>\n",
              "      <th>clarityFraudId</th>\n",
              "      <th>hasCF</th>\n",
              "      <th>target</th>\n",
              "    </tr>\n",
              "  </thead>\n",
              "  <tbody>\n",
              "    <tr>\n",
              "      <th>0</th>\n",
              "      <td>LL-I-06644937</td>\n",
              "      <td>464f5d9ae4fa09ece4048d949191865c</td>\n",
              "      <td>B</td>\n",
              "      <td>199.0</td>\n",
              "      <td>2016-01-19 22:07:36.778</td>\n",
              "      <td>2016-01-20 15:49:18.846</td>\n",
              "      <td>0.0</td>\n",
              "      <td>Paid Off Loan</td>\n",
              "      <td>3000.0</td>\n",
              "      <td>6395.19</td>\n",
              "      <td>CA</td>\n",
              "      <td>prescreen</td>\n",
              "      <td>0</td>\n",
              "      <td>Checked</td>\n",
              "      <td>569eb3a3e4b096699f685d64</td>\n",
              "      <td>1</td>\n",
              "      <td>0</td>\n",
              "    </tr>\n",
              "    <tr>\n",
              "      <th>1</th>\n",
              "      <td>LL-I-16519347</td>\n",
              "      <td>bc9fa73468acf18cb968a3a6a3c4697c</td>\n",
              "      <td>S</td>\n",
              "      <td>490.0</td>\n",
              "      <td>2017-01-31 17:48:17.381</td>\n",
              "      <td>2017-01-31 18:00:14.520</td>\n",
              "      <td>2.0</td>\n",
              "      <td>Paid Off Loan</td>\n",
              "      <td>1250.0</td>\n",
              "      <td>3313.78</td>\n",
              "      <td>MO</td>\n",
              "      <td>organic</td>\n",
              "      <td>0</td>\n",
              "      <td>Checked</td>\n",
              "      <td>58450a15e4b0bb9d6d7344c7</td>\n",
              "      <td>1</td>\n",
              "      <td>0</td>\n",
              "    </tr>\n",
              "    <tr>\n",
              "      <th>2</th>\n",
              "      <td>LL-I-11506719</td>\n",
              "      <td>10cefd11d41612b032fd9cd2debe32dc</td>\n",
              "      <td>B</td>\n",
              "      <td>590.0</td>\n",
              "      <td>2016-08-27 09:08:05.442</td>\n",
              "      <td>2016-08-29 15:05:04.014</td>\n",
              "      <td>0.0</td>\n",
              "      <td>Paid Off Loan</td>\n",
              "      <td>800.0</td>\n",
              "      <td>2432.08</td>\n",
              "      <td>CA</td>\n",
              "      <td>bvMandatory</td>\n",
              "      <td>10</td>\n",
              "      <td>Checked</td>\n",
              "      <td>578f9346e4b0810ad5e7b72e</td>\n",
              "      <td>1</td>\n",
              "      <td>0</td>\n",
              "    </tr>\n",
              "    <tr>\n",
              "      <th>3</th>\n",
              "      <td>LL-I-09279047</td>\n",
              "      <td>1d249e27292d25e4d3b4bc142a2a4aea</td>\n",
              "      <td>W</td>\n",
              "      <td>404.1</td>\n",
              "      <td>2016-05-25 03:05:18.849</td>\n",
              "      <td>2016-05-25 15:11:36.260</td>\n",
              "      <td>3.0</td>\n",
              "      <td>Paid Off Loan</td>\n",
              "      <td>300.0</td>\n",
              "      <td>422.64</td>\n",
              "      <td>WI</td>\n",
              "      <td>organic</td>\n",
              "      <td>0</td>\n",
              "      <td>Checked</td>\n",
              "      <td>56621584e4b0100e84141586</td>\n",
              "      <td>1</td>\n",
              "      <td>0</td>\n",
              "    </tr>\n",
              "    <tr>\n",
              "      <th>4</th>\n",
              "      <td>LL-I-18297678</td>\n",
              "      <td>bc500677542783c43842d54e34830f08</td>\n",
              "      <td>B</td>\n",
              "      <td>315.0</td>\n",
              "      <td>2017-03-12 18:24:46.356</td>\n",
              "      <td>2017-03-12 19:00:23.818</td>\n",
              "      <td>2.0</td>\n",
              "      <td>Internal Collection</td>\n",
              "      <td>1500.0</td>\n",
              "      <td>2875.27</td>\n",
              "      <td>IL</td>\n",
              "      <td>organic</td>\n",
              "      <td>0</td>\n",
              "      <td>Rejected</td>\n",
              "      <td>579101e7e4b0810ad80e43aa</td>\n",
              "      <td>1</td>\n",
              "      <td>1</td>\n",
              "    </tr>\n",
              "  </tbody>\n",
              "</table>\n",
              "</div>"
            ],
            "text/plain": [
              "          loanId                          anon_ssn  ... hasCF  target\n",
              "0  LL-I-06644937  464f5d9ae4fa09ece4048d949191865c  ...     1       0\n",
              "1  LL-I-16519347  bc9fa73468acf18cb968a3a6a3c4697c  ...     1       0\n",
              "2  LL-I-11506719  10cefd11d41612b032fd9cd2debe32dc  ...     1       0\n",
              "3  LL-I-09279047  1d249e27292d25e4d3b4bc142a2a4aea  ...     1       0\n",
              "4  LL-I-18297678  bc500677542783c43842d54e34830f08  ...     1       1\n",
              "\n",
              "[5 rows x 17 columns]"
            ]
          },
          "metadata": {
            "tags": []
          },
          "execution_count": 25
        }
      ]
    },
    {
      "cell_type": "code",
      "metadata": {
        "id": "bxn5wCIywbUr",
        "colab": {
          "base_uri": "https://localhost:8080/",
          "height": 319
        },
        "outputId": "8e3d2d76-4c0a-4341-dc79-2a65d81be2a1"
      },
      "source": [
        "# Distribution of 'target' variable with a pie chart\n",
        "value= funded_class[\"target\"].value_counts(normalize = True)\n",
        "colors = ['orange', 'darkgreen']\n",
        "labels = ['Potential Defaulters', 'Non-defaulters']\n",
        "explode = (0.1, 0)\n",
        "fig = plt.figure(figsize =(15, 5))\n",
        "fig.set_facecolor('white') \n",
        "plt.pie(value, colors=colors, labels=labels,\n",
        "explode=explode, autopct='%1.1f%%',\n",
        "counterclock=False, shadow=True, textprops = dict(color =\"Black\"))\n",
        "plt.title('Target distribution')\n",
        "plt.axis('equal')\n",
        "plt.show()"
      ],
      "execution_count": 26,
      "outputs": [
        {
          "output_type": "display_data",
          "data": {
            "image/png": "[encoded data removed]",
            "text/plain": [
              "<Figure size 1080x360 with 1 Axes>"
            ]
          },
          "metadata": {
            "tags": []
          }
        }
      ]
    },
    {
      "cell_type": "markdown",
      "metadata": {
        "id": "X1YvL4xjwbUr"
      },
      "source": [
        "<b>According to new category created from loan status potential defaulters are larger portion than non defaulted loan account. </b>"
      ]
    },
    {
      "cell_type": "markdown",
      "metadata": {
        "id": "eTiUJtIN2NzM"
      },
      "source": [
        "## Bivariate Analysis with target variable"
      ]
    },
    {
      "cell_type": "code",
      "metadata": {
        "id": "i1oF5BE_wbUr",
        "colab": {
          "base_uri": "https://localhost:8080/",
          "height": 352
        },
        "outputId": "901ab752-c7cd-4e7d-925f-c0a2839d19a0"
      },
      "source": [
        "# Pay frequency grouped by target customers.\n",
        "plt.figure(figsize= (10,5))\n",
        "sns.countplot(x=\"payFrequency\", hue=\"target\", data=funded_class)"
      ],
      "execution_count": 27,
      "outputs": [
        {
          "output_type": "execute_result",
          "data": {
            "text/plain": [
              "<matplotlib.axes._subplots.AxesSubplot at 0x7fb88aeb9350>"
            ]
          },
          "metadata": {
            "tags": []
          },
          "execution_count": 27
        },
        {
          "output_type": "display_data",
          "data": {
            "image/png": "[encoded data removed]",
            "text/plain": [
              "<Figure size 720x360 with 1 Axes>"
            ]
          },
          "metadata": {
            "tags": [],
            "needs_background": "light"
          }
        }
      ]
    },
    {
      "cell_type": "markdown",
      "metadata": {
        "id": "kwlQ-fZHwbUr"
      },
      "source": [
        "<b>Bi weekly payment mode is the most popular among both good customers and defaulted customers followed by weekly payments. </b>"
      ]
    },
    {
      "cell_type": "code",
      "metadata": {
        "id": "c9LimsgDXM7r"
      },
      "source": [
        "#create a contigency table to do a chi square test\n",
        "contingency_table= pd.crosstab(funded_class[\"payFrequency\"],\n",
        "                            funded_class[\"target\"], \n",
        "                               margins = False)"
      ],
      "execution_count": 28,
      "outputs": []
    },
    {
      "cell_type": "code",
      "metadata": {
        "colab": {
          "base_uri": "https://localhost:8080/"
        },
        "id": "VyJbNx1PZNct",
        "outputId": "7a0fb816-eda6-494d-f9c0-dbd7848096bf"
      },
      "source": [
        "# chi-squared test to see if these variable are independent\n",
        "from scipy.stats import chi2_contingency\n",
        "from scipy.stats import chi2\n",
        "\n",
        "stat, p_value, dof, expected = chi2_contingency(contingency_table)\n",
        "print(f'degree of freedom={dof}')\n",
        "\n",
        "# interpret test-statistic\n",
        "prob = 0.95\n",
        "critical = chi2.ppf(prob, dof)\n",
        "print(f'probability={prob:.3f}, critical={critical:.3f}, stat={stat:.3f}' )\n",
        "\n",
        "# interpret p-value\n",
        "alpha = 1.0 - prob\n",
        "print(f'significance={alpha:.2f}, p={p_value:.3f}')\n",
        "if p_value <= alpha:\n",
        "\tprint('Dependent (reject H0: Relation between these two variable exists)')\n",
        "else:\n",
        "\tprint('Independent (fail to reject H0: No relation)')"
      ],
      "execution_count": 29,
      "outputs": [
        {
          "output_type": "stream",
          "text": [
            "degree of freedom=4\n",
            "probability=0.950, critical=9.488, stat=207.038\n",
            "significance=0.05, p=0.000\n",
            "Dependent (reject H0: Relation between these two variable exists)\n"
          ],
          "name": "stdout"
        }
      ]
    },
    {
      "cell_type": "code",
      "metadata": {
        "id": "pHkd-X3VwbUs",
        "colab": {
          "base_uri": "https://localhost:8080/",
          "height": 306
        },
        "outputId": "5703c413-91c8-469e-872a-4a241b0e801d"
      },
      "source": [
        "# Average lead cost by target group\n",
        "f=funded.groupby('target')['leadCost'].mean().sort_values()\n",
        "sns.barplot(x=f.index, y= f)\n",
        "plt.xticks(rotation=45)"
      ],
      "execution_count": 30,
      "outputs": [
        {
          "output_type": "execute_result",
          "data": {
            "text/plain": [
              "(array([0, 1]), <a list of 2 Text major ticklabel objects>)"
            ]
          },
          "metadata": {
            "tags": []
          },
          "execution_count": 30
        },
        {
          "output_type": "display_data",
          "data": {
            "image/png": "[encoded data removed]",
            "text/plain": [
              "<Figure size 432x288 with 1 Axes>"
            ]
          },
          "metadata": {
            "tags": [],
            "needs_background": "light"
          }
        }
      ]
    },
    {
      "cell_type": "code",
      "metadata": {
        "colab": {
          "base_uri": "https://localhost:8080/"
        },
        "id": "byPhCrQ-UM9Q",
        "outputId": "b8052f93-a58e-4772-e08a-565a27bef6d5"
      },
      "source": [
        "# T-test to check whether the mean difference are significant\n",
        "from scipy import stats\n",
        "stats.ttest_ind(funded_class[\"leadCost\"], funded_class[\"target\"])"
      ],
      "execution_count": 31,
      "outputs": [
        {
          "output_type": "execute_result",
          "data": {
            "text/plain": [
              "Ttest_indResult(statistic=87.4213530468748, pvalue=0.0)"
            ]
          },
          "metadata": {
            "tags": []
          },
          "execution_count": 31
        }
      ]
    },
    {
      "cell_type": "markdown",
      "metadata": {
        "id": "oIop0YqQwbUs"
      },
      "source": [
        "<b>Interstingly, Lead cost for target customer 1, who are potential defaulters, are comparatively higher than the good customer group 0 and it is also statistically sgnificant as shown by the p-value.</b>"
      ]
    },
    {
      "cell_type": "code",
      "metadata": {
        "id": "Sje0LToGwbUs",
        "colab": {
          "base_uri": "https://localhost:8080/",
          "height": 339
        },
        "outputId": "b860fa5c-5c08-49e1-ee84-8edb7de076dc"
      },
      "source": [
        "# First Payment status by target group\n",
        "plt.figure(figsize= (10,5))\n",
        "sns.countplot(x=\"fpStatus\", hue=\"target\", data=funded_class)\n",
        "plt.show()"
      ],
      "execution_count": 71,
      "outputs": [
        {
          "output_type": "display_data",
          "data": {
            "image/png": "[encoded data removed]",
            "text/plain": [
              "<Figure size 720x360 with 1 Axes>"
            ]
          },
          "metadata": {
            "tags": []
          }
        }
      ]
    },
    {
      "cell_type": "markdown",
      "metadata": {
        "id": "50nUOQCnwbUs"
      },
      "source": [
        "<b>A large number of defaulted customer has rejected the first payment.We can conculde, it is a good sign that a customer is likely to default when their first payment is rejected.\n",
        "\n",
        "But including this feature causes a different problem. When a new customer applies for a loan, we will not have this information. So we will not include this feature in the model</b>"
      ]
    },
    {
      "cell_type": "code",
      "metadata": {
        "id": "GadL3f7IwbUs",
        "colab": {
          "base_uri": "https://localhost:8080/",
          "height": 432
        },
        "outputId": "6a784cb5-bce9-4d3a-aed0-918eab3cc1f2"
      },
      "source": [
        "# Bar Chart for State wise target group\n",
        "s=funded.groupby([ 'state', 'target'])['target'].count().reset_index(name=\"count\").sort_values(['count'], ascending=False)\n",
        "plt.figure(figsize= (22,8))\n",
        "sns.countplot(x=\"state\", hue=\"target\", data=funded_class, order = funded_class['state'].value_counts().index)\n",
        "plt.show()"
      ],
      "execution_count": 33,
      "outputs": [
        {
          "output_type": "display_data",
          "data": {
            "image/png": "[encoded data removed]",
            "text/plain": [
              "<Figure size 1584x576 with 1 Axes>"
            ]
          },
          "metadata": {
            "tags": [],
            "needs_background": "light"
          }
        }
      ]
    },
    {
      "cell_type": "markdown",
      "metadata": {
        "id": "LzZmbTjRwbUs"
      },
      "source": [
        "<b> Illinois(IL), Wisconsin(WI), and North Carolina(NC) has more good customers than defaulted customers. </b>"
      ]
    },
    {
      "cell_type": "markdown",
      "metadata": {
        "id": "1BS8xnPjz2pb"
      },
      "source": [
        "**Encoding 44 states available in the dataset is a challenge. It increases the dimensionality without much predictive power to the model. Encoding high cardinlity data is an issue that faced by Data Scientist often. May be replacing the state column with existing default ratio per state can help to reduce the complexity and improve the model.**"
      ]
    },
    {
      "cell_type": "code",
      "metadata": {
        "colab": {
          "base_uri": "https://localhost:8080/",
          "height": 234
        },
        "id": "UlUh2etZqjVu",
        "outputId": "ca7bced9-b7be-460c-ca15-a61963582aaf"
      },
      "source": [
        "# Calculate the default ratio per state\n",
        "state= pd.crosstab(funded_class[\"state\"], funded_class[\"target\"], margins = False, )\n",
        "state['Default_ratio_per_state']= state[1]/(state[0]+1) # added 1 to avoid infinity error\n",
        "state= state.drop([0, 1], axis=1)\n",
        "state.index.set_names('state', inplace=True)\n",
        "state.head()"
      ],
      "execution_count": 34,
      "outputs": [
        {
          "output_type": "execute_result",
          "data": {
            "text/html": [
              "<div>\n",
              "<style scoped>\n",
              "    .dataframe tbody tr th:only-of-type {\n",
              "        vertical-align: middle;\n",
              "    }\n",
              "\n",
              "    .dataframe tbody tr th {\n",
              "        vertical-align: top;\n",
              "    }\n",
              "\n",
              "    .dataframe thead th {\n",
              "        text-align: right;\n",
              "    }\n",
              "</style>\n",
              "<table border=\"1\" class=\"dataframe\">\n",
              "  <thead>\n",
              "    <tr style=\"text-align: right;\">\n",
              "      <th>target</th>\n",
              "      <th>Default_ratio_per_state</th>\n",
              "    </tr>\n",
              "    <tr>\n",
              "      <th>state</th>\n",
              "      <th></th>\n",
              "    </tr>\n",
              "  </thead>\n",
              "  <tbody>\n",
              "    <tr>\n",
              "      <th>AK</th>\n",
              "      <td>13.000000</td>\n",
              "    </tr>\n",
              "    <tr>\n",
              "      <th>AL</th>\n",
              "      <td>3.025641</td>\n",
              "    </tr>\n",
              "    <tr>\n",
              "      <th>AZ</th>\n",
              "      <td>1.830882</td>\n",
              "    </tr>\n",
              "    <tr>\n",
              "      <th>CA</th>\n",
              "      <td>1.901639</td>\n",
              "    </tr>\n",
              "    <tr>\n",
              "      <th>CO</th>\n",
              "      <td>3.760000</td>\n",
              "    </tr>\n",
              "  </tbody>\n",
              "</table>\n",
              "</div>"
            ],
            "text/plain": [
              "target  Default_ratio_per_state\n",
              "state                          \n",
              "AK                    13.000000\n",
              "AL                     3.025641\n",
              "AZ                     1.830882\n",
              "CA                     1.901639\n",
              "CO                     3.760000"
            ]
          },
          "metadata": {
            "tags": []
          },
          "execution_count": 34
        }
      ]
    },
    {
      "cell_type": "code",
      "metadata": {
        "colab": {
          "base_uri": "https://localhost:8080/",
          "height": 307
        },
        "id": "vJc5ccAEuN_a",
        "outputId": "a1f413f4-6108-4385-bd78-7b122921e8a4"
      },
      "source": [
        "# inner joining ratio with the 'funded_class' dataset on 'state'\n",
        "funded_class= pd.merge(funded_class, state, on='state', how='inner')\n",
        "funded_class.head()"
      ],
      "execution_count": 35,
      "outputs": [
        {
          "output_type": "execute_result",
          "data": {
            "text/html": [
              "<div>\n",
              "<style scoped>\n",
              "    .dataframe tbody tr th:only-of-type {\n",
              "        vertical-align: middle;\n",
              "    }\n",
              "\n",
              "    .dataframe tbody tr th {\n",
              "        vertical-align: top;\n",
              "    }\n",
              "\n",
              "    .dataframe thead th {\n",
              "        text-align: right;\n",
              "    }\n",
              "</style>\n",
              "<table border=\"1\" class=\"dataframe\">\n",
              "  <thead>\n",
              "    <tr style=\"text-align: right;\">\n",
              "      <th></th>\n",
              "      <th>loanId</th>\n",
              "      <th>anon_ssn</th>\n",
              "      <th>payFrequency</th>\n",
              "      <th>apr</th>\n",
              "      <th>applicationDate</th>\n",
              "      <th>originatedDate</th>\n",
              "      <th>nPaidOff</th>\n",
              "      <th>loanStatus</th>\n",
              "      <th>loanAmount</th>\n",
              "      <th>originallyScheduledPaymentAmount</th>\n",
              "      <th>state</th>\n",
              "      <th>leadType</th>\n",
              "      <th>leadCost</th>\n",
              "      <th>fpStatus</th>\n",
              "      <th>clarityFraudId</th>\n",
              "      <th>hasCF</th>\n",
              "      <th>target</th>\n",
              "      <th>Default_ratio_per_state</th>\n",
              "    </tr>\n",
              "  </thead>\n",
              "  <tbody>\n",
              "    <tr>\n",
              "      <th>0</th>\n",
              "      <td>LL-I-06644937</td>\n",
              "      <td>464f5d9ae4fa09ece4048d949191865c</td>\n",
              "      <td>B</td>\n",
              "      <td>199.0</td>\n",
              "      <td>2016-01-19 22:07:36.778</td>\n",
              "      <td>2016-01-20 15:49:18.846</td>\n",
              "      <td>0.0</td>\n",
              "      <td>Paid Off Loan</td>\n",
              "      <td>3000.0</td>\n",
              "      <td>6395.19</td>\n",
              "      <td>CA</td>\n",
              "      <td>prescreen</td>\n",
              "      <td>0</td>\n",
              "      <td>Checked</td>\n",
              "      <td>569eb3a3e4b096699f685d64</td>\n",
              "      <td>1</td>\n",
              "      <td>0</td>\n",
              "      <td>1.901639</td>\n",
              "    </tr>\n",
              "    <tr>\n",
              "      <th>1</th>\n",
              "      <td>LL-I-11506719</td>\n",
              "      <td>10cefd11d41612b032fd9cd2debe32dc</td>\n",
              "      <td>B</td>\n",
              "      <td>590.0</td>\n",
              "      <td>2016-08-27 09:08:05.442</td>\n",
              "      <td>2016-08-29 15:05:04.014</td>\n",
              "      <td>0.0</td>\n",
              "      <td>Paid Off Loan</td>\n",
              "      <td>800.0</td>\n",
              "      <td>2432.08</td>\n",
              "      <td>CA</td>\n",
              "      <td>bvMandatory</td>\n",
              "      <td>10</td>\n",
              "      <td>Checked</td>\n",
              "      <td>578f9346e4b0810ad5e7b72e</td>\n",
              "      <td>1</td>\n",
              "      <td>0</td>\n",
              "      <td>1.901639</td>\n",
              "    </tr>\n",
              "    <tr>\n",
              "      <th>2</th>\n",
              "      <td>LL-I-11462356</td>\n",
              "      <td>51db602c1b1f0188e409df8c872e7750</td>\n",
              "      <td>B</td>\n",
              "      <td>199.0</td>\n",
              "      <td>2016-08-25 19:39:50.049</td>\n",
              "      <td>2016-08-30 15:39:33.206</td>\n",
              "      <td>0.0</td>\n",
              "      <td>External Collection</td>\n",
              "      <td>3000.0</td>\n",
              "      <td>6651.74</td>\n",
              "      <td>CA</td>\n",
              "      <td>prescreen</td>\n",
              "      <td>0</td>\n",
              "      <td>Checked</td>\n",
              "      <td>57bf4981e4b033e6e9914132</td>\n",
              "      <td>1</td>\n",
              "      <td>1</td>\n",
              "      <td>1.901639</td>\n",
              "    </tr>\n",
              "    <tr>\n",
              "      <th>3</th>\n",
              "      <td>LL-I-08702744</td>\n",
              "      <td>4fd612cc7997a3a100ee9bd0a69ffb2a</td>\n",
              "      <td>M</td>\n",
              "      <td>251.0</td>\n",
              "      <td>2016-04-14 13:53:15.652</td>\n",
              "      <td>2016-04-14 15:03:08.306</td>\n",
              "      <td>0.0</td>\n",
              "      <td>Paid Off Loan</td>\n",
              "      <td>2600.0</td>\n",
              "      <td>6435.35</td>\n",
              "      <td>CA</td>\n",
              "      <td>prescreen</td>\n",
              "      <td>0</td>\n",
              "      <td>Checked</td>\n",
              "      <td>570fa0c5e4b06ef485d74a90</td>\n",
              "      <td>1</td>\n",
              "      <td>0</td>\n",
              "      <td>1.901639</td>\n",
              "    </tr>\n",
              "    <tr>\n",
              "      <th>4</th>\n",
              "      <td>LL-I-12203495</td>\n",
              "      <td>726df523f8344aea16d3c550c4d3802a</td>\n",
              "      <td>B</td>\n",
              "      <td>208.0</td>\n",
              "      <td>2016-11-22 23:08:45.558</td>\n",
              "      <td>2016-11-23 00:18:28.867</td>\n",
              "      <td>1.0</td>\n",
              "      <td>External Collection</td>\n",
              "      <td>2600.0</td>\n",
              "      <td>7991.80</td>\n",
              "      <td>CA</td>\n",
              "      <td>organic</td>\n",
              "      <td>0</td>\n",
              "      <td>Checked</td>\n",
              "      <td>NaN</td>\n",
              "      <td>0</td>\n",
              "      <td>1</td>\n",
              "      <td>1.901639</td>\n",
              "    </tr>\n",
              "  </tbody>\n",
              "</table>\n",
              "</div>"
            ],
            "text/plain": [
              "          loanId  ... Default_ratio_per_state\n",
              "0  LL-I-06644937  ...                1.901639\n",
              "1  LL-I-11506719  ...                1.901639\n",
              "2  LL-I-11462356  ...                1.901639\n",
              "3  LL-I-08702744  ...                1.901639\n",
              "4  LL-I-12203495  ...                1.901639\n",
              "\n",
              "[5 rows x 18 columns]"
            ]
          },
          "metadata": {
            "tags": []
          },
          "execution_count": 35
        }
      ]
    },
    {
      "cell_type": "code",
      "metadata": {
        "id": "tfFHiGoWwbUs",
        "colab": {
          "base_uri": "https://localhost:8080/",
          "height": 985
        },
        "outputId": "06543eae-b960-4330-d962-93eeded146a0"
      },
      "source": [
        "# Histogram with KDE of Numerical variables\n",
        "fig, axes = plt.subplots(3, 2, figsize=(18, 15))\n",
        "fig.suptitle('Distribution of Numerical variables')\n",
        "cols= ['originallyScheduledPaymentAmount', 'loanAmount', 'nPaidOff', 'leadCost' ]\n",
        "sns.histplot(ax=axes[0,0], x= funded_class['originallyScheduledPaymentAmount'],bins=100,color='darkgreen', kde= True)\n",
        "sns.histplot(ax=axes[0,1], x= funded_class['loanAmount'],bins=100,color='darkgreen', kde= True)\n",
        "sns.histplot(ax=axes[1,0], x= funded_class['leadCost'],bins=100,color='darkgreen', kde= True)\n",
        "sns.histplot(ax=axes[1,1], x= funded_class['nPaidOff'],bins=100,color='darkgreen', kde= True)\n",
        "sns.histplot(ax=axes[2,0], x= funded_class['apr'],bins=100,color='darkgreen', kde= True)\n",
        "plt.show()"
      ],
      "execution_count": 36,
      "outputs": [
        {
          "output_type": "display_data",
          "data": {
            "image/png": "[encoded data removed]",
            "text/plain": [
              "<Figure size 1296x1080 with 6 Axes>"
            ]
          },
          "metadata": {
            "tags": [],
            "needs_background": "light"
          }
        }
      ]
    },
    {
      "cell_type": "markdown",
      "metadata": {
        "id": "rOzEZOMXwbUt"
      },
      "source": [
        "<b>1. The originally scheduled payment amount are right skewed and the peak is around $1000. \n",
        "\n",
        "2. the loan amount are right skewed and the peak is around $300.\n",
        "    \n",
        "3. Lead Cost is also right skewed most are below 10.\n",
        "    \n",
        "4. Number of paid off previous loans are mostly 0 and the variable is also right skewed.\n",
        "    \n",
        "5. APR has a peak near 600 and this variable is left skewed. </b>"
      ]
    },
    {
      "cell_type": "code",
      "metadata": {
        "id": "4qyt0Pt0wbUt",
        "colab": {
          "base_uri": "https://localhost:8080/",
          "height": 571
        },
        "outputId": "e9a18737-1747-4099-e3a0-cce75910fea2"
      },
      "source": [
        "# Outlier Detection\n",
        "fig, axes = plt.subplots(1, 4, figsize=(20, 10))\n",
        "cols= ['originallyScheduledPaymentAmount', 'loanAmount', 'nPaidOff', 'leadCost']\n",
        "for i,t in enumerate(cols):\n",
        "    sns.boxplot(y=t, x= \"target\", data=funded_class,  orient='v', ax=axes[i % 4])"
      ],
      "execution_count": 37,
      "outputs": [
        {
          "output_type": "display_data",
          "data": {
            "image/png": "[encoded data removed]",
            "text/plain": [
              "<Figure size 1440x720 with 4 Axes>"
            ]
          },
          "metadata": {
            "tags": [],
            "needs_background": "light"
          }
        }
      ]
    },
    {
      "cell_type": "markdown",
      "metadata": {
        "id": "1oM1yd9BwbUt"
      },
      "source": [
        "<b> Outliers are present in all valriables- 'originallyScheduledPaymentAmount', 'loanAmount', 'nPaidOff', and 'leadCost'. We will not remove the outliers completely. Some modelling techniques are less sensitive to outliers. Also quantile transformation reduce the effect of outliers. We will use this method in preprocessing. </b>"
      ]
    },
    {
      "cell_type": "code",
      "metadata": {
        "id": "eGkf_M-KwbUt",
        "colab": {
          "base_uri": "https://localhost:8080/",
          "height": 386
        },
        "outputId": "11221e92-eb0d-4137-e038-b66641fcf433"
      },
      "source": [
        "sns.displot(funded_class, x=\"loanAmount\", hue=\"target\", kind=\"kde\", fill=True)"
      ],
      "execution_count": 38,
      "outputs": [
        {
          "output_type": "execute_result",
          "data": {
            "text/plain": [
              "<seaborn.axisgrid.FacetGrid at 0x7fb87e938a50>"
            ]
          },
          "metadata": {
            "tags": []
          },
          "execution_count": 38
        },
        {
          "output_type": "display_data",
          "data": {
            "image/png": "[encoded data removed]",
            "text/plain": [
              "<Figure size 402.375x360 with 1 Axes>"
            ]
          },
          "metadata": {
            "tags": [],
            "needs_background": "light"
          }
        }
      ]
    },
    {
      "cell_type": "markdown",
      "metadata": {
        "id": "3Oa6ZbkkwbUt"
      },
      "source": [
        "<b>The figure above shows right skewed on target '0' (the client we target) which having the peak around 300 and target '1' (defaulters or potential defaulters) has peak around 400. </b>"
      ]
    },
    {
      "cell_type": "markdown",
      "metadata": {
        "id": "8CMVzYs0wbUt"
      },
      "source": [
        "# Payment Dataset"
      ]
    },
    {
      "cell_type": "code",
      "metadata": {
        "id": "UOONa0edwbUt",
        "colab": {
          "base_uri": "https://localhost:8080/",
          "height": 417
        },
        "outputId": "79bedb1f-e273-440d-ba5c-ecfe607949b4"
      },
      "source": [
        "payment = pd.read_csv('./data/payment.csv',parse_dates=['paymentDate'])\n",
        "payment"
      ],
      "execution_count": 39,
      "outputs": [
        {
          "output_type": "execute_result",
          "data": {
            "text/html": [
              "<div>\n",
              "<style scoped>\n",
              "    .dataframe tbody tr th:only-of-type {\n",
              "        vertical-align: middle;\n",
              "    }\n",
              "\n",
              "    .dataframe tbody tr th {\n",
              "        vertical-align: top;\n",
              "    }\n",
              "\n",
              "    .dataframe thead th {\n",
              "        text-align: right;\n",
              "    }\n",
              "</style>\n",
              "<table border=\"1\" class=\"dataframe\">\n",
              "  <thead>\n",
              "    <tr style=\"text-align: right;\">\n",
              "      <th></th>\n",
              "      <th>loanId</th>\n",
              "      <th>installmentIndex</th>\n",
              "      <th>isCollection</th>\n",
              "      <th>paymentDate</th>\n",
              "      <th>principal</th>\n",
              "      <th>fees</th>\n",
              "      <th>paymentAmount</th>\n",
              "      <th>paymentStatus</th>\n",
              "      <th>paymentReturnCode</th>\n",
              "    </tr>\n",
              "  </thead>\n",
              "  <tbody>\n",
              "    <tr>\n",
              "      <th>0</th>\n",
              "      <td>LL-I-00000021</td>\n",
              "      <td>1</td>\n",
              "      <td>False</td>\n",
              "      <td>2014-12-19 05:00:00</td>\n",
              "      <td>22.33</td>\n",
              "      <td>147.28</td>\n",
              "      <td>169.61</td>\n",
              "      <td>Checked</td>\n",
              "      <td>NaN</td>\n",
              "    </tr>\n",
              "    <tr>\n",
              "      <th>1</th>\n",
              "      <td>LL-I-00000021</td>\n",
              "      <td>2</td>\n",
              "      <td>False</td>\n",
              "      <td>2015-01-02 05:00:00</td>\n",
              "      <td>26.44</td>\n",
              "      <td>143.17</td>\n",
              "      <td>169.61</td>\n",
              "      <td>Checked</td>\n",
              "      <td>NaN</td>\n",
              "    </tr>\n",
              "    <tr>\n",
              "      <th>2</th>\n",
              "      <td>LL-I-00000021</td>\n",
              "      <td>3</td>\n",
              "      <td>False</td>\n",
              "      <td>2015-01-16 05:00:00</td>\n",
              "      <td>31.30</td>\n",
              "      <td>138.31</td>\n",
              "      <td>169.61</td>\n",
              "      <td>Checked</td>\n",
              "      <td>NaN</td>\n",
              "    </tr>\n",
              "    <tr>\n",
              "      <th>3</th>\n",
              "      <td>LL-I-00000021</td>\n",
              "      <td>4</td>\n",
              "      <td>False</td>\n",
              "      <td>2015-01-30 05:00:00</td>\n",
              "      <td>37.07</td>\n",
              "      <td>132.54</td>\n",
              "      <td>169.61</td>\n",
              "      <td>Checked</td>\n",
              "      <td>NaN</td>\n",
              "    </tr>\n",
              "    <tr>\n",
              "      <th>4</th>\n",
              "      <td>LL-I-00000021</td>\n",
              "      <td>5</td>\n",
              "      <td>False</td>\n",
              "      <td>2015-02-13 05:00:00</td>\n",
              "      <td>43.89</td>\n",
              "      <td>125.72</td>\n",
              "      <td>169.61</td>\n",
              "      <td>Checked</td>\n",
              "      <td>NaN</td>\n",
              "    </tr>\n",
              "    <tr>\n",
              "      <th>...</th>\n",
              "      <td>...</td>\n",
              "      <td>...</td>\n",
              "      <td>...</td>\n",
              "      <td>...</td>\n",
              "      <td>...</td>\n",
              "      <td>...</td>\n",
              "      <td>...</td>\n",
              "      <td>...</td>\n",
              "      <td>...</td>\n",
              "    </tr>\n",
              "    <tr>\n",
              "      <th>689359</th>\n",
              "      <td>LL-I-18629478</td>\n",
              "      <td>8</td>\n",
              "      <td>False</td>\n",
              "      <td>2017-07-14 04:00:00</td>\n",
              "      <td>45.62</td>\n",
              "      <td>17.67</td>\n",
              "      <td>63.29</td>\n",
              "      <td>None</td>\n",
              "      <td>NaN</td>\n",
              "    </tr>\n",
              "    <tr>\n",
              "      <th>689360</th>\n",
              "      <td>LL-I-18629478</td>\n",
              "      <td>9</td>\n",
              "      <td>False</td>\n",
              "      <td>2017-07-31 04:00:00</td>\n",
              "      <td>45.67</td>\n",
              "      <td>17.62</td>\n",
              "      <td>63.29</td>\n",
              "      <td>None</td>\n",
              "      <td>NaN</td>\n",
              "    </tr>\n",
              "    <tr>\n",
              "      <th>689361</th>\n",
              "      <td>LL-I-18629478</td>\n",
              "      <td>10</td>\n",
              "      <td>False</td>\n",
              "      <td>2017-08-15 04:00:00</td>\n",
              "      <td>51.12</td>\n",
              "      <td>12.17</td>\n",
              "      <td>63.29</td>\n",
              "      <td>None</td>\n",
              "      <td>NaN</td>\n",
              "    </tr>\n",
              "    <tr>\n",
              "      <th>689362</th>\n",
              "      <td>LL-I-18629478</td>\n",
              "      <td>11</td>\n",
              "      <td>False</td>\n",
              "      <td>2017-08-31 04:00:00</td>\n",
              "      <td>54.35</td>\n",
              "      <td>8.94</td>\n",
              "      <td>63.29</td>\n",
              "      <td>None</td>\n",
              "      <td>NaN</td>\n",
              "    </tr>\n",
              "    <tr>\n",
              "      <th>689363</th>\n",
              "      <td>LL-I-18629478</td>\n",
              "      <td>12</td>\n",
              "      <td>False</td>\n",
              "      <td>2017-09-15 04:00:00</td>\n",
              "      <td>58.83</td>\n",
              "      <td>4.36</td>\n",
              "      <td>63.19</td>\n",
              "      <td>None</td>\n",
              "      <td>NaN</td>\n",
              "    </tr>\n",
              "  </tbody>\n",
              "</table>\n",
              "<p>689364 rows × 9 columns</p>\n",
              "</div>"
            ],
            "text/plain": [
              "               loanId  installmentIndex  ...  paymentStatus paymentReturnCode\n",
              "0       LL-I-00000021                 1  ...        Checked               NaN\n",
              "1       LL-I-00000021                 2  ...        Checked               NaN\n",
              "2       LL-I-00000021                 3  ...        Checked               NaN\n",
              "3       LL-I-00000021                 4  ...        Checked               NaN\n",
              "4       LL-I-00000021                 5  ...        Checked               NaN\n",
              "...               ...               ...  ...            ...               ...\n",
              "689359  LL-I-18629478                 8  ...           None               NaN\n",
              "689360  LL-I-18629478                 9  ...           None               NaN\n",
              "689361  LL-I-18629478                10  ...           None               NaN\n",
              "689362  LL-I-18629478                11  ...           None               NaN\n",
              "689363  LL-I-18629478                12  ...           None               NaN\n",
              "\n",
              "[689364 rows x 9 columns]"
            ]
          },
          "metadata": {
            "tags": []
          },
          "execution_count": 39
        }
      ]
    },
    {
      "cell_type": "code",
      "metadata": {
        "id": "5n6Voeh9wbUu",
        "colab": {
          "base_uri": "https://localhost:8080/"
        },
        "outputId": "a0860380-995e-4cd4-f1b8-c866a0d2f684"
      },
      "source": [
        "payment.info()\n",
        "payment.shape"
      ],
      "execution_count": 40,
      "outputs": [
        {
          "output_type": "stream",
          "text": [
            "<class 'pandas.core.frame.DataFrame'>\n",
            "RangeIndex: 689364 entries, 0 to 689363\n",
            "Data columns (total 9 columns):\n",
            " #   Column             Non-Null Count   Dtype         \n",
            "---  ------             --------------   -----         \n",
            " 0   loanId             689364 non-null  object        \n",
            " 1   installmentIndex   689364 non-null  int64         \n",
            " 2   isCollection       689364 non-null  bool          \n",
            " 3   paymentDate        689364 non-null  datetime64[ns]\n",
            " 4   principal          689364 non-null  float64       \n",
            " 5   fees               689364 non-null  float64       \n",
            " 6   paymentAmount      689364 non-null  float64       \n",
            " 7   paymentStatus      689364 non-null  object        \n",
            " 8   paymentReturnCode  31533 non-null   object        \n",
            "dtypes: bool(1), datetime64[ns](1), float64(3), int64(1), object(3)\n",
            "memory usage: 42.7+ MB\n"
          ],
          "name": "stdout"
        },
        {
          "output_type": "execute_result",
          "data": {
            "text/plain": [
              "(689364, 9)"
            ]
          },
          "metadata": {
            "tags": []
          },
          "execution_count": 40
        }
      ]
    },
    {
      "cell_type": "code",
      "metadata": {
        "id": "pvOINVw9wbUu",
        "colab": {
          "base_uri": "https://localhost:8080/",
          "height": 500
        },
        "outputId": "4553253b-d77a-4dcc-f0c3-1488971d7148"
      },
      "source": [
        "payment.describe(include='all')"
      ],
      "execution_count": 41,
      "outputs": [
        {
          "output_type": "execute_result",
          "data": {
            "text/html": [
              "<div>\n",
              "<style scoped>\n",
              "    .dataframe tbody tr th:only-of-type {\n",
              "        vertical-align: middle;\n",
              "    }\n",
              "\n",
              "    .dataframe tbody tr th {\n",
              "        vertical-align: top;\n",
              "    }\n",
              "\n",
              "    .dataframe thead th {\n",
              "        text-align: right;\n",
              "    }\n",
              "</style>\n",
              "<table border=\"1\" class=\"dataframe\">\n",
              "  <thead>\n",
              "    <tr style=\"text-align: right;\">\n",
              "      <th></th>\n",
              "      <th>loanId</th>\n",
              "      <th>installmentIndex</th>\n",
              "      <th>isCollection</th>\n",
              "      <th>paymentDate</th>\n",
              "      <th>principal</th>\n",
              "      <th>fees</th>\n",
              "      <th>paymentAmount</th>\n",
              "      <th>paymentStatus</th>\n",
              "      <th>paymentReturnCode</th>\n",
              "    </tr>\n",
              "  </thead>\n",
              "  <tbody>\n",
              "    <tr>\n",
              "      <th>count</th>\n",
              "      <td>689364</td>\n",
              "      <td>689364.000000</td>\n",
              "      <td>689364</td>\n",
              "      <td>689364</td>\n",
              "      <td>689364.000000</td>\n",
              "      <td>689364.000000</td>\n",
              "      <td>689364.000000</td>\n",
              "      <td>689364</td>\n",
              "      <td>31533</td>\n",
              "    </tr>\n",
              "    <tr>\n",
              "      <th>unique</th>\n",
              "      <td>39952</td>\n",
              "      <td>NaN</td>\n",
              "      <td>2</td>\n",
              "      <td>18436</td>\n",
              "      <td>NaN</td>\n",
              "      <td>NaN</td>\n",
              "      <td>NaN</td>\n",
              "      <td>9</td>\n",
              "      <td>31</td>\n",
              "    </tr>\n",
              "    <tr>\n",
              "      <th>top</th>\n",
              "      <td>LL-I-12230332</td>\n",
              "      <td>NaN</td>\n",
              "      <td>False</td>\n",
              "      <td>2017-03-31 04:00:00</td>\n",
              "      <td>NaN</td>\n",
              "      <td>NaN</td>\n",
              "      <td>NaN</td>\n",
              "      <td>Cancelled</td>\n",
              "      <td>R01</td>\n",
              "    </tr>\n",
              "    <tr>\n",
              "      <th>freq</th>\n",
              "      <td>105</td>\n",
              "      <td>NaN</td>\n",
              "      <td>675469</td>\n",
              "      <td>10236</td>\n",
              "      <td>NaN</td>\n",
              "      <td>NaN</td>\n",
              "      <td>NaN</td>\n",
              "      <td>270334</td>\n",
              "      <td>22866</td>\n",
              "    </tr>\n",
              "    <tr>\n",
              "      <th>first</th>\n",
              "      <td>NaN</td>\n",
              "      <td>NaN</td>\n",
              "      <td>NaN</td>\n",
              "      <td>2014-12-09 05:00:00</td>\n",
              "      <td>NaN</td>\n",
              "      <td>NaN</td>\n",
              "      <td>NaN</td>\n",
              "      <td>NaN</td>\n",
              "      <td>NaN</td>\n",
              "    </tr>\n",
              "    <tr>\n",
              "      <th>last</th>\n",
              "      <td>NaN</td>\n",
              "      <td>NaN</td>\n",
              "      <td>NaN</td>\n",
              "      <td>2021-02-26 05:00:00</td>\n",
              "      <td>NaN</td>\n",
              "      <td>NaN</td>\n",
              "      <td>NaN</td>\n",
              "      <td>NaN</td>\n",
              "      <td>NaN</td>\n",
              "    </tr>\n",
              "    <tr>\n",
              "      <th>mean</th>\n",
              "      <td>NaN</td>\n",
              "      <td>10.553222</td>\n",
              "      <td>NaN</td>\n",
              "      <td>NaN</td>\n",
              "      <td>45.557543</td>\n",
              "      <td>67.003994</td>\n",
              "      <td>112.680232</td>\n",
              "      <td>NaN</td>\n",
              "      <td>NaN</td>\n",
              "    </tr>\n",
              "    <tr>\n",
              "      <th>std</th>\n",
              "      <td>NaN</td>\n",
              "      <td>8.049530</td>\n",
              "      <td>NaN</td>\n",
              "      <td>NaN</td>\n",
              "      <td>81.724683</td>\n",
              "      <td>59.789510</td>\n",
              "      <td>105.783710</td>\n",
              "      <td>NaN</td>\n",
              "      <td>NaN</td>\n",
              "    </tr>\n",
              "    <tr>\n",
              "      <th>min</th>\n",
              "      <td>NaN</td>\n",
              "      <td>1.000000</td>\n",
              "      <td>NaN</td>\n",
              "      <td>NaN</td>\n",
              "      <td>-303.370000</td>\n",
              "      <td>-42.560000</td>\n",
              "      <td>-337.700000</td>\n",
              "      <td>NaN</td>\n",
              "      <td>NaN</td>\n",
              "    </tr>\n",
              "    <tr>\n",
              "      <th>25%</th>\n",
              "      <td>NaN</td>\n",
              "      <td>5.000000</td>\n",
              "      <td>NaN</td>\n",
              "      <td>NaN</td>\n",
              "      <td>13.180000</td>\n",
              "      <td>28.820000</td>\n",
              "      <td>56.810000</td>\n",
              "      <td>NaN</td>\n",
              "      <td>NaN</td>\n",
              "    </tr>\n",
              "    <tr>\n",
              "      <th>50%</th>\n",
              "      <td>NaN</td>\n",
              "      <td>9.000000</td>\n",
              "      <td>NaN</td>\n",
              "      <td>NaN</td>\n",
              "      <td>27.610000</td>\n",
              "      <td>51.300000</td>\n",
              "      <td>86.340000</td>\n",
              "      <td>NaN</td>\n",
              "      <td>NaN</td>\n",
              "    </tr>\n",
              "    <tr>\n",
              "      <th>75%</th>\n",
              "      <td>NaN</td>\n",
              "      <td>14.000000</td>\n",
              "      <td>NaN</td>\n",
              "      <td>NaN</td>\n",
              "      <td>53.380000</td>\n",
              "      <td>86.440000</td>\n",
              "      <td>135.090000</td>\n",
              "      <td>NaN</td>\n",
              "      <td>NaN</td>\n",
              "    </tr>\n",
              "    <tr>\n",
              "      <th>max</th>\n",
              "      <td>NaN</td>\n",
              "      <td>105.000000</td>\n",
              "      <td>NaN</td>\n",
              "      <td>NaN</td>\n",
              "      <td>4000.000000</td>\n",
              "      <td>1257.710000</td>\n",
              "      <td>4063.600000</td>\n",
              "      <td>NaN</td>\n",
              "      <td>NaN</td>\n",
              "    </tr>\n",
              "  </tbody>\n",
              "</table>\n",
              "</div>"
            ],
            "text/plain": [
              "               loanId  installmentIndex  ... paymentStatus paymentReturnCode\n",
              "count          689364     689364.000000  ...        689364             31533\n",
              "unique          39952               NaN  ...             9                31\n",
              "top     LL-I-12230332               NaN  ...     Cancelled               R01\n",
              "freq              105               NaN  ...        270334             22866\n",
              "first             NaN               NaN  ...           NaN               NaN\n",
              "last              NaN               NaN  ...           NaN               NaN\n",
              "mean              NaN         10.553222  ...           NaN               NaN\n",
              "std               NaN          8.049530  ...           NaN               NaN\n",
              "min               NaN          1.000000  ...           NaN               NaN\n",
              "25%               NaN          5.000000  ...           NaN               NaN\n",
              "50%               NaN          9.000000  ...           NaN               NaN\n",
              "75%               NaN         14.000000  ...           NaN               NaN\n",
              "max               NaN        105.000000  ...           NaN               NaN\n",
              "\n",
              "[13 rows x 9 columns]"
            ]
          },
          "metadata": {
            "tags": []
          },
          "execution_count": 41
        }
      ]
    },
    {
      "cell_type": "markdown",
      "metadata": {
        "id": "sOMA9ly2oM_1"
      },
      "source": [
        "<b>More information required to understand why there are negative values in the 'principal', 'fees' and 'paymentAmount'. \n",
        "Most Frequent payment status is \"cancelled\". More analysis is required to understand why most payments are being cancelled. </b>"
      ]
    },
    {
      "cell_type": "code",
      "metadata": {
        "id": "zN6bvtLAwbUu",
        "colab": {
          "base_uri": "https://localhost:8080/"
        },
        "outputId": "aaf025f5-374d-4609-819a-c3d1b60fdcc3"
      },
      "source": [
        "# Payment status grouped by Loan ID\n",
        "payment.groupby(['loanId', 'paymentStatus'])['paymentStatus'].count()"
      ],
      "execution_count": 42,
      "outputs": [
        {
          "output_type": "execute_result",
          "data": {
            "text/plain": [
              "loanId         paymentStatus\n",
              "LL-I-00000021  Checked          12\n",
              "               Rejected          1\n",
              "LL-I-00000231  Cancelled         8\n",
              "               Checked           2\n",
              "               None              8\n",
              "                                ..\n",
              "LP-I-00000139  Checked          12\n",
              "               Rejected          3\n",
              "LP-I-00000142  Cancelled        12\n",
              "               Skipped           1\n",
              "LP-I-00000145  Checked          12\n",
              "Name: paymentStatus, Length: 99456, dtype: int64"
            ]
          },
          "metadata": {
            "tags": []
          },
          "execution_count": 42
        }
      ]
    },
    {
      "cell_type": "markdown",
      "metadata": {
        "id": "OsUNSILSnFob"
      },
      "source": [
        "**Payment dataset contains information about loan repayment in installment. Again when assessing credit risks for new customer we will not have these information. So these feature will not be used in the model training.**"
      ]
    },
    {
      "cell_type": "markdown",
      "metadata": {
        "id": "3IEjUSxtwbUv"
      },
      "source": [
        "# Merge with Clarity Dataset"
      ]
    },
    {
      "cell_type": "code",
      "metadata": {
        "id": "OPdphI6YwbUv",
        "colab": {
          "base_uri": "https://localhost:8080/",
          "height": 437
        },
        "outputId": "a7fd7b78-d419-4c39-b34b-2ba8bb139d82"
      },
      "source": [
        "underwriting = pd.read_csv('./data/clarity_underwriting_variables.csv')\n",
        "underwriting"
      ],
      "execution_count": 43,
      "outputs": [
        {
          "output_type": "execute_result",
          "data": {
            "text/html": [
              "<div>\n",
              "<style scoped>\n",
              "    .dataframe tbody tr th:only-of-type {\n",
              "        vertical-align: middle;\n",
              "    }\n",
              "\n",
              "    .dataframe tbody tr th {\n",
              "        vertical-align: top;\n",
              "    }\n",
              "\n",
              "    .dataframe thead th {\n",
              "        text-align: right;\n",
              "    }\n",
              "</style>\n",
              "<table border=\"1\" class=\"dataframe\">\n",
              "  <thead>\n",
              "    <tr style=\"text-align: right;\">\n",
              "      <th></th>\n",
              "      <th>.underwritingdataclarity.clearfraud.clearfraudinquiry.thirtydaysago</th>\n",
              "      <th>.underwritingdataclarity.clearfraud.clearfraudinquiry.twentyfourhoursago</th>\n",
              "      <th>.underwritingdataclarity.clearfraud.clearfraudinquiry.oneminuteago</th>\n",
              "      <th>.underwritingdataclarity.clearfraud.clearfraudinquiry.onehourago</th>\n",
              "      <th>.underwritingdataclarity.clearfraud.clearfraudinquiry.ninetydaysago</th>\n",
              "      <th>.underwritingdataclarity.clearfraud.clearfraudinquiry.sevendaysago</th>\n",
              "      <th>.underwritingdataclarity.clearfraud.clearfraudinquiry.tenminutesago</th>\n",
              "      <th>.underwritingdataclarity.clearfraud.clearfraudinquiry.fifteendaysago</th>\n",
              "      <th>.underwritingdataclarity.clearfraud.clearfraudinquiry.threesixtyfivedaysago</th>\n",
              "      <th>.underwritingdataclarity.clearfraud.clearfraudindicator.inquiryonfilecurrentaddressconflict</th>\n",
              "      <th>.underwritingdataclarity.clearfraud.clearfraudindicator.totalnumberoffraudindicators</th>\n",
              "      <th>.underwritingdataclarity.clearfraud.clearfraudindicator.telephonenumberinconsistentwithaddress</th>\n",
              "      <th>.underwritingdataclarity.clearfraud.clearfraudindicator.inquiryageyoungerthanssnissuedate</th>\n",
              "      <th>.underwritingdataclarity.clearfraud.clearfraudindicator.onfileaddresscautious</th>\n",
              "      <th>.underwritingdataclarity.clearfraud.clearfraudindicator.inquiryaddressnonresidential</th>\n",
              "      <th>.underwritingdataclarity.clearfraud.clearfraudindicator.onfileaddresshighrisk</th>\n",
              "      <th>.underwritingdataclarity.clearfraud.clearfraudindicator.ssnreportedmorefrequentlyforanother</th>\n",
              "      <th>.underwritingdataclarity.clearfraud.clearfraudindicator.currentaddressreportedbytradeopenlt90days</th>\n",
              "      <th>.underwritingdataclarity.clearfraud.clearfraudindicator.inputssninvalid</th>\n",
              "      <th>.underwritingdataclarity.clearfraud.clearfraudindicator.inputssnissuedatecannotbeverified</th>\n",
              "      <th>.underwritingdataclarity.clearfraud.clearfraudindicator.inquiryaddresscautious</th>\n",
              "      <th>.underwritingdataclarity.clearfraud.clearfraudindicator.morethan3inquiriesinthelast30days</th>\n",
              "      <th>.underwritingdataclarity.clearfraud.clearfraudindicator.onfileaddressnonresidential</th>\n",
              "      <th>.underwritingdataclarity.clearfraud.clearfraudindicator.creditestablishedpriortossnissuedate</th>\n",
              "      <th>.underwritingdataclarity.clearfraud.clearfraudindicator.driverlicenseformatinvalid</th>\n",
              "      <th>.underwritingdataclarity.clearfraud.clearfraudindicator.inputssnrecordedasdeceased</th>\n",
              "      <th>.underwritingdataclarity.clearfraud.clearfraudindicator.inquiryaddresshighrisk</th>\n",
              "      <th>.underwritingdataclarity.clearfraud.clearfraudindicator.inquirycurrentaddressnotonfile</th>\n",
              "      <th>.underwritingdataclarity.clearfraud.clearfraudindicator.bestonfilessnissuedatecannotbeverified</th>\n",
              "      <th>.underwritingdataclarity.clearfraud.clearfraudindicator.highprobabilityssnbelongstoanother</th>\n",
              "      <th>.underwritingdataclarity.clearfraud.clearfraudindicator.maxnumberofssnswithanybankaccount</th>\n",
              "      <th>.underwritingdataclarity.clearfraud.clearfraudindicator.bestonfilessnrecordedasdeceased</th>\n",
              "      <th>.underwritingdataclarity.clearfraud.clearfraudindicator.currentaddressreportedbynewtradeonly</th>\n",
              "      <th>.underwritingdataclarity.clearfraud.clearfraudindicator.creditestablishedbeforeage18</th>\n",
              "      <th>.underwritingdataclarity.clearfraud.clearfraudindicator.telephonenumberinconsistentwithstate</th>\n",
              "      <th>.underwritingdataclarity.clearfraud.clearfraudindicator.driverlicenseinconsistentwithonfile</th>\n",
              "      <th>.underwritingdataclarity.clearfraud.clearfraudindicator.workphonepreviouslylistedascellphone</th>\n",
              "      <th>.underwritingdataclarity.clearfraud.clearfraudindicator.workphonepreviouslylistedashomephone</th>\n",
              "      <th>.underwritingdataclarity.clearfraud.clearfraudidentityverification.ssnnamematch</th>\n",
              "      <th>.underwritingdataclarity.clearfraud.clearfraudidentityverification.nameaddressmatch</th>\n",
              "      <th>.underwritingdataclarity.clearfraud.clearfraudidentityverification.phonematchtype</th>\n",
              "      <th>.underwritingdataclarity.clearfraud.clearfraudidentityverification.ssnnamereasoncodedescription</th>\n",
              "      <th>.underwritingdataclarity.clearfraud.clearfraudidentityverification.phonematchresult</th>\n",
              "      <th>.underwritingdataclarity.clearfraud.clearfraudidentityverification.nameaddressreasoncodedescription</th>\n",
              "      <th>.underwritingdataclarity.clearfraud.clearfraudidentityverification.phonematchtypedescription</th>\n",
              "      <th>.underwritingdataclarity.clearfraud.clearfraudidentityverification.overallmatchresult</th>\n",
              "      <th>.underwritingdataclarity.clearfraud.clearfraudidentityverification.phonetype</th>\n",
              "      <th>.underwritingdataclarity.clearfraud.clearfraudidentityverification.ssndobreasoncode</th>\n",
              "      <th>.underwritingdataclarity.clearfraud.clearfraudidentityverification.ssnnamereasoncode</th>\n",
              "      <th>.underwritingdataclarity.clearfraud.clearfraudidentityverification.nameaddressreasoncode</th>\n",
              "      <th>.underwritingdataclarity.clearfraud.clearfraudidentityverification.ssndobmatch</th>\n",
              "      <th>.underwritingdataclarity.clearfraud.clearfraudidentityverification.overallmatchreasoncode</th>\n",
              "      <th>clearfraudscore</th>\n",
              "      <th>underwritingid</th>\n",
              "    </tr>\n",
              "  </thead>\n",
              "  <tbody>\n",
              "    <tr>\n",
              "      <th>0</th>\n",
              "      <td>8.0</td>\n",
              "      <td>2.0</td>\n",
              "      <td>2.0</td>\n",
              "      <td>2.0</td>\n",
              "      <td>8.0</td>\n",
              "      <td>2.0</td>\n",
              "      <td>2.0</td>\n",
              "      <td>5.0</td>\n",
              "      <td>10.0</td>\n",
              "      <td>False</td>\n",
              "      <td>2.0</td>\n",
              "      <td>True</td>\n",
              "      <td>False</td>\n",
              "      <td>False</td>\n",
              "      <td>True</td>\n",
              "      <td>False</td>\n",
              "      <td>False</td>\n",
              "      <td>False</td>\n",
              "      <td>False</td>\n",
              "      <td>False</td>\n",
              "      <td>False</td>\n",
              "      <td>False</td>\n",
              "      <td>False</td>\n",
              "      <td>False</td>\n",
              "      <td>NaN</td>\n",
              "      <td>False</td>\n",
              "      <td>False</td>\n",
              "      <td>False</td>\n",
              "      <td>False</td>\n",
              "      <td>False</td>\n",
              "      <td>1.0</td>\n",
              "      <td>False</td>\n",
              "      <td>False</td>\n",
              "      <td>False</td>\n",
              "      <td>False</td>\n",
              "      <td>NaN</td>\n",
              "      <td>False</td>\n",
              "      <td>False</td>\n",
              "      <td>match</td>\n",
              "      <td>partial</td>\n",
              "      <td>M</td>\n",
              "      <td>NaN</td>\n",
              "      <td>unavailable</td>\n",
              "      <td>(A8) Match to Last Name only</td>\n",
              "      <td>(M) Mobile Phone</td>\n",
              "      <td>partial</td>\n",
              "      <td>NaN</td>\n",
              "      <td>NaN</td>\n",
              "      <td>NaN</td>\n",
              "      <td>A8</td>\n",
              "      <td>match</td>\n",
              "      <td>6.0</td>\n",
              "      <td>871.0</td>\n",
              "      <td>54cbffcee4b0ba763e43144d</td>\n",
              "    </tr>\n",
              "    <tr>\n",
              "      <th>1</th>\n",
              "      <td>5.0</td>\n",
              "      <td>2.0</td>\n",
              "      <td>2.0</td>\n",
              "      <td>2.0</td>\n",
              "      <td>11.0</td>\n",
              "      <td>2.0</td>\n",
              "      <td>2.0</td>\n",
              "      <td>4.0</td>\n",
              "      <td>21.0</td>\n",
              "      <td>True</td>\n",
              "      <td>3.0</td>\n",
              "      <td>True</td>\n",
              "      <td>False</td>\n",
              "      <td>False</td>\n",
              "      <td>False</td>\n",
              "      <td>False</td>\n",
              "      <td>False</td>\n",
              "      <td>False</td>\n",
              "      <td>False</td>\n",
              "      <td>False</td>\n",
              "      <td>False</td>\n",
              "      <td>False</td>\n",
              "      <td>False</td>\n",
              "      <td>False</td>\n",
              "      <td>NaN</td>\n",
              "      <td>False</td>\n",
              "      <td>False</td>\n",
              "      <td>True</td>\n",
              "      <td>False</td>\n",
              "      <td>False</td>\n",
              "      <td>1.0</td>\n",
              "      <td>False</td>\n",
              "      <td>False</td>\n",
              "      <td>False</td>\n",
              "      <td>False</td>\n",
              "      <td>NaN</td>\n",
              "      <td>False</td>\n",
              "      <td>False</td>\n",
              "      <td>match</td>\n",
              "      <td>mismatch</td>\n",
              "      <td>M</td>\n",
              "      <td>NaN</td>\n",
              "      <td>unavailable</td>\n",
              "      <td>NaN</td>\n",
              "      <td>(M) Mobile Phone</td>\n",
              "      <td>partial</td>\n",
              "      <td>NaN</td>\n",
              "      <td>NaN</td>\n",
              "      <td>NaN</td>\n",
              "      <td>NaN</td>\n",
              "      <td>match</td>\n",
              "      <td>11.0</td>\n",
              "      <td>397.0</td>\n",
              "      <td>54cc0408e4b0418d9a7f78af</td>\n",
              "    </tr>\n",
              "    <tr>\n",
              "      <th>2</th>\n",
              "      <td>9.0</td>\n",
              "      <td>4.0</td>\n",
              "      <td>2.0</td>\n",
              "      <td>3.0</td>\n",
              "      <td>10.0</td>\n",
              "      <td>8.0</td>\n",
              "      <td>2.0</td>\n",
              "      <td>9.0</td>\n",
              "      <td>25.0</td>\n",
              "      <td>False</td>\n",
              "      <td>3.0</td>\n",
              "      <td>True</td>\n",
              "      <td>False</td>\n",
              "      <td>False</td>\n",
              "      <td>False</td>\n",
              "      <td>False</td>\n",
              "      <td>False</td>\n",
              "      <td>False</td>\n",
              "      <td>False</td>\n",
              "      <td>False</td>\n",
              "      <td>False</td>\n",
              "      <td>False</td>\n",
              "      <td>False</td>\n",
              "      <td>False</td>\n",
              "      <td>NaN</td>\n",
              "      <td>False</td>\n",
              "      <td>False</td>\n",
              "      <td>False</td>\n",
              "      <td>False</td>\n",
              "      <td>False</td>\n",
              "      <td>2.0</td>\n",
              "      <td>False</td>\n",
              "      <td>False</td>\n",
              "      <td>False</td>\n",
              "      <td>False</td>\n",
              "      <td>NaN</td>\n",
              "      <td>True</td>\n",
              "      <td>False</td>\n",
              "      <td>match</td>\n",
              "      <td>match</td>\n",
              "      <td>M</td>\n",
              "      <td>NaN</td>\n",
              "      <td>unavailable</td>\n",
              "      <td>NaN</td>\n",
              "      <td>(M) Mobile Phone</td>\n",
              "      <td>match</td>\n",
              "      <td>NaN</td>\n",
              "      <td>NaN</td>\n",
              "      <td>NaN</td>\n",
              "      <td>NaN</td>\n",
              "      <td>match</td>\n",
              "      <td>1.0</td>\n",
              "      <td>572.0</td>\n",
              "      <td>54cc0683e4b0418d9a80adb6</td>\n",
              "    </tr>\n",
              "    <tr>\n",
              "      <th>3</th>\n",
              "      <td>3.0</td>\n",
              "      <td>2.0</td>\n",
              "      <td>2.0</td>\n",
              "      <td>2.0</td>\n",
              "      <td>9.0</td>\n",
              "      <td>2.0</td>\n",
              "      <td>2.0</td>\n",
              "      <td>2.0</td>\n",
              "      <td>9.0</td>\n",
              "      <td>False</td>\n",
              "      <td>1.0</td>\n",
              "      <td>True</td>\n",
              "      <td>False</td>\n",
              "      <td>False</td>\n",
              "      <td>False</td>\n",
              "      <td>False</td>\n",
              "      <td>False</td>\n",
              "      <td>False</td>\n",
              "      <td>False</td>\n",
              "      <td>False</td>\n",
              "      <td>False</td>\n",
              "      <td>False</td>\n",
              "      <td>False</td>\n",
              "      <td>False</td>\n",
              "      <td>NaN</td>\n",
              "      <td>False</td>\n",
              "      <td>False</td>\n",
              "      <td>False</td>\n",
              "      <td>False</td>\n",
              "      <td>False</td>\n",
              "      <td>1.0</td>\n",
              "      <td>False</td>\n",
              "      <td>False</td>\n",
              "      <td>False</td>\n",
              "      <td>False</td>\n",
              "      <td>NaN</td>\n",
              "      <td>False</td>\n",
              "      <td>False</td>\n",
              "      <td>match</td>\n",
              "      <td>mismatch</td>\n",
              "      <td>M</td>\n",
              "      <td>NaN</td>\n",
              "      <td>unavailable</td>\n",
              "      <td>NaN</td>\n",
              "      <td>(M) Mobile Phone</td>\n",
              "      <td>partial</td>\n",
              "      <td>NaN</td>\n",
              "      <td>NaN</td>\n",
              "      <td>NaN</td>\n",
              "      <td>NaN</td>\n",
              "      <td>match</td>\n",
              "      <td>11.0</td>\n",
              "      <td>838.0</td>\n",
              "      <td>54cc0780e4b0ba763e43b74a</td>\n",
              "    </tr>\n",
              "    <tr>\n",
              "      <th>4</th>\n",
              "      <td>5.0</td>\n",
              "      <td>5.0</td>\n",
              "      <td>2.0</td>\n",
              "      <td>2.0</td>\n",
              "      <td>6.0</td>\n",
              "      <td>5.0</td>\n",
              "      <td>2.0</td>\n",
              "      <td>5.0</td>\n",
              "      <td>6.0</td>\n",
              "      <td>False</td>\n",
              "      <td>1.0</td>\n",
              "      <td>True</td>\n",
              "      <td>False</td>\n",
              "      <td>False</td>\n",
              "      <td>False</td>\n",
              "      <td>False</td>\n",
              "      <td>False</td>\n",
              "      <td>False</td>\n",
              "      <td>False</td>\n",
              "      <td>False</td>\n",
              "      <td>False</td>\n",
              "      <td>False</td>\n",
              "      <td>False</td>\n",
              "      <td>False</td>\n",
              "      <td>NaN</td>\n",
              "      <td>False</td>\n",
              "      <td>False</td>\n",
              "      <td>False</td>\n",
              "      <td>False</td>\n",
              "      <td>False</td>\n",
              "      <td>1.0</td>\n",
              "      <td>False</td>\n",
              "      <td>False</td>\n",
              "      <td>False</td>\n",
              "      <td>False</td>\n",
              "      <td>NaN</td>\n",
              "      <td>False</td>\n",
              "      <td>False</td>\n",
              "      <td>match</td>\n",
              "      <td>match</td>\n",
              "      <td>M</td>\n",
              "      <td>NaN</td>\n",
              "      <td>unavailable</td>\n",
              "      <td>NaN</td>\n",
              "      <td>(M) Mobile Phone</td>\n",
              "      <td>match</td>\n",
              "      <td>NaN</td>\n",
              "      <td>NaN</td>\n",
              "      <td>NaN</td>\n",
              "      <td>NaN</td>\n",
              "      <td>match</td>\n",
              "      <td>1.0</td>\n",
              "      <td>768.0</td>\n",
              "      <td>54cc1d67e4b0ba763e445b45</td>\n",
              "    </tr>\n",
              "    <tr>\n",
              "      <th>...</th>\n",
              "      <td>...</td>\n",
              "      <td>...</td>\n",
              "      <td>...</td>\n",
              "      <td>...</td>\n",
              "      <td>...</td>\n",
              "      <td>...</td>\n",
              "      <td>...</td>\n",
              "      <td>...</td>\n",
              "      <td>...</td>\n",
              "      <td>...</td>\n",
              "      <td>...</td>\n",
              "      <td>...</td>\n",
              "      <td>...</td>\n",
              "      <td>...</td>\n",
              "      <td>...</td>\n",
              "      <td>...</td>\n",
              "      <td>...</td>\n",
              "      <td>...</td>\n",
              "      <td>...</td>\n",
              "      <td>...</td>\n",
              "      <td>...</td>\n",
              "      <td>...</td>\n",
              "      <td>...</td>\n",
              "      <td>...</td>\n",
              "      <td>...</td>\n",
              "      <td>...</td>\n",
              "      <td>...</td>\n",
              "      <td>...</td>\n",
              "      <td>...</td>\n",
              "      <td>...</td>\n",
              "      <td>...</td>\n",
              "      <td>...</td>\n",
              "      <td>...</td>\n",
              "      <td>...</td>\n",
              "      <td>...</td>\n",
              "      <td>...</td>\n",
              "      <td>...</td>\n",
              "      <td>...</td>\n",
              "      <td>...</td>\n",
              "      <td>...</td>\n",
              "      <td>...</td>\n",
              "      <td>...</td>\n",
              "      <td>...</td>\n",
              "      <td>...</td>\n",
              "      <td>...</td>\n",
              "      <td>...</td>\n",
              "      <td>...</td>\n",
              "      <td>...</td>\n",
              "      <td>...</td>\n",
              "      <td>...</td>\n",
              "      <td>...</td>\n",
              "      <td>...</td>\n",
              "      <td>...</td>\n",
              "      <td>...</td>\n",
              "    </tr>\n",
              "    <tr>\n",
              "      <th>49747</th>\n",
              "      <td>2.0</td>\n",
              "      <td>2.0</td>\n",
              "      <td>2.0</td>\n",
              "      <td>2.0</td>\n",
              "      <td>2.0</td>\n",
              "      <td>2.0</td>\n",
              "      <td>2.0</td>\n",
              "      <td>2.0</td>\n",
              "      <td>24.0</td>\n",
              "      <td>False</td>\n",
              "      <td>1.0</td>\n",
              "      <td>True</td>\n",
              "      <td>False</td>\n",
              "      <td>False</td>\n",
              "      <td>False</td>\n",
              "      <td>False</td>\n",
              "      <td>False</td>\n",
              "      <td>False</td>\n",
              "      <td>False</td>\n",
              "      <td>False</td>\n",
              "      <td>False</td>\n",
              "      <td>False</td>\n",
              "      <td>False</td>\n",
              "      <td>False</td>\n",
              "      <td>False</td>\n",
              "      <td>False</td>\n",
              "      <td>False</td>\n",
              "      <td>False</td>\n",
              "      <td>False</td>\n",
              "      <td>False</td>\n",
              "      <td>1.0</td>\n",
              "      <td>False</td>\n",
              "      <td>False</td>\n",
              "      <td>False</td>\n",
              "      <td>False</td>\n",
              "      <td>NaN</td>\n",
              "      <td>NaN</td>\n",
              "      <td>NaN</td>\n",
              "      <td>match</td>\n",
              "      <td>mismatch</td>\n",
              "      <td>M</td>\n",
              "      <td>NaN</td>\n",
              "      <td>unavailable</td>\n",
              "      <td>NaN</td>\n",
              "      <td>(M) Mobile Phone</td>\n",
              "      <td>partial</td>\n",
              "      <td>NaN</td>\n",
              "      <td>NaN</td>\n",
              "      <td>NaN</td>\n",
              "      <td>NaN</td>\n",
              "      <td>match</td>\n",
              "      <td>11.0</td>\n",
              "      <td>677.0</td>\n",
              "      <td>58cc5706e4b0b0437e26b19c</td>\n",
              "    </tr>\n",
              "    <tr>\n",
              "      <th>49748</th>\n",
              "      <td>6.0</td>\n",
              "      <td>4.0</td>\n",
              "      <td>1.0</td>\n",
              "      <td>4.0</td>\n",
              "      <td>11.0</td>\n",
              "      <td>4.0</td>\n",
              "      <td>1.0</td>\n",
              "      <td>4.0</td>\n",
              "      <td>17.0</td>\n",
              "      <td>False</td>\n",
              "      <td>1.0</td>\n",
              "      <td>True</td>\n",
              "      <td>False</td>\n",
              "      <td>False</td>\n",
              "      <td>False</td>\n",
              "      <td>False</td>\n",
              "      <td>False</td>\n",
              "      <td>False</td>\n",
              "      <td>False</td>\n",
              "      <td>False</td>\n",
              "      <td>False</td>\n",
              "      <td>False</td>\n",
              "      <td>False</td>\n",
              "      <td>False</td>\n",
              "      <td>False</td>\n",
              "      <td>False</td>\n",
              "      <td>False</td>\n",
              "      <td>False</td>\n",
              "      <td>False</td>\n",
              "      <td>False</td>\n",
              "      <td>1.0</td>\n",
              "      <td>False</td>\n",
              "      <td>False</td>\n",
              "      <td>False</td>\n",
              "      <td>False</td>\n",
              "      <td>NaN</td>\n",
              "      <td>NaN</td>\n",
              "      <td>NaN</td>\n",
              "      <td>match</td>\n",
              "      <td>unavailable</td>\n",
              "      <td>M</td>\n",
              "      <td>NaN</td>\n",
              "      <td>unavailable</td>\n",
              "      <td>NaN</td>\n",
              "      <td>(M) Mobile Phone</td>\n",
              "      <td>partial</td>\n",
              "      <td>NaN</td>\n",
              "      <td>NaN</td>\n",
              "      <td>NaN</td>\n",
              "      <td>NaN</td>\n",
              "      <td>match</td>\n",
              "      <td>16.0</td>\n",
              "      <td>640.0</td>\n",
              "      <td>58cc5763e4b0b0437e272d38</td>\n",
              "    </tr>\n",
              "    <tr>\n",
              "      <th>49749</th>\n",
              "      <td>4.0</td>\n",
              "      <td>4.0</td>\n",
              "      <td>1.0</td>\n",
              "      <td>4.0</td>\n",
              "      <td>4.0</td>\n",
              "      <td>4.0</td>\n",
              "      <td>1.0</td>\n",
              "      <td>4.0</td>\n",
              "      <td>5.0</td>\n",
              "      <td>False</td>\n",
              "      <td>3.0</td>\n",
              "      <td>True</td>\n",
              "      <td>False</td>\n",
              "      <td>False</td>\n",
              "      <td>False</td>\n",
              "      <td>False</td>\n",
              "      <td>False</td>\n",
              "      <td>False</td>\n",
              "      <td>False</td>\n",
              "      <td>False</td>\n",
              "      <td>False</td>\n",
              "      <td>False</td>\n",
              "      <td>False</td>\n",
              "      <td>False</td>\n",
              "      <td>False</td>\n",
              "      <td>False</td>\n",
              "      <td>False</td>\n",
              "      <td>False</td>\n",
              "      <td>False</td>\n",
              "      <td>False</td>\n",
              "      <td>2.0</td>\n",
              "      <td>False</td>\n",
              "      <td>True</td>\n",
              "      <td>False</td>\n",
              "      <td>False</td>\n",
              "      <td>NaN</td>\n",
              "      <td>NaN</td>\n",
              "      <td>NaN</td>\n",
              "      <td>match</td>\n",
              "      <td>match</td>\n",
              "      <td>M</td>\n",
              "      <td>NaN</td>\n",
              "      <td>unavailable</td>\n",
              "      <td>NaN</td>\n",
              "      <td>(M) Mobile Phone</td>\n",
              "      <td>match</td>\n",
              "      <td>NaN</td>\n",
              "      <td>NaN</td>\n",
              "      <td>NaN</td>\n",
              "      <td>NaN</td>\n",
              "      <td>match</td>\n",
              "      <td>1.0</td>\n",
              "      <td>576.0</td>\n",
              "      <td>58cc57d4e4b0b0437e278bff</td>\n",
              "    </tr>\n",
              "    <tr>\n",
              "      <th>49750</th>\n",
              "      <td>3.0</td>\n",
              "      <td>3.0</td>\n",
              "      <td>2.0</td>\n",
              "      <td>2.0</td>\n",
              "      <td>3.0</td>\n",
              "      <td>3.0</td>\n",
              "      <td>2.0</td>\n",
              "      <td>3.0</td>\n",
              "      <td>25.0</td>\n",
              "      <td>False</td>\n",
              "      <td>3.0</td>\n",
              "      <td>True</td>\n",
              "      <td>False</td>\n",
              "      <td>False</td>\n",
              "      <td>False</td>\n",
              "      <td>True</td>\n",
              "      <td>False</td>\n",
              "      <td>False</td>\n",
              "      <td>False</td>\n",
              "      <td>False</td>\n",
              "      <td>False</td>\n",
              "      <td>False</td>\n",
              "      <td>True</td>\n",
              "      <td>False</td>\n",
              "      <td>False</td>\n",
              "      <td>False</td>\n",
              "      <td>False</td>\n",
              "      <td>False</td>\n",
              "      <td>False</td>\n",
              "      <td>False</td>\n",
              "      <td>1.0</td>\n",
              "      <td>False</td>\n",
              "      <td>False</td>\n",
              "      <td>False</td>\n",
              "      <td>False</td>\n",
              "      <td>NaN</td>\n",
              "      <td>NaN</td>\n",
              "      <td>NaN</td>\n",
              "      <td>match</td>\n",
              "      <td>match</td>\n",
              "      <td>M</td>\n",
              "      <td>NaN</td>\n",
              "      <td>unavailable</td>\n",
              "      <td>NaN</td>\n",
              "      <td>(M) Mobile Phone</td>\n",
              "      <td>match</td>\n",
              "      <td>NaN</td>\n",
              "      <td>NaN</td>\n",
              "      <td>NaN</td>\n",
              "      <td>NaN</td>\n",
              "      <td>match</td>\n",
              "      <td>1.0</td>\n",
              "      <td>830.0</td>\n",
              "      <td>58cc5916e4b0b0437e2b6e07</td>\n",
              "    </tr>\n",
              "    <tr>\n",
              "      <th>49751</th>\n",
              "      <td>5.0</td>\n",
              "      <td>3.0</td>\n",
              "      <td>2.0</td>\n",
              "      <td>2.0</td>\n",
              "      <td>6.0</td>\n",
              "      <td>3.0</td>\n",
              "      <td>2.0</td>\n",
              "      <td>4.0</td>\n",
              "      <td>12.0</td>\n",
              "      <td>False</td>\n",
              "      <td>1.0</td>\n",
              "      <td>True</td>\n",
              "      <td>False</td>\n",
              "      <td>False</td>\n",
              "      <td>False</td>\n",
              "      <td>False</td>\n",
              "      <td>False</td>\n",
              "      <td>False</td>\n",
              "      <td>False</td>\n",
              "      <td>False</td>\n",
              "      <td>False</td>\n",
              "      <td>False</td>\n",
              "      <td>False</td>\n",
              "      <td>False</td>\n",
              "      <td>False</td>\n",
              "      <td>False</td>\n",
              "      <td>False</td>\n",
              "      <td>False</td>\n",
              "      <td>False</td>\n",
              "      <td>False</td>\n",
              "      <td>1.0</td>\n",
              "      <td>False</td>\n",
              "      <td>False</td>\n",
              "      <td>False</td>\n",
              "      <td>False</td>\n",
              "      <td>NaN</td>\n",
              "      <td>NaN</td>\n",
              "      <td>NaN</td>\n",
              "      <td>match</td>\n",
              "      <td>partial</td>\n",
              "      <td>M</td>\n",
              "      <td>NaN</td>\n",
              "      <td>unavailable</td>\n",
              "      <td>(A8) Match to Last Name only</td>\n",
              "      <td>(M) Mobile Phone</td>\n",
              "      <td>partial</td>\n",
              "      <td>NaN</td>\n",
              "      <td>NaN</td>\n",
              "      <td>NaN</td>\n",
              "      <td>A8</td>\n",
              "      <td>match</td>\n",
              "      <td>6.0</td>\n",
              "      <td>793.0</td>\n",
              "      <td>58cc660ce4b0b0437e47de4a</td>\n",
              "    </tr>\n",
              "  </tbody>\n",
              "</table>\n",
              "<p>49752 rows × 54 columns</p>\n",
              "</div>"
            ],
            "text/plain": [
              "       .underwritingdataclarity.clearfraud.clearfraudinquiry.thirtydaysago  ...            underwritingid\n",
              "0                                                    8.0                    ...  54cbffcee4b0ba763e43144d\n",
              "1                                                    5.0                    ...  54cc0408e4b0418d9a7f78af\n",
              "2                                                    9.0                    ...  54cc0683e4b0418d9a80adb6\n",
              "3                                                    3.0                    ...  54cc0780e4b0ba763e43b74a\n",
              "4                                                    5.0                    ...  54cc1d67e4b0ba763e445b45\n",
              "...                                                  ...                    ...                       ...\n",
              "49747                                                2.0                    ...  58cc5706e4b0b0437e26b19c\n",
              "49748                                                6.0                    ...  58cc5763e4b0b0437e272d38\n",
              "49749                                                4.0                    ...  58cc57d4e4b0b0437e278bff\n",
              "49750                                                3.0                    ...  58cc5916e4b0b0437e2b6e07\n",
              "49751                                                5.0                    ...  58cc660ce4b0b0437e47de4a\n",
              "\n",
              "[49752 rows x 54 columns]"
            ]
          },
          "metadata": {
            "tags": []
          },
          "execution_count": 43
        }
      ]
    },
    {
      "cell_type": "code",
      "metadata": {
        "id": "R3Rd99wp9FNq"
      },
      "source": [
        "# Renaming the columns for better readability \n",
        "import re\n",
        "df_regex= underwriting\n",
        "df_regex.rename(columns=lambda x: re.sub(\".underwritingdataclarity.clearfraud.clearfraud\", \"\", x), inplace=True)"
      ],
      "execution_count": 44,
      "outputs": []
    },
    {
      "cell_type": "code",
      "metadata": {
        "colab": {
          "base_uri": "https://localhost:8080/"
        },
        "id": "dbXZbtyH9hlg",
        "outputId": "232ee58b-8637-4ba6-d84d-37cb229f9bea"
      },
      "source": [
        "df_regex.info()"
      ],
      "execution_count": 45,
      "outputs": [
        {
          "output_type": "stream",
          "text": [
            "<class 'pandas.core.frame.DataFrame'>\n",
            "RangeIndex: 49752 entries, 0 to 49751\n",
            "Data columns (total 54 columns):\n",
            " #   Column                                                 Non-Null Count  Dtype  \n",
            "---  ------                                                 --------------  -----  \n",
            " 0   inquiry.thirtydaysago                                  49750 non-null  float64\n",
            " 1   inquiry.twentyfourhoursago                             49750 non-null  float64\n",
            " 2   inquiry.oneminuteago                                   49750 non-null  float64\n",
            " 3   inquiry.onehourago                                     49750 non-null  float64\n",
            " 4   inquiry.ninetydaysago                                  49750 non-null  float64\n",
            " 5   inquiry.sevendaysago                                   49750 non-null  float64\n",
            " 6   inquiry.tenminutesago                                  49750 non-null  float64\n",
            " 7   inquiry.fifteendaysago                                 49750 non-null  float64\n",
            " 8   inquiry.threesixtyfivedaysago                          49750 non-null  float64\n",
            " 9   indicator.inquiryonfilecurrentaddressconflict          49712 non-null  object \n",
            " 10  indicator.totalnumberoffraudindicators                 49735 non-null  float64\n",
            " 11  indicator.telephonenumberinconsistentwithaddress       49712 non-null  object \n",
            " 12  indicator.inquiryageyoungerthanssnissuedate            49712 non-null  object \n",
            " 13  indicator.onfileaddresscautious                        49712 non-null  object \n",
            " 14  indicator.inquiryaddressnonresidential                 49712 non-null  object \n",
            " 15  indicator.onfileaddresshighrisk                        49712 non-null  object \n",
            " 16  indicator.ssnreportedmorefrequentlyforanother          49712 non-null  object \n",
            " 17  indicator.currentaddressreportedbytradeopenlt90days    49712 non-null  object \n",
            " 18  indicator.inputssninvalid                              49712 non-null  object \n",
            " 19  indicator.inputssnissuedatecannotbeverified            49712 non-null  object \n",
            " 20  indicator.inquiryaddresscautious                       49712 non-null  object \n",
            " 21  indicator.morethan3inquiriesinthelast30days            49712 non-null  object \n",
            " 22  indicator.onfileaddressnonresidential                  49712 non-null  object \n",
            " 23  indicator.creditestablishedpriortossnissuedate         49712 non-null  object \n",
            " 24  indicator.driverlicenseformatinvalid                   44703 non-null  object \n",
            " 25  indicator.inputssnrecordedasdeceased                   49712 non-null  object \n",
            " 26  indicator.inquiryaddresshighrisk                       49712 non-null  object \n",
            " 27  indicator.inquirycurrentaddressnotonfile               49712 non-null  object \n",
            " 28  indicator.bestonfilessnissuedatecannotbeverified       49712 non-null  object \n",
            " 29  indicator.highprobabilityssnbelongstoanother           49712 non-null  object \n",
            " 30  indicator.maxnumberofssnswithanybankaccount            49735 non-null  float64\n",
            " 31  indicator.bestonfilessnrecordedasdeceased              49712 non-null  object \n",
            " 32  indicator.currentaddressreportedbynewtradeonly         49712 non-null  object \n",
            " 33  indicator.creditestablishedbeforeage18                 49712 non-null  object \n",
            " 34  indicator.telephonenumberinconsistentwithstate         49071 non-null  object \n",
            " 35  indicator.driverlicenseinconsistentwithonfile          10055 non-null  object \n",
            " 36  indicator.workphonepreviouslylistedascellphone         21416 non-null  object \n",
            " 37  indicator.workphonepreviouslylistedashomephone         21416 non-null  object \n",
            " 38  identityverification.ssnnamematch                      49720 non-null  object \n",
            " 39  identityverification.nameaddressmatch                  49720 non-null  object \n",
            " 40  identityverification.phonematchtype                    48799 non-null  object \n",
            " 41  identityverification.ssnnamereasoncodedescription      2669 non-null   object \n",
            " 42  identityverification.phonematchresult                  49712 non-null  object \n",
            " 43  identityverification.nameaddressreasoncodedescription  5627 non-null   object \n",
            " 44  identityverification.phonematchtypedescription         48799 non-null  object \n",
            " 45  identityverification.overallmatchresult                49720 non-null  object \n",
            " 46  identityverification.phonetype                         1515 non-null   object \n",
            " 47  identityverification.ssndobreasoncode                  9029 non-null   object \n",
            " 48  identityverification.ssnnamereasoncode                 2669 non-null   object \n",
            " 49  identityverification.nameaddressreasoncode             5627 non-null   object \n",
            " 50  identityverification.ssndobmatch                       49720 non-null  object \n",
            " 51  identityverification.overallmatchreasoncode            49720 non-null  float64\n",
            " 52  clearfraudscore                                        49615 non-null  float64\n",
            " 53  underwritingid                                         49752 non-null  object \n",
            "dtypes: float64(13), object(41)\n",
            "memory usage: 20.5+ MB\n"
          ],
          "name": "stdout"
        }
      ]
    },
    {
      "cell_type": "markdown",
      "metadata": {
        "id": "IqyYKFAnwbUw"
      },
      "source": [
        "<b>Most variables in this dataset are used to calculate fraud score. So we will only retain 'clearfraudscore' and 'underwritingid' from this dataset.\n",
        "\n",
        "However, these predictor variables individually can have more influence than \"clearfraudscore\". Adding all of them in the training will increase the dimensinality and make the model very complex. Some sort of feature importance/ selection techniques can be used to to reduce the complexity. </b>"
      ]
    },
    {
      "cell_type": "code",
      "metadata": {
        "id": "XdMgcWCewbUw"
      },
      "source": [
        "# Subset 2 important attributes for merging purposes.\n",
        "fraudscore=underwriting[['clearfraudscore','underwritingid']]\n",
        "\n",
        "# Then merge with 'payment_loan_merged' dataset\n",
        "df_loan_with_clearfraudscore = funded_class.merge(fraudscore,left_on='clarityFraudId',right_on='underwritingid',how='left')"
      ],
      "execution_count": 46,
      "outputs": []
    },
    {
      "cell_type": "code",
      "metadata": {
        "colab": {
          "base_uri": "https://localhost:8080/"
        },
        "id": "qIOYfqlSsjzB",
        "outputId": "ed9b61e4-7fa2-4ea5-e4ee-3329036de3de"
      },
      "source": [
        "# Check for missing values\n",
        "df_loan_with_clearfraudscore.isnull().sum().sort_values(ascending=False)"
      ],
      "execution_count": 72,
      "outputs": [
        {
          "output_type": "execute_result",
          "data": {
            "text/plain": [
              "clearfraudscore                     5116\n",
              "underwritingid                      5033\n",
              "clarityFraudId                      4997\n",
              "loanAmount                             0\n",
              "anon_ssn                               0\n",
              "payFrequency                           0\n",
              "apr                                    0\n",
              "applicationDate                        0\n",
              "originatedDate                         0\n",
              "nPaidOff                               0\n",
              "loanStatus                             0\n",
              "originallyScheduledPaymentAmount       0\n",
              "state                                  0\n",
              "leadType                               0\n",
              "leadCost                               0\n",
              "fpStatus                               0\n",
              "hasCF                                  0\n",
              "target                                 0\n",
              "Default_ratio_per_state                0\n",
              "loanId                                 0\n",
              "dtype: int64"
            ]
          },
          "metadata": {
            "tags": []
          },
          "execution_count": 72
        }
      ]
    },
    {
      "cell_type": "markdown",
      "metadata": {
        "id": "Fe6TJ-AcwbUw"
      },
      "source": [
        "<b> 3 attributes has missing values. We will only impute 'clearfraudscore' as underwritingid and clarityFraudid are ID.\n",
        "</b>"
      ]
    },
    {
      "cell_type": "code",
      "metadata": {
        "id": "MmfLgqvZwbUw",
        "colab": {
          "base_uri": "https://localhost:8080/",
          "height": 946
        },
        "outputId": "e64716ca-219a-42e6-e5d2-f4341b1b5d30"
      },
      "source": [
        "# Correlation plot of numerical vaariables in the the dataset\n",
        "Corr= df_loan_with_clearfraudscore.corr()\n",
        "plt.figure(figsize=(20, 15))\n",
        "sns.heatmap(Corr, annot= True)\n",
        "plt.show()"
      ],
      "execution_count": 78,
      "outputs": [
        {
          "output_type": "display_data",
          "data": {
            "image/png": "[encoded data removed]",
            "text/plain": [
              "<Figure size 1440x1080 with 2 Axes>"
            ]
          },
          "metadata": {
            "tags": []
          }
        }
      ]
    },
    {
      "cell_type": "markdown",
      "metadata": {
        "id": "0VTJv7AfwbUw"
      },
      "source": [
        "<b>1. Correlation plot shows there are high multi-collinearity among variables 'loanAmount' and 'originallyScheduledPaymentAmount' which is 0.95.\n",
        "    \n",
        "2. 'clearfraudscore' are positively correlated with 'loanAmount', 'originallyScheduledPaymentAmount', 'leadCost', and 'inquiry.oneminuteago'. Therefore, we will use these attributes to perform KNN imputation on 'clearfraudscore'</b>"
      ]
    },
    {
      "cell_type": "markdown",
      "metadata": {
        "id": "RYmudtlEwbUw"
      },
      "source": [
        "# KNN Imputation of Missing Values in 'clearfraudscore' Variable"
      ]
    },
    {
      "cell_type": "code",
      "metadata": {
        "id": "rvhXOslLwbUx"
      },
      "source": [
        "# Columns selected for imputation process\n",
        "cols=['loanAmount','clearfraudscore','leadCost','originallyScheduledPaymentAmount']\n",
        "\n",
        "# df1 ==> Dataset with no imputed attributes\n",
        "df1 = df_loan_with_clearfraudscore.drop(cols,axis=1)\n",
        "\n",
        "# df2 ==> Attributes for imputation\n",
        "df2 = df_loan_with_clearfraudscore[cols]"
      ],
      "execution_count": 83,
      "outputs": []
    },
    {
      "cell_type": "code",
      "metadata": {
        "id": "qZjdqjilwbUx",
        "colab": {
          "base_uri": "https://localhost:8080/",
          "height": 203
        },
        "outputId": "a7177072-b733-4951-face-f15c06223fb2"
      },
      "source": [
        "from sklearn.impute import KNNImputer\n",
        "\n",
        "# Defining imputer object\n",
        "imputer = KNNImputer(n_neighbors=2)\n",
        "\n",
        "# Applying fit_transform on the dataset\n",
        "df2_imputed = imputer.fit_transform(df2)\n",
        "\n",
        "# Converting to Pandas Dataframe\n",
        "df2_imputed = pd.DataFrame(df2_imputed)\n",
        "\n",
        "#Renaming the columns\n",
        "df2_imputed = df2_imputed.rename(columns = {0:'loanAmount', \n",
        "                                            1:'clearfraudscore', \n",
        "                                            2:'leadCost',\n",
        "                                            3:'originallyScheduledPaymentAmount'})\n",
        "df2_imputed.head()"
      ],
      "execution_count": 84,
      "outputs": [
        {
          "output_type": "execute_result",
          "data": {
            "text/html": [
              "<div>\n",
              "<style scoped>\n",
              "    .dataframe tbody tr th:only-of-type {\n",
              "        vertical-align: middle;\n",
              "    }\n",
              "\n",
              "    .dataframe tbody tr th {\n",
              "        vertical-align: top;\n",
              "    }\n",
              "\n",
              "    .dataframe thead th {\n",
              "        text-align: right;\n",
              "    }\n",
              "</style>\n",
              "<table border=\"1\" class=\"dataframe\">\n",
              "  <thead>\n",
              "    <tr style=\"text-align: right;\">\n",
              "      <th></th>\n",
              "      <th>loanAmount</th>\n",
              "      <th>clearfraudscore</th>\n",
              "      <th>leadCost</th>\n",
              "      <th>originallyScheduledPaymentAmount</th>\n",
              "    </tr>\n",
              "  </thead>\n",
              "  <tbody>\n",
              "    <tr>\n",
              "      <th>0</th>\n",
              "      <td>3000.0</td>\n",
              "      <td>879.0</td>\n",
              "      <td>0.0</td>\n",
              "      <td>6395.19</td>\n",
              "    </tr>\n",
              "    <tr>\n",
              "      <th>1</th>\n",
              "      <td>800.0</td>\n",
              "      <td>624.0</td>\n",
              "      <td>10.0</td>\n",
              "      <td>2432.08</td>\n",
              "    </tr>\n",
              "    <tr>\n",
              "      <th>2</th>\n",
              "      <td>3000.0</td>\n",
              "      <td>831.0</td>\n",
              "      <td>0.0</td>\n",
              "      <td>6651.74</td>\n",
              "    </tr>\n",
              "    <tr>\n",
              "      <th>3</th>\n",
              "      <td>2600.0</td>\n",
              "      <td>949.0</td>\n",
              "      <td>0.0</td>\n",
              "      <td>6435.35</td>\n",
              "    </tr>\n",
              "    <tr>\n",
              "      <th>4</th>\n",
              "      <td>2600.0</td>\n",
              "      <td>854.0</td>\n",
              "      <td>0.0</td>\n",
              "      <td>7991.80</td>\n",
              "    </tr>\n",
              "  </tbody>\n",
              "</table>\n",
              "</div>"
            ],
            "text/plain": [
              "   loanAmount  clearfraudscore  leadCost  originallyScheduledPaymentAmount\n",
              "0      3000.0            879.0       0.0                           6395.19\n",
              "1       800.0            624.0      10.0                           2432.08\n",
              "2      3000.0            831.0       0.0                           6651.74\n",
              "3      2600.0            949.0       0.0                           6435.35\n",
              "4      2600.0            854.0       0.0                           7991.80"
            ]
          },
          "metadata": {
            "tags": []
          },
          "execution_count": 84
        }
      ]
    },
    {
      "cell_type": "code",
      "metadata": {
        "scrolled": true,
        "id": "EOrLA3KrwbUx",
        "colab": {
          "base_uri": "https://localhost:8080/",
          "height": 307
        },
        "outputId": "8ee48501-cc99-4bf5-c49d-ab22a2a4b771"
      },
      "source": [
        "# Concatenate dataset and formed imputed 'clearfraudscore' dataset\n",
        "combined_df = pd.concat([df1,df2_imputed], axis=1, sort=False)\n",
        "combined_df.head()"
      ],
      "execution_count": 90,
      "outputs": [
        {
          "output_type": "execute_result",
          "data": {
            "text/html": [
              "<div>\n",
              "<style scoped>\n",
              "    .dataframe tbody tr th:only-of-type {\n",
              "        vertical-align: middle;\n",
              "    }\n",
              "\n",
              "    .dataframe tbody tr th {\n",
              "        vertical-align: top;\n",
              "    }\n",
              "\n",
              "    .dataframe thead th {\n",
              "        text-align: right;\n",
              "    }\n",
              "</style>\n",
              "<table border=\"1\" class=\"dataframe\">\n",
              "  <thead>\n",
              "    <tr style=\"text-align: right;\">\n",
              "      <th></th>\n",
              "      <th>loanId</th>\n",
              "      <th>anon_ssn</th>\n",
              "      <th>payFrequency</th>\n",
              "      <th>apr</th>\n",
              "      <th>applicationDate</th>\n",
              "      <th>originatedDate</th>\n",
              "      <th>nPaidOff</th>\n",
              "      <th>loanStatus</th>\n",
              "      <th>state</th>\n",
              "      <th>leadType</th>\n",
              "      <th>fpStatus</th>\n",
              "      <th>clarityFraudId</th>\n",
              "      <th>hasCF</th>\n",
              "      <th>target</th>\n",
              "      <th>Default_ratio_per_state</th>\n",
              "      <th>underwritingid</th>\n",
              "      <th>loanAmount</th>\n",
              "      <th>clearfraudscore</th>\n",
              "      <th>leadCost</th>\n",
              "      <th>originallyScheduledPaymentAmount</th>\n",
              "    </tr>\n",
              "  </thead>\n",
              "  <tbody>\n",
              "    <tr>\n",
              "      <th>0</th>\n",
              "      <td>LL-I-06644937</td>\n",
              "      <td>464f5d9ae4fa09ece4048d949191865c</td>\n",
              "      <td>B</td>\n",
              "      <td>199.0</td>\n",
              "      <td>2016-01-19 22:07:36.778</td>\n",
              "      <td>2016-01-20 15:49:18.846</td>\n",
              "      <td>0.0</td>\n",
              "      <td>Paid Off Loan</td>\n",
              "      <td>CA</td>\n",
              "      <td>prescreen</td>\n",
              "      <td>Checked</td>\n",
              "      <td>569eb3a3e4b096699f685d64</td>\n",
              "      <td>1</td>\n",
              "      <td>0</td>\n",
              "      <td>1.901639</td>\n",
              "      <td>569eb3a3e4b096699f685d64</td>\n",
              "      <td>3000.0</td>\n",
              "      <td>879.0</td>\n",
              "      <td>0.0</td>\n",
              "      <td>6395.19</td>\n",
              "    </tr>\n",
              "    <tr>\n",
              "      <th>1</th>\n",
              "      <td>LL-I-11506719</td>\n",
              "      <td>10cefd11d41612b032fd9cd2debe32dc</td>\n",
              "      <td>B</td>\n",
              "      <td>590.0</td>\n",
              "      <td>2016-08-27 09:08:05.442</td>\n",
              "      <td>2016-08-29 15:05:04.014</td>\n",
              "      <td>0.0</td>\n",
              "      <td>Paid Off Loan</td>\n",
              "      <td>CA</td>\n",
              "      <td>bvMandatory</td>\n",
              "      <td>Checked</td>\n",
              "      <td>578f9346e4b0810ad5e7b72e</td>\n",
              "      <td>1</td>\n",
              "      <td>0</td>\n",
              "      <td>1.901639</td>\n",
              "      <td>578f9346e4b0810ad5e7b72e</td>\n",
              "      <td>800.0</td>\n",
              "      <td>624.0</td>\n",
              "      <td>10.0</td>\n",
              "      <td>2432.08</td>\n",
              "    </tr>\n",
              "    <tr>\n",
              "      <th>2</th>\n",
              "      <td>LL-I-11462356</td>\n",
              "      <td>51db602c1b1f0188e409df8c872e7750</td>\n",
              "      <td>B</td>\n",
              "      <td>199.0</td>\n",
              "      <td>2016-08-25 19:39:50.049</td>\n",
              "      <td>2016-08-30 15:39:33.206</td>\n",
              "      <td>0.0</td>\n",
              "      <td>External Collection</td>\n",
              "      <td>CA</td>\n",
              "      <td>prescreen</td>\n",
              "      <td>Checked</td>\n",
              "      <td>57bf4981e4b033e6e9914132</td>\n",
              "      <td>1</td>\n",
              "      <td>1</td>\n",
              "      <td>1.901639</td>\n",
              "      <td>57bf4981e4b033e6e9914132</td>\n",
              "      <td>3000.0</td>\n",
              "      <td>831.0</td>\n",
              "      <td>0.0</td>\n",
              "      <td>6651.74</td>\n",
              "    </tr>\n",
              "    <tr>\n",
              "      <th>3</th>\n",
              "      <td>LL-I-08702744</td>\n",
              "      <td>4fd612cc7997a3a100ee9bd0a69ffb2a</td>\n",
              "      <td>M</td>\n",
              "      <td>251.0</td>\n",
              "      <td>2016-04-14 13:53:15.652</td>\n",
              "      <td>2016-04-14 15:03:08.306</td>\n",
              "      <td>0.0</td>\n",
              "      <td>Paid Off Loan</td>\n",
              "      <td>CA</td>\n",
              "      <td>prescreen</td>\n",
              "      <td>Checked</td>\n",
              "      <td>570fa0c5e4b06ef485d74a90</td>\n",
              "      <td>1</td>\n",
              "      <td>0</td>\n",
              "      <td>1.901639</td>\n",
              "      <td>570fa0c5e4b06ef485d74a90</td>\n",
              "      <td>2600.0</td>\n",
              "      <td>949.0</td>\n",
              "      <td>0.0</td>\n",
              "      <td>6435.35</td>\n",
              "    </tr>\n",
              "    <tr>\n",
              "      <th>4</th>\n",
              "      <td>LL-I-12203495</td>\n",
              "      <td>726df523f8344aea16d3c550c4d3802a</td>\n",
              "      <td>B</td>\n",
              "      <td>208.0</td>\n",
              "      <td>2016-11-22 23:08:45.558</td>\n",
              "      <td>2016-11-23 00:18:28.867</td>\n",
              "      <td>1.0</td>\n",
              "      <td>External Collection</td>\n",
              "      <td>CA</td>\n",
              "      <td>organic</td>\n",
              "      <td>Checked</td>\n",
              "      <td>NaN</td>\n",
              "      <td>0</td>\n",
              "      <td>1</td>\n",
              "      <td>1.901639</td>\n",
              "      <td>NaN</td>\n",
              "      <td>2600.0</td>\n",
              "      <td>854.0</td>\n",
              "      <td>0.0</td>\n",
              "      <td>7991.80</td>\n",
              "    </tr>\n",
              "  </tbody>\n",
              "</table>\n",
              "</div>"
            ],
            "text/plain": [
              "          loanId  ... originallyScheduledPaymentAmount\n",
              "0  LL-I-06644937  ...                          6395.19\n",
              "1  LL-I-11506719  ...                          2432.08\n",
              "2  LL-I-11462356  ...                          6651.74\n",
              "3  LL-I-08702744  ...                          6435.35\n",
              "4  LL-I-12203495  ...                          7991.80\n",
              "\n",
              "[5 rows x 20 columns]"
            ]
          },
          "metadata": {
            "tags": []
          },
          "execution_count": 90
        }
      ]
    },
    {
      "cell_type": "code",
      "metadata": {
        "colab": {
          "base_uri": "https://localhost:8080/"
        },
        "id": "dMG4ozS6AtFN",
        "outputId": "7bc35696-33b7-4d7b-f35a-e78397c6c193"
      },
      "source": [
        "# Check any missing values other than id variables\n",
        "combined_df.isnull().sum().sort_values(ascending=False)"
      ],
      "execution_count": 91,
      "outputs": [
        {
          "output_type": "execute_result",
          "data": {
            "text/plain": [
              "underwritingid                      5033\n",
              "clarityFraudId                      4997\n",
              "originallyScheduledPaymentAmount       0\n",
              "state                                  0\n",
              "anon_ssn                               0\n",
              "payFrequency                           0\n",
              "apr                                    0\n",
              "applicationDate                        0\n",
              "originatedDate                         0\n",
              "nPaidOff                               0\n",
              "loanStatus                             0\n",
              "leadType                               0\n",
              "leadCost                               0\n",
              "fpStatus                               0\n",
              "hasCF                                  0\n",
              "target                                 0\n",
              "Default_ratio_per_state                0\n",
              "loanAmount                             0\n",
              "clearfraudscore                        0\n",
              "loanId                                 0\n",
              "dtype: int64"
            ]
          },
          "metadata": {
            "tags": []
          },
          "execution_count": 91
        }
      ]
    },
    {
      "cell_type": "markdown",
      "metadata": {
        "id": "q8vo7Q3PN73W"
      },
      "source": [
        "**Note: Imputation is not required on ID columns**"
      ]
    },
    {
      "cell_type": "markdown",
      "metadata": {
        "id": "9f-GpmZPwbUx"
      },
      "source": [
        "# Feature Engineering "
      ]
    },
    {
      "cell_type": "code",
      "metadata": {
        "id": "L-4mlAQ_wbUx",
        "colab": {
          "base_uri": "https://localhost:8080/",
          "height": 307
        },
        "outputId": "30a33df2-cb5a-4c74-e185-9ee2407a2c0c"
      },
      "source": [
        "# Count of loan per SSN or customers\n",
        "combined_df['ssnLoanCount'] = combined_df['anon_ssn'].map(combined_df.groupby('anon_ssn')['loanId'].size())\n",
        "\n",
        "# Time Taken to Approve Loan\n",
        "combined_df['HoursTaken'] = (combined_df['originatedDate'] - combined_df['applicationDate']).astype('timedelta64[h]').astype(int)\n",
        "combined_df.head()"
      ],
      "execution_count": 92,
      "outputs": [
        {
          "output_type": "execute_result",
          "data": {
            "text/html": [
              "<div>\n",
              "<style scoped>\n",
              "    .dataframe tbody tr th:only-of-type {\n",
              "        vertical-align: middle;\n",
              "    }\n",
              "\n",
              "    .dataframe tbody tr th {\n",
              "        vertical-align: top;\n",
              "    }\n",
              "\n",
              "    .dataframe thead th {\n",
              "        text-align: right;\n",
              "    }\n",
              "</style>\n",
              "<table border=\"1\" class=\"dataframe\">\n",
              "  <thead>\n",
              "    <tr style=\"text-align: right;\">\n",
              "      <th></th>\n",
              "      <th>loanId</th>\n",
              "      <th>anon_ssn</th>\n",
              "      <th>payFrequency</th>\n",
              "      <th>apr</th>\n",
              "      <th>applicationDate</th>\n",
              "      <th>originatedDate</th>\n",
              "      <th>nPaidOff</th>\n",
              "      <th>loanStatus</th>\n",
              "      <th>state</th>\n",
              "      <th>leadType</th>\n",
              "      <th>fpStatus</th>\n",
              "      <th>clarityFraudId</th>\n",
              "      <th>hasCF</th>\n",
              "      <th>target</th>\n",
              "      <th>Default_ratio_per_state</th>\n",
              "      <th>underwritingid</th>\n",
              "      <th>loanAmount</th>\n",
              "      <th>clearfraudscore</th>\n",
              "      <th>leadCost</th>\n",
              "      <th>originallyScheduledPaymentAmount</th>\n",
              "      <th>ssnLoanCount</th>\n",
              "      <th>HoursTaken</th>\n",
              "    </tr>\n",
              "  </thead>\n",
              "  <tbody>\n",
              "    <tr>\n",
              "      <th>0</th>\n",
              "      <td>LL-I-06644937</td>\n",
              "      <td>464f5d9ae4fa09ece4048d949191865c</td>\n",
              "      <td>B</td>\n",
              "      <td>199.0</td>\n",
              "      <td>2016-01-19 22:07:36.778</td>\n",
              "      <td>2016-01-20 15:49:18.846</td>\n",
              "      <td>0.0</td>\n",
              "      <td>Paid Off Loan</td>\n",
              "      <td>CA</td>\n",
              "      <td>prescreen</td>\n",
              "      <td>Checked</td>\n",
              "      <td>569eb3a3e4b096699f685d64</td>\n",
              "      <td>1</td>\n",
              "      <td>0</td>\n",
              "      <td>1.901639</td>\n",
              "      <td>569eb3a3e4b096699f685d64</td>\n",
              "      <td>3000.0</td>\n",
              "      <td>879.0</td>\n",
              "      <td>0.0</td>\n",
              "      <td>6395.19</td>\n",
              "      <td>1</td>\n",
              "      <td>17</td>\n",
              "    </tr>\n",
              "    <tr>\n",
              "      <th>1</th>\n",
              "      <td>LL-I-11506719</td>\n",
              "      <td>10cefd11d41612b032fd9cd2debe32dc</td>\n",
              "      <td>B</td>\n",
              "      <td>590.0</td>\n",
              "      <td>2016-08-27 09:08:05.442</td>\n",
              "      <td>2016-08-29 15:05:04.014</td>\n",
              "      <td>0.0</td>\n",
              "      <td>Paid Off Loan</td>\n",
              "      <td>CA</td>\n",
              "      <td>bvMandatory</td>\n",
              "      <td>Checked</td>\n",
              "      <td>578f9346e4b0810ad5e7b72e</td>\n",
              "      <td>1</td>\n",
              "      <td>0</td>\n",
              "      <td>1.901639</td>\n",
              "      <td>578f9346e4b0810ad5e7b72e</td>\n",
              "      <td>800.0</td>\n",
              "      <td>624.0</td>\n",
              "      <td>10.0</td>\n",
              "      <td>2432.08</td>\n",
              "      <td>1</td>\n",
              "      <td>53</td>\n",
              "    </tr>\n",
              "    <tr>\n",
              "      <th>2</th>\n",
              "      <td>LL-I-11462356</td>\n",
              "      <td>51db602c1b1f0188e409df8c872e7750</td>\n",
              "      <td>B</td>\n",
              "      <td>199.0</td>\n",
              "      <td>2016-08-25 19:39:50.049</td>\n",
              "      <td>2016-08-30 15:39:33.206</td>\n",
              "      <td>0.0</td>\n",
              "      <td>External Collection</td>\n",
              "      <td>CA</td>\n",
              "      <td>prescreen</td>\n",
              "      <td>Checked</td>\n",
              "      <td>57bf4981e4b033e6e9914132</td>\n",
              "      <td>1</td>\n",
              "      <td>1</td>\n",
              "      <td>1.901639</td>\n",
              "      <td>57bf4981e4b033e6e9914132</td>\n",
              "      <td>3000.0</td>\n",
              "      <td>831.0</td>\n",
              "      <td>0.0</td>\n",
              "      <td>6651.74</td>\n",
              "      <td>1</td>\n",
              "      <td>115</td>\n",
              "    </tr>\n",
              "    <tr>\n",
              "      <th>3</th>\n",
              "      <td>LL-I-08702744</td>\n",
              "      <td>4fd612cc7997a3a100ee9bd0a69ffb2a</td>\n",
              "      <td>M</td>\n",
              "      <td>251.0</td>\n",
              "      <td>2016-04-14 13:53:15.652</td>\n",
              "      <td>2016-04-14 15:03:08.306</td>\n",
              "      <td>0.0</td>\n",
              "      <td>Paid Off Loan</td>\n",
              "      <td>CA</td>\n",
              "      <td>prescreen</td>\n",
              "      <td>Checked</td>\n",
              "      <td>570fa0c5e4b06ef485d74a90</td>\n",
              "      <td>1</td>\n",
              "      <td>0</td>\n",
              "      <td>1.901639</td>\n",
              "      <td>570fa0c5e4b06ef485d74a90</td>\n",
              "      <td>2600.0</td>\n",
              "      <td>949.0</td>\n",
              "      <td>0.0</td>\n",
              "      <td>6435.35</td>\n",
              "      <td>1</td>\n",
              "      <td>1</td>\n",
              "    </tr>\n",
              "    <tr>\n",
              "      <th>4</th>\n",
              "      <td>LL-I-12203495</td>\n",
              "      <td>726df523f8344aea16d3c550c4d3802a</td>\n",
              "      <td>B</td>\n",
              "      <td>208.0</td>\n",
              "      <td>2016-11-22 23:08:45.558</td>\n",
              "      <td>2016-11-23 00:18:28.867</td>\n",
              "      <td>1.0</td>\n",
              "      <td>External Collection</td>\n",
              "      <td>CA</td>\n",
              "      <td>organic</td>\n",
              "      <td>Checked</td>\n",
              "      <td>NaN</td>\n",
              "      <td>0</td>\n",
              "      <td>1</td>\n",
              "      <td>1.901639</td>\n",
              "      <td>NaN</td>\n",
              "      <td>2600.0</td>\n",
              "      <td>854.0</td>\n",
              "      <td>0.0</td>\n",
              "      <td>7991.80</td>\n",
              "      <td>1</td>\n",
              "      <td>1</td>\n",
              "    </tr>\n",
              "  </tbody>\n",
              "</table>\n",
              "</div>"
            ],
            "text/plain": [
              "          loanId                          anon_ssn  ... ssnLoanCount  HoursTaken\n",
              "0  LL-I-06644937  464f5d9ae4fa09ece4048d949191865c  ...            1          17\n",
              "1  LL-I-11506719  10cefd11d41612b032fd9cd2debe32dc  ...            1          53\n",
              "2  LL-I-11462356  51db602c1b1f0188e409df8c872e7750  ...            1         115\n",
              "3  LL-I-08702744  4fd612cc7997a3a100ee9bd0a69ffb2a  ...            1           1\n",
              "4  LL-I-12203495  726df523f8344aea16d3c550c4d3802a  ...            1           1\n",
              "\n",
              "[5 rows x 22 columns]"
            ]
          },
          "metadata": {
            "tags": []
          },
          "execution_count": 92
        }
      ]
    },
    {
      "cell_type": "code",
      "metadata": {
        "id": "1C4vSegNwbUx",
        "colab": {
          "base_uri": "https://localhost:8080/",
          "height": 268
        },
        "outputId": "aaaf2a1e-d1e6-4bda-bd70-f8a7aca356f8"
      },
      "source": [
        "# Distribution of 'clearfraudscore'\n",
        "sns.set(style=\"whitegrid\")\n",
        "plt.figure(figsize=(10, 4))\n",
        "sns.distplot(combined_df[['clearfraudscore']],\n",
        "             bins=100,\n",
        "             color='darkgreen',\n",
        "             rug=True)\n",
        "plt.show()"
      ],
      "execution_count": 96,
      "outputs": [
        {
          "output_type": "display_data",
          "data": {
            "image/png": "[encoded data removed]",
            "text/plain": [
              "<Figure size 720x288 with 1 Axes>"
            ]
          },
          "metadata": {
            "tags": []
          }
        }
      ]
    },
    {
      "cell_type": "markdown",
      "metadata": {
        "id": "lMaR9gRCwbUx"
      },
      "source": [
        "<b>The figure above shows clearfraud score have the peak around 780. </b>"
      ]
    },
    {
      "cell_type": "code",
      "metadata": {
        "id": "Z_7c-yahwbUy",
        "colab": {
          "base_uri": "https://localhost:8080/",
          "height": 287
        },
        "outputId": "d24d8217-857a-41a5-8f27-21396546acf7"
      },
      "source": [
        "# Boxplot of 'clearfraudscore'\n",
        "plt.figure(figsize=(10, 4))\n",
        "sns.boxplot(x = 'target',\n",
        "            y=\"clearfraudscore\", \n",
        "            palette=(\"BuGn_r\"),\n",
        "            data=combined_df)\n",
        "plt.show()"
      ],
      "execution_count": 95,
      "outputs": [
        {
          "output_type": "display_data",
          "data": {
            "image/png": "[encoded data removed]",
            "text/plain": [
              "<Figure size 720x288 with 1 Axes>"
            ]
          },
          "metadata": {
            "tags": []
          }
        }
      ]
    },
    {
      "cell_type": "markdown",
      "metadata": {
        "id": "ASs5-bPRwbUy"
      },
      "source": [
        "<b>Boxplot of \"clearfraudscore\" shows the median of 'target 0' is slightly higher than 'target 1'.</b>"
      ]
    },
    {
      "cell_type": "markdown",
      "metadata": {
        "id": "dvQ1OTiwwbUy"
      },
      "source": [
        "## Log Transformation of the Right Skewed Variables"
      ]
    },
    {
      "cell_type": "code",
      "metadata": {
        "id": "2OOkci1LwbUy",
        "colab": {
          "base_uri": "https://localhost:8080/",
          "height": 417
        },
        "outputId": "a1270913-5636-4d29-c0b7-64803d13d873"
      },
      "source": [
        "# apply log(x+1) element-wise to a subset of columns\n",
        "to_log = ['originallyScheduledPaymentAmount', 'loanAmount', 'nPaidOff', 'leadCost' ]\n",
        "df_log = combined_df[to_log].applymap(lambda x: np.log(x+1))\n",
        "\n",
        "# rename columns\n",
        "df_log.columns = 'log_' + df_log.columns\n",
        "df_log"
      ],
      "execution_count": 97,
      "outputs": [
        {
          "output_type": "execute_result",
          "data": {
            "text/html": [
              "<div>\n",
              "<style scoped>\n",
              "    .dataframe tbody tr th:only-of-type {\n",
              "        vertical-align: middle;\n",
              "    }\n",
              "\n",
              "    .dataframe tbody tr th {\n",
              "        vertical-align: top;\n",
              "    }\n",
              "\n",
              "    .dataframe thead th {\n",
              "        text-align: right;\n",
              "    }\n",
              "</style>\n",
              "<table border=\"1\" class=\"dataframe\">\n",
              "  <thead>\n",
              "    <tr style=\"text-align: right;\">\n",
              "      <th></th>\n",
              "      <th>log_originallyScheduledPaymentAmount</th>\n",
              "      <th>log_loanAmount</th>\n",
              "      <th>log_nPaidOff</th>\n",
              "      <th>log_leadCost</th>\n",
              "    </tr>\n",
              "  </thead>\n",
              "  <tbody>\n",
              "    <tr>\n",
              "      <th>0</th>\n",
              "      <td>8.763458</td>\n",
              "      <td>8.006701</td>\n",
              "      <td>0.000000</td>\n",
              "      <td>0.000000</td>\n",
              "    </tr>\n",
              "    <tr>\n",
              "      <th>1</th>\n",
              "      <td>7.796913</td>\n",
              "      <td>6.685861</td>\n",
              "      <td>0.000000</td>\n",
              "      <td>2.397895</td>\n",
              "    </tr>\n",
              "    <tr>\n",
              "      <th>2</th>\n",
              "      <td>8.802784</td>\n",
              "      <td>8.006701</td>\n",
              "      <td>0.000000</td>\n",
              "      <td>0.000000</td>\n",
              "    </tr>\n",
              "    <tr>\n",
              "      <th>3</th>\n",
              "      <td>8.769717</td>\n",
              "      <td>7.863651</td>\n",
              "      <td>0.000000</td>\n",
              "      <td>0.000000</td>\n",
              "    </tr>\n",
              "    <tr>\n",
              "      <th>4</th>\n",
              "      <td>8.986296</td>\n",
              "      <td>7.863651</td>\n",
              "      <td>0.693147</td>\n",
              "      <td>0.000000</td>\n",
              "    </tr>\n",
              "    <tr>\n",
              "      <th>...</th>\n",
              "      <td>...</td>\n",
              "      <td>...</td>\n",
              "      <td>...</td>\n",
              "      <td>...</td>\n",
              "    </tr>\n",
              "    <tr>\n",
              "      <th>29513</th>\n",
              "      <td>7.223361</td>\n",
              "      <td>6.216606</td>\n",
              "      <td>0.000000</td>\n",
              "      <td>1.386294</td>\n",
              "    </tr>\n",
              "    <tr>\n",
              "      <th>29514</th>\n",
              "      <td>6.774841</td>\n",
              "      <td>5.707110</td>\n",
              "      <td>1.098612</td>\n",
              "      <td>0.000000</td>\n",
              "    </tr>\n",
              "    <tr>\n",
              "      <th>29515</th>\n",
              "      <td>7.634622</td>\n",
              "      <td>6.398595</td>\n",
              "      <td>0.000000</td>\n",
              "      <td>1.945910</td>\n",
              "    </tr>\n",
              "    <tr>\n",
              "      <th>29516</th>\n",
              "      <td>6.345987</td>\n",
              "      <td>6.272877</td>\n",
              "      <td>0.000000</td>\n",
              "      <td>0.000000</td>\n",
              "    </tr>\n",
              "    <tr>\n",
              "      <th>29517</th>\n",
              "      <td>6.516163</td>\n",
              "      <td>6.439350</td>\n",
              "      <td>0.000000</td>\n",
              "      <td>0.000000</td>\n",
              "    </tr>\n",
              "  </tbody>\n",
              "</table>\n",
              "<p>29518 rows × 4 columns</p>\n",
              "</div>"
            ],
            "text/plain": [
              "       log_originallyScheduledPaymentAmount  ...  log_leadCost\n",
              "0                                  8.763458  ...      0.000000\n",
              "1                                  7.796913  ...      2.397895\n",
              "2                                  8.802784  ...      0.000000\n",
              "3                                  8.769717  ...      0.000000\n",
              "4                                  8.986296  ...      0.000000\n",
              "...                                     ...  ...           ...\n",
              "29513                              7.223361  ...      1.386294\n",
              "29514                              6.774841  ...      0.000000\n",
              "29515                              7.634622  ...      1.945910\n",
              "29516                              6.345987  ...      0.000000\n",
              "29517                              6.516163  ...      0.000000\n",
              "\n",
              "[29518 rows x 4 columns]"
            ]
          },
          "metadata": {
            "tags": []
          },
          "execution_count": 97
        }
      ]
    },
    {
      "cell_type": "code",
      "metadata": {
        "id": "1Kcz0n_ZwbUy",
        "colab": {
          "base_uri": "https://localhost:8080/",
          "height": 614
        },
        "outputId": "4e0db8ab-dddf-4c89-8c1e-9b630f762a13"
      },
      "source": [
        "#Distribution of the variables after log transformation\n",
        "fig, axes = plt.subplots(2, 2, figsize=(18, 10))\n",
        "\n",
        "fig.suptitle('')\n",
        "\n",
        "sns.histplot(ax=axes[0,0], x= df_log['log_originallyScheduledPaymentAmount'],bins=100,color='darkgreen', kde= True)\n",
        "sns.histplot(ax=axes[0,1], x= df_log['log_loanAmount'],bins=100,color='darkgreen', kde= True)\n",
        "sns.histplot(ax=axes[1,0], x= df_log['log_leadCost'],bins=100,color='darkgreen', kde= True)\n",
        "sns.histplot(ax=axes[1,1], x= df_log['log_nPaidOff'],bins=100,color='darkgreen', kde= True)\n",
        "plt.show()"
      ],
      "execution_count": 98,
      "outputs": [
        {
          "output_type": "display_data",
          "data": {
            "image/png": "[encoded data removed]",
            "text/plain": [
              "<Figure size 1296x720 with 4 Axes>"
            ]
          },
          "metadata": {
            "tags": []
          }
        }
      ]
    },
    {
      "cell_type": "code",
      "metadata": {
        "id": "kmiwOc2NwbUy",
        "colab": {
          "base_uri": "https://localhost:8080/",
          "height": 307
        },
        "outputId": "1ee6252f-b5b8-42d6-f573-e26c6e2fa18a"
      },
      "source": [
        "# Merging the log transformed variable to the dataset\n",
        "combined_df_log = pd.concat([combined_df,df_log], axis=1, sort=False)\n",
        "combined_df_log.head()"
      ],
      "execution_count": 106,
      "outputs": [
        {
          "output_type": "execute_result",
          "data": {
            "text/html": [
              "<div>\n",
              "<style scoped>\n",
              "    .dataframe tbody tr th:only-of-type {\n",
              "        vertical-align: middle;\n",
              "    }\n",
              "\n",
              "    .dataframe tbody tr th {\n",
              "        vertical-align: top;\n",
              "    }\n",
              "\n",
              "    .dataframe thead th {\n",
              "        text-align: right;\n",
              "    }\n",
              "</style>\n",
              "<table border=\"1\" class=\"dataframe\">\n",
              "  <thead>\n",
              "    <tr style=\"text-align: right;\">\n",
              "      <th></th>\n",
              "      <th>loanId</th>\n",
              "      <th>anon_ssn</th>\n",
              "      <th>payFrequency</th>\n",
              "      <th>apr</th>\n",
              "      <th>applicationDate</th>\n",
              "      <th>originatedDate</th>\n",
              "      <th>nPaidOff</th>\n",
              "      <th>loanStatus</th>\n",
              "      <th>state</th>\n",
              "      <th>leadType</th>\n",
              "      <th>fpStatus</th>\n",
              "      <th>clarityFraudId</th>\n",
              "      <th>hasCF</th>\n",
              "      <th>target</th>\n",
              "      <th>Default_ratio_per_state</th>\n",
              "      <th>underwritingid</th>\n",
              "      <th>loanAmount</th>\n",
              "      <th>clearfraudscore</th>\n",
              "      <th>leadCost</th>\n",
              "      <th>originallyScheduledPaymentAmount</th>\n",
              "      <th>ssnLoanCount</th>\n",
              "      <th>HoursTaken</th>\n",
              "      <th>log_originallyScheduledPaymentAmount</th>\n",
              "      <th>log_loanAmount</th>\n",
              "      <th>log_nPaidOff</th>\n",
              "      <th>log_leadCost</th>\n",
              "    </tr>\n",
              "  </thead>\n",
              "  <tbody>\n",
              "    <tr>\n",
              "      <th>0</th>\n",
              "      <td>LL-I-06644937</td>\n",
              "      <td>464f5d9ae4fa09ece4048d949191865c</td>\n",
              "      <td>B</td>\n",
              "      <td>199.0</td>\n",
              "      <td>2016-01-19 22:07:36.778</td>\n",
              "      <td>2016-01-20 15:49:18.846</td>\n",
              "      <td>0.0</td>\n",
              "      <td>Paid Off Loan</td>\n",
              "      <td>CA</td>\n",
              "      <td>prescreen</td>\n",
              "      <td>Checked</td>\n",
              "      <td>569eb3a3e4b096699f685d64</td>\n",
              "      <td>1</td>\n",
              "      <td>0</td>\n",
              "      <td>1.901639</td>\n",
              "      <td>569eb3a3e4b096699f685d64</td>\n",
              "      <td>3000.0</td>\n",
              "      <td>879.0</td>\n",
              "      <td>0.0</td>\n",
              "      <td>6395.19</td>\n",
              "      <td>1</td>\n",
              "      <td>17</td>\n",
              "      <td>8.763458</td>\n",
              "      <td>8.006701</td>\n",
              "      <td>0.000000</td>\n",
              "      <td>0.000000</td>\n",
              "    </tr>\n",
              "    <tr>\n",
              "      <th>1</th>\n",
              "      <td>LL-I-11506719</td>\n",
              "      <td>10cefd11d41612b032fd9cd2debe32dc</td>\n",
              "      <td>B</td>\n",
              "      <td>590.0</td>\n",
              "      <td>2016-08-27 09:08:05.442</td>\n",
              "      <td>2016-08-29 15:05:04.014</td>\n",
              "      <td>0.0</td>\n",
              "      <td>Paid Off Loan</td>\n",
              "      <td>CA</td>\n",
              "      <td>bvMandatory</td>\n",
              "      <td>Checked</td>\n",
              "      <td>578f9346e4b0810ad5e7b72e</td>\n",
              "      <td>1</td>\n",
              "      <td>0</td>\n",
              "      <td>1.901639</td>\n",
              "      <td>578f9346e4b0810ad5e7b72e</td>\n",
              "      <td>800.0</td>\n",
              "      <td>624.0</td>\n",
              "      <td>10.0</td>\n",
              "      <td>2432.08</td>\n",
              "      <td>1</td>\n",
              "      <td>53</td>\n",
              "      <td>7.796913</td>\n",
              "      <td>6.685861</td>\n",
              "      <td>0.000000</td>\n",
              "      <td>2.397895</td>\n",
              "    </tr>\n",
              "    <tr>\n",
              "      <th>2</th>\n",
              "      <td>LL-I-11462356</td>\n",
              "      <td>51db602c1b1f0188e409df8c872e7750</td>\n",
              "      <td>B</td>\n",
              "      <td>199.0</td>\n",
              "      <td>2016-08-25 19:39:50.049</td>\n",
              "      <td>2016-08-30 15:39:33.206</td>\n",
              "      <td>0.0</td>\n",
              "      <td>External Collection</td>\n",
              "      <td>CA</td>\n",
              "      <td>prescreen</td>\n",
              "      <td>Checked</td>\n",
              "      <td>57bf4981e4b033e6e9914132</td>\n",
              "      <td>1</td>\n",
              "      <td>1</td>\n",
              "      <td>1.901639</td>\n",
              "      <td>57bf4981e4b033e6e9914132</td>\n",
              "      <td>3000.0</td>\n",
              "      <td>831.0</td>\n",
              "      <td>0.0</td>\n",
              "      <td>6651.74</td>\n",
              "      <td>1</td>\n",
              "      <td>115</td>\n",
              "      <td>8.802784</td>\n",
              "      <td>8.006701</td>\n",
              "      <td>0.000000</td>\n",
              "      <td>0.000000</td>\n",
              "    </tr>\n",
              "    <tr>\n",
              "      <th>3</th>\n",
              "      <td>LL-I-08702744</td>\n",
              "      <td>4fd612cc7997a3a100ee9bd0a69ffb2a</td>\n",
              "      <td>M</td>\n",
              "      <td>251.0</td>\n",
              "      <td>2016-04-14 13:53:15.652</td>\n",
              "      <td>2016-04-14 15:03:08.306</td>\n",
              "      <td>0.0</td>\n",
              "      <td>Paid Off Loan</td>\n",
              "      <td>CA</td>\n",
              "      <td>prescreen</td>\n",
              "      <td>Checked</td>\n",
              "      <td>570fa0c5e4b06ef485d74a90</td>\n",
              "      <td>1</td>\n",
              "      <td>0</td>\n",
              "      <td>1.901639</td>\n",
              "      <td>570fa0c5e4b06ef485d74a90</td>\n",
              "      <td>2600.0</td>\n",
              "      <td>949.0</td>\n",
              "      <td>0.0</td>\n",
              "      <td>6435.35</td>\n",
              "      <td>1</td>\n",
              "      <td>1</td>\n",
              "      <td>8.769717</td>\n",
              "      <td>7.863651</td>\n",
              "      <td>0.000000</td>\n",
              "      <td>0.000000</td>\n",
              "    </tr>\n",
              "    <tr>\n",
              "      <th>4</th>\n",
              "      <td>LL-I-12203495</td>\n",
              "      <td>726df523f8344aea16d3c550c4d3802a</td>\n",
              "      <td>B</td>\n",
              "      <td>208.0</td>\n",
              "      <td>2016-11-22 23:08:45.558</td>\n",
              "      <td>2016-11-23 00:18:28.867</td>\n",
              "      <td>1.0</td>\n",
              "      <td>External Collection</td>\n",
              "      <td>CA</td>\n",
              "      <td>organic</td>\n",
              "      <td>Checked</td>\n",
              "      <td>NaN</td>\n",
              "      <td>0</td>\n",
              "      <td>1</td>\n",
              "      <td>1.901639</td>\n",
              "      <td>NaN</td>\n",
              "      <td>2600.0</td>\n",
              "      <td>854.0</td>\n",
              "      <td>0.0</td>\n",
              "      <td>7991.80</td>\n",
              "      <td>1</td>\n",
              "      <td>1</td>\n",
              "      <td>8.986296</td>\n",
              "      <td>7.863651</td>\n",
              "      <td>0.693147</td>\n",
              "      <td>0.000000</td>\n",
              "    </tr>\n",
              "  </tbody>\n",
              "</table>\n",
              "</div>"
            ],
            "text/plain": [
              "          loanId                          anon_ssn  ... log_nPaidOff  log_leadCost\n",
              "0  LL-I-06644937  464f5d9ae4fa09ece4048d949191865c  ...     0.000000      0.000000\n",
              "1  LL-I-11506719  10cefd11d41612b032fd9cd2debe32dc  ...     0.000000      2.397895\n",
              "2  LL-I-11462356  51db602c1b1f0188e409df8c872e7750  ...     0.000000      0.000000\n",
              "3  LL-I-08702744  4fd612cc7997a3a100ee9bd0a69ffb2a  ...     0.000000      0.000000\n",
              "4  LL-I-12203495  726df523f8344aea16d3c550c4d3802a  ...     0.693147      0.000000\n",
              "\n",
              "[5 rows x 26 columns]"
            ]
          },
          "metadata": {
            "tags": []
          },
          "execution_count": 106
        }
      ]
    },
    {
      "cell_type": "markdown",
      "metadata": {
        "id": "oydp5FSDwbUz"
      },
      "source": [
        "##  Dropping Less Important Variables for Model Building"
      ]
    },
    {
      "cell_type": "code",
      "metadata": {
        "id": "eROaCOwKwbUz"
      },
      "source": [
        "final_df = combined_df_log.drop(['loanId','underwritingid','clarityFraudId', 'anon_ssn','applicationDate','originatedDate','loanStatus', 'originallyScheduledPaymentAmount', 'loanAmount', 'nPaidOff', 'leadCost', 'fpStatus', 'state'], axis=1)"
      ],
      "execution_count": 107,
      "outputs": []
    },
    {
      "cell_type": "code",
      "metadata": {
        "id": "EJCQEy8lIPku"
      },
      "source": [
        "# Replace boolean values with int values\n",
        "#final_df.replace({False: 0, True: 1}, inplace=True)"
      ],
      "execution_count": 66,
      "outputs": []
    },
    {
      "cell_type": "code",
      "metadata": {
        "id": "RulPO57twbUz",
        "colab": {
          "base_uri": "https://localhost:8080/"
        },
        "outputId": "840a81ac-4a9e-4374-b81a-22150ec77534"
      },
      "source": [
        "final_df.info()"
      ],
      "execution_count": 108,
      "outputs": [
        {
          "output_type": "stream",
          "text": [
            "<class 'pandas.core.frame.DataFrame'>\n",
            "Int64Index: 29518 entries, 0 to 29517\n",
            "Data columns (total 13 columns):\n",
            " #   Column                                Non-Null Count  Dtype  \n",
            "---  ------                                --------------  -----  \n",
            " 0   payFrequency                          29518 non-null  object \n",
            " 1   apr                                   29518 non-null  float64\n",
            " 2   leadType                              29518 non-null  object \n",
            " 3   hasCF                                 29518 non-null  int64  \n",
            " 4   target                                29518 non-null  int64  \n",
            " 5   Default_ratio_per_state               29518 non-null  float64\n",
            " 6   clearfraudscore                       29518 non-null  float64\n",
            " 7   ssnLoanCount                          29518 non-null  int64  \n",
            " 8   HoursTaken                            29518 non-null  int64  \n",
            " 9   log_originallyScheduledPaymentAmount  29518 non-null  float64\n",
            " 10  log_loanAmount                        29518 non-null  float64\n",
            " 11  log_nPaidOff                          29518 non-null  float64\n",
            " 12  log_leadCost                          29518 non-null  float64\n",
            "dtypes: float64(7), int64(4), object(2)\n",
            "memory usage: 4.4+ MB\n"
          ],
          "name": "stdout"
        }
      ]
    },
    {
      "cell_type": "code",
      "metadata": {
        "id": "yIwpHOVcwbUz",
        "colab": {
          "base_uri": "https://localhost:8080/"
        },
        "outputId": "43669722-b74d-4598-8f6b-90ac53cb398a"
      },
      "source": [
        "# Checking the distribution of the target variable\n",
        "final_df['target'].value_counts(normalize=True)"
      ],
      "execution_count": 109,
      "outputs": [
        {
          "output_type": "execute_result",
          "data": {
            "text/plain": [
              "1    0.588895\n",
              "0    0.411105\n",
              "Name: target, dtype: float64"
            ]
          },
          "metadata": {
            "tags": []
          },
          "execution_count": 109
        }
      ]
    },
    {
      "cell_type": "markdown",
      "metadata": {
        "id": "jF1i9x6owbUz"
      },
      "source": [
        "## Feature Transformation: One Hot Encoding"
      ]
    },
    {
      "cell_type": "code",
      "metadata": {
        "id": "mfJHrnF_wbU0",
        "colab": {
          "base_uri": "https://localhost:8080/"
        },
        "outputId": "d3520cab-d177-45fc-9c7d-639e7ad674f8"
      },
      "source": [
        "# Perform one hot encoding\n",
        "df_encoded = pd.get_dummies(final_df)\n",
        "df_encoded.info()"
      ],
      "execution_count": 112,
      "outputs": [
        {
          "output_type": "stream",
          "text": [
            "<class 'pandas.core.frame.DataFrame'>\n",
            "Int64Index: 29518 entries, 0 to 29517\n",
            "Data columns (total 26 columns):\n",
            " #   Column                                Non-Null Count  Dtype  \n",
            "---  ------                                --------------  -----  \n",
            " 0   apr                                   29518 non-null  float64\n",
            " 1   hasCF                                 29518 non-null  int64  \n",
            " 2   target                                29518 non-null  int64  \n",
            " 3   Default_ratio_per_state               29518 non-null  float64\n",
            " 4   clearfraudscore                       29518 non-null  float64\n",
            " 5   ssnLoanCount                          29518 non-null  int64  \n",
            " 6   HoursTaken                            29518 non-null  int64  \n",
            " 7   log_originallyScheduledPaymentAmount  29518 non-null  float64\n",
            " 8   log_loanAmount                        29518 non-null  float64\n",
            " 9   log_nPaidOff                          29518 non-null  float64\n",
            " 10  log_leadCost                          29518 non-null  float64\n",
            " 11  payFrequency_B                        29518 non-null  uint8  \n",
            " 12  payFrequency_I                        29518 non-null  uint8  \n",
            " 13  payFrequency_M                        29518 non-null  uint8  \n",
            " 14  payFrequency_S                        29518 non-null  uint8  \n",
            " 15  payFrequency_W                        29518 non-null  uint8  \n",
            " 16  leadType_bvMandatory                  29518 non-null  uint8  \n",
            " 17  leadType_california                   29518 non-null  uint8  \n",
            " 18  leadType_express                      29518 non-null  uint8  \n",
            " 19  leadType_instant-offer                29518 non-null  uint8  \n",
            " 20  leadType_lead                         29518 non-null  uint8  \n",
            " 21  leadType_lionpay                      29518 non-null  uint8  \n",
            " 22  leadType_organic                      29518 non-null  uint8  \n",
            " 23  leadType_prescreen                    29518 non-null  uint8  \n",
            " 24  leadType_rc_returning                 29518 non-null  uint8  \n",
            " 25  leadType_repeat                       29518 non-null  uint8  \n",
            "dtypes: float64(7), int64(4), uint8(15)\n",
            "memory usage: 4.4 MB\n"
          ],
          "name": "stdout"
        }
      ]
    },
    {
      "cell_type": "markdown",
      "metadata": {
        "id": "VO-tOsU0RHmN"
      },
      "source": [
        "# Saving the preprocessed dataset for model training in part-2"
      ]
    },
    {
      "cell_type": "code",
      "metadata": {
        "id": "zN__AvV7OobJ"
      },
      "source": [
        "# Save the merged file to the local directory\n",
        "df_encoded.to_csv('./data/merged.csv', index_label= False)"
      ],
      "execution_count": 113,
      "outputs": []
    }
  ]
}